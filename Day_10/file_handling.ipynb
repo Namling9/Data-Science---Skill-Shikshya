{
 "cells": [
  {
   "cell_type": "markdown",
   "id": "983f4ccc-2a9a-4a0c-a7b5-1d5fcf81076c",
   "metadata": {},
   "source": [
    "Open()"
   ]
  },
  {
   "cell_type": "markdown",
   "id": "3efb2a04-8fce-4b42-9152-8324d8c74b6a",
   "metadata": {},
   "source": [
    "Write a Program that Uses Functions write_to_file and read_from_file:\n",
    "\n",
    "write_to_file(filename, content): Writes content to a file named filename. If the file doesn't exist, it should be created.\n",
    "read_from_file(filename): Reads and prints the content of a file named filename. Call write_to_file to write \"Hello, Python!\" to a file named \"greetings.txt\", then call read_from_file to read and print the content of this file.\n",
    "Selection deleted\n"
   ]
  },
  {
   "cell_type": "code",
   "execution_count": 10,
   "id": "3cac803b-7178-4442-aa26-0bd394789d1a",
   "metadata": {},
   "outputs": [],
   "source": [
    "# Your Solution Here\n",
    "\n",
    "def write_file(filename,content =\"Tello World\"):\n",
    "    file = open(file = filename, mode = \"w\")\n",
    "    file.write(content)\n",
    "    file.close()\n",
    "\n",
    "write_file(\"tello.txt\")"
   ]
  },
  {
   "cell_type": "code",
   "execution_count": 11,
   "id": "10900b1a-6f2c-432e-a6e0-a0cf7be426db",
   "metadata": {},
   "outputs": [
    {
     "name": "stdout",
     "output_type": "stream",
     "text": [
      "Tello World\n"
     ]
    }
   ],
   "source": [
    "def read_file(filename):\n",
    "    file = open(file = filename, mode = \"r\")\n",
    "    content = file.read()\n",
    "    print(content)\n",
    "    file.close()\n",
    "\n",
    "read_file(\"tello.txt\")"
   ]
  },
  {
   "cell_type": "code",
   "execution_count": null,
   "id": "f827e85d-d6e9-4ce0-841e-4d4c2cf3e196",
   "metadata": {},
   "outputs": [],
   "source": []
  }
 ],
 "metadata": {
  "kernelspec": {
   "display_name": "Python 3 (ipykernel)",
   "language": "python",
   "name": "python3"
  },
  "language_info": {
   "codemirror_mode": {
    "name": "ipython",
    "version": 3
   },
   "file_extension": ".py",
   "mimetype": "text/x-python",
   "name": "python",
   "nbconvert_exporter": "python",
   "pygments_lexer": "ipython3",
   "version": "3.12.3"
  }
 },
 "nbformat": 4,
 "nbformat_minor": 5
}
