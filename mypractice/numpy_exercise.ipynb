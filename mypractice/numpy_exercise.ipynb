{
 "cells": [
  {
   "cell_type": "code",
   "execution_count": 2,
   "id": "2d098099-26c9-4888-b394-f986106c1df7",
   "metadata": {},
   "outputs": [],
   "source": [
    "import numpy as np"
   ]
  },
  {
   "cell_type": "markdown",
   "id": "551352da-d1fb-4991-a341-5a240bacc591",
   "metadata": {},
   "source": [
    "### 1. Create a NumPy Array\n",
    "Create a 1D NumPy array with values from 0 to 9."
   ]
  },
  {
   "cell_type": "code",
   "execution_count": 4,
   "id": "83d12d43-bfc9-4d55-8a94-ad386da0d7d8",
   "metadata": {},
   "outputs": [
    {
     "data": {
      "text/plain": [
       "array([0, 1, 2, 3, 4, 5, 6, 7, 8, 9])"
      ]
     },
     "execution_count": 4,
     "metadata": {},
     "output_type": "execute_result"
    }
   ],
   "source": [
    "\n",
    "# list1 = [0,1,2,3,4,5,6,7,8,9]\n",
    "# arr = np.array(list1)\n",
    "# arr"
   ]
  },
  {
   "cell_type": "code",
   "execution_count": 8,
   "id": "c9dca309-5aaa-4e1a-8453-3bbb5055fe7c",
   "metadata": {},
   "outputs": [
    {
     "data": {
      "text/plain": [
       "array([0, 1, 2, 3, 4, 5, 6, 7, 8, 9])"
      ]
     },
     "execution_count": 8,
     "metadata": {},
     "output_type": "execute_result"
    }
   ],
   "source": [
    "arr = np.arange(0,10)\n",
    "arr"
   ]
  },
  {
   "cell_type": "markdown",
   "id": "93251112-cd2b-494a-af4a-a1073b08e3d3",
   "metadata": {},
   "source": [
    "## 2. Array Shape and Reshaping\n",
    "- Create a 2D array of shape (3, 3) filled with numbers from 1 to 9.\n",
    "- Reshape the above array to shape (1, 9)."
   ]
  },
  {
   "cell_type": "code",
   "execution_count": 15,
   "id": "3a17a40c-fac8-40e9-a754-6c24254851e5",
   "metadata": {},
   "outputs": [
    {
     "data": {
      "text/plain": [
       "array([[1, 2, 3],\n",
       "       [4, 5, 6],\n",
       "       [7, 8, 9]])"
      ]
     },
     "execution_count": 15,
     "metadata": {},
     "output_type": "execute_result"
    }
   ],
   "source": [
    "arr = np.arange(1,10).reshape(3,3)\n",
    "arr"
   ]
  },
  {
   "cell_type": "code",
   "execution_count": 16,
   "id": "d8285d90-f1b5-44a7-b2ba-6203f4293c98",
   "metadata": {},
   "outputs": [
    {
     "data": {
      "text/plain": [
       "(3, 3)"
      ]
     },
     "execution_count": 16,
     "metadata": {},
     "output_type": "execute_result"
    }
   ],
   "source": [
    "arr.shape"
   ]
  },
  {
   "cell_type": "code",
   "execution_count": 17,
   "id": "edf983e3-b057-4e05-b351-bcd9ef59c19f",
   "metadata": {},
   "outputs": [
    {
     "data": {
      "text/plain": [
       "array([[1, 2, 3, 4, 5, 6, 7, 8, 9]])"
      ]
     },
     "execution_count": 17,
     "metadata": {},
     "output_type": "execute_result"
    }
   ],
   "source": [
    "arr.reshape(1,9)"
   ]
  },
  {
   "cell_type": "markdown",
   "id": "85bb7514-a4c0-43b9-be47-5dfe6103c3ac",
   "metadata": {},
   "source": [
    "## 3. Basic Array Operations\n",
    "- Create two arrays: arr1 = [1, 2, 3] and arr2 = [4, 5, 6].\n",
    "- Perform element-wise addition, subtraction, and multiplication on these arrays."
   ]
  },
  {
   "cell_type": "code",
   "execution_count": 18,
   "id": "573cd33f-5c1b-4de2-bb9c-d3dfb92d94f6",
   "metadata": {},
   "outputs": [
    {
     "data": {
      "text/plain": [
       "array([5, 7, 9])"
      ]
     },
     "execution_count": 18,
     "metadata": {},
     "output_type": "execute_result"
    }
   ],
   "source": [
    "arr1 = np.array([1,2,3])\n",
    "arr2 = np.array([4,5,6])\n",
    "\n",
    "arr1+arr2"
   ]
  },
  {
   "cell_type": "code",
   "execution_count": 19,
   "id": "ffd9a8d1-d811-4f53-aa47-4c53104fae2a",
   "metadata": {},
   "outputs": [
    {
     "data": {
      "text/plain": [
       "array([-3, -3, -3])"
      ]
     },
     "execution_count": 19,
     "metadata": {},
     "output_type": "execute_result"
    }
   ],
   "source": [
    "arr1-arr2"
   ]
  },
  {
   "cell_type": "code",
   "execution_count": 20,
   "id": "c5b501be-92e1-4206-a6a8-0f024995f952",
   "metadata": {},
   "outputs": [
    {
     "data": {
      "text/plain": [
       "array([ 4, 10, 18])"
      ]
     },
     "execution_count": 20,
     "metadata": {},
     "output_type": "execute_result"
    }
   ],
   "source": [
    "arr1*arr2"
   ]
  },
  {
   "cell_type": "markdown",
   "id": "4b131279-9e8e-444f-bc86-e1e872d47615",
   "metadata": {},
   "source": [
    "## 4. Array Indexing and Slicing\n",
    "- Given the array arr = np.array([10, 20, 30, 40, 50]), extract the second to fourth elements (20, 30, 40).\n",
    "- Create a 3x3 matrix and extract the second row and the third column.\n"
   ]
  },
  {
   "cell_type": "code",
   "execution_count": 22,
   "id": "e3aab6f7-07e9-407e-825c-ce3679a39bd3",
   "metadata": {},
   "outputs": [
    {
     "data": {
      "text/plain": [
       "array([20, 30, 40])"
      ]
     },
     "execution_count": 22,
     "metadata": {},
     "output_type": "execute_result"
    }
   ],
   "source": [
    "arr = np.array([10,20,30,40,50])\n",
    "arr[1:4]"
   ]
  },
  {
   "cell_type": "markdown",
   "id": "8e1cffd7-0898-44c7-a55e-fffc5ae342aa",
   "metadata": {},
   "source": [
    "## 5. Statistical Functions\n",
    "- Create an array of random integers between 1 and 100 of size (4, 4).\n",
    "- Find the mean, sum, and standard deviation of the array."
   ]
  },
  {
   "cell_type": "code",
   "execution_count": 24,
   "id": "7af99fbe-cfcf-4eb5-b2dd-0af48634bdd7",
   "metadata": {},
   "outputs": [
    {
     "data": {
      "text/plain": [
       "array([[ 8, 18, 75, 12],\n",
       "       [54, 18, 94, 23],\n",
       "       [50,  1, 51, 92],\n",
       "       [24, 11, 29, 98]])"
      ]
     },
     "execution_count": 24,
     "metadata": {},
     "output_type": "execute_result"
    }
   ],
   "source": [
    "array = np.random.randint(low = 1, high = 101, size = (4,4))\n",
    "array"
   ]
  },
  {
   "cell_type": "code",
   "execution_count": 26,
   "id": "c3e13be3-17af-4951-a771-c75f7133f06c",
   "metadata": {},
   "outputs": [
    {
     "name": "stdout",
     "output_type": "stream",
     "text": [
      "Mean : 41.125\n",
      "Sum: 658\n",
      "Standard Deviation: 32.02513661173048\n"
     ]
    }
   ],
   "source": [
    "mean = np.mean(array)\n",
    "total_sum = np.sum(array)\n",
    "standard_deviation = np.std(array)\n",
    "\n",
    "print(f'Mean : {mean}')\n",
    "print(f\"Sum: {total_sum}\")\n",
    "print(f\"Standard Deviation: {standard_deviation}\")"
   ]
  },
  {
   "cell_type": "markdown",
   "id": "b422f51c-8283-4e28-813c-481a594e6e83",
   "metadata": {},
   "source": [
    "## 6. Array Broadcasting\n",
    "Create a 5x5 array of ones and multiply it by a 1D array [1, 2, 3, 4, 5] using broadcasting."
   ]
  },
  {
   "cell_type": "code",
   "execution_count": 33,
   "id": "ee6e01ff-ef75-4531-b03a-f8a0f6061ca6",
   "metadata": {},
   "outputs": [
    {
     "data": {
      "text/plain": [
       "array([[1., 2., 3., 4., 5.],\n",
       "       [1., 2., 3., 4., 5.],\n",
       "       [1., 2., 3., 4., 5.],\n",
       "       [1., 2., 3., 4., 5.],\n",
       "       [1., 2., 3., 4., 5.]])"
      ]
     },
     "execution_count": 33,
     "metadata": {},
     "output_type": "execute_result"
    }
   ],
   "source": [
    "arr = np.ones((5,5))\n",
    "\n",
    "D1array = np.array([1,2,3,4,5])\n",
    "\n",
    "arr*D1array"
   ]
  },
  {
   "cell_type": "markdown",
   "id": "f958922f-1a2b-46ae-8843-b59273034285",
   "metadata": {},
   "source": [
    "## 7. Logical Operations\n",
    "- Create an array of 10 random integers between 0 and 50.\n",
    "- Print the array elements greater than 25.\n"
   ]
  },
  {
   "cell_type": "code",
   "execution_count": 44,
   "id": "3be3b50f-0c78-4490-948b-757454178f58",
   "metadata": {},
   "outputs": [
    {
     "name": "stdout",
     "output_type": "stream",
     "text": [
      "[[ True False  True False False False False  True False  True]]\n"
     ]
    }
   ],
   "source": [
    "array = np.random.randint(low=0, high=51, size=(1,10))\n",
    "print(array>25)"
   ]
  },
  {
   "cell_type": "code",
   "execution_count": 45,
   "id": "14f1e8ee-1765-4309-afce-1b1b1e664277",
   "metadata": {},
   "outputs": [
    {
     "name": "stdout",
     "output_type": "stream",
     "text": [
      "[33 41 26 48]\n"
     ]
    }
   ],
   "source": [
    "print(array[array>25])"
   ]
  },
  {
   "cell_type": "markdown",
   "id": "6791be1f-4e03-412b-b325-a608843137c4",
   "metadata": {},
   "source": [
    "## 8. Create Special Arrays\n",
    "- Create a 4x4 identity matrix.\n",
    "- Create an array filled with zeros of size 3x4.\n",
    "- Create a 3x3 matrix filled with random values between 0 and 1."
   ]
  },
  {
   "cell_type": "code",
   "execution_count": 52,
   "id": "a0b5d972-be76-4bf9-8d42-14ac851b04df",
   "metadata": {},
   "outputs": [
    {
     "data": {
      "text/plain": [
       "array([[1., 0., 0., 0.],\n",
       "       [0., 1., 0., 0.],\n",
       "       [0., 0., 1., 0.],\n",
       "       [0., 0., 0., 1.]])"
      ]
     },
     "execution_count": 52,
     "metadata": {},
     "output_type": "execute_result"
    }
   ],
   "source": [
    "arr_identity = np.identity(4)\n",
    "arr_identity"
   ]
  },
  {
   "cell_type": "code",
   "execution_count": 53,
   "id": "fce20f9e-06b2-4b70-814f-f1691c5731a4",
   "metadata": {},
   "outputs": [
    {
     "data": {
      "text/plain": [
       "array([[0., 0., 0., 0.],\n",
       "       [0., 0., 0., 0.],\n",
       "       [0., 0., 0., 0.]])"
      ]
     },
     "execution_count": 53,
     "metadata": {},
     "output_type": "execute_result"
    }
   ],
   "source": [
    "arr_zeros = np.zeros((3,4))\n",
    "arr_zeros"
   ]
  },
  {
   "cell_type": "code",
   "execution_count": 62,
   "id": "788ac98d-db23-4e74-8971-d3a48e0ea67a",
   "metadata": {},
   "outputs": [
    {
     "data": {
      "text/plain": [
       "array([[0, 1, 1],\n",
       "       [1, 0, 0],\n",
       "       [0, 1, 0]])"
      ]
     },
     "execution_count": 62,
     "metadata": {},
     "output_type": "execute_result"
    }
   ],
   "source": [
    "zero_and_one = np.random.randint(low = 0, high = 2, size= (3,3))\n",
    "zero_and_one"
   ]
  },
  {
   "cell_type": "markdown",
   "id": "58053b88-5c20-4361-9943-e8bd1b5c1ba4",
   "metadata": {},
   "source": [
    "## 9. Matrix Operations\n",
    "- Create two 2x2 matrices and perform matrix multiplication.\n",
    "- Find the transpose of a 3x3 matrix."
   ]
  },
  {
   "cell_type": "code",
   "execution_count": 67,
   "id": "a0b38c33-f192-48ff-9575-4ad084f4830f",
   "metadata": {},
   "outputs": [
    {
     "name": "stdout",
     "output_type": "stream",
     "text": [
      "[[16  7]\n",
      " [14 28]]\n",
      "[[16 26]\n",
      " [24  0]]\n"
     ]
    },
    {
     "data": {
      "text/plain": [
       "array([[256, 182],\n",
       "       [336,   0]])"
      ]
     },
     "execution_count": 67,
     "metadata": {},
     "output_type": "execute_result"
    }
   ],
   "source": [
    "arr1 = np.random.randint(low = 0, high = 40, size = (2,2))\n",
    "arr2 = np.random.randint(low = 0, high = 30, size = (2,2))\n",
    "print(arr1)\n",
    "print(arr2)\n",
    "arr1*arr2"
   ]
  },
  {
   "cell_type": "markdown",
   "id": "2126a4e9-673f-4b35-8849-03785fca9441",
   "metadata": {},
   "source": [
    "## 10. Advanced Slicing\n",
    "- Given the array arr = np.arange(1, 17).reshape(4, 4), extract the following sub-arrays:\n",
    "- First two rows and last two columns.\n",
    "- Bottom-right 2x2 block.\n"
   ]
  },
  {
   "cell_type": "code",
   "execution_count": 68,
   "id": "86f789c7-62d5-42fc-ab9a-f7f4f04c7308",
   "metadata": {},
   "outputs": [
    {
     "data": {
      "text/plain": [
       "array([[ 1,  2,  3,  4],\n",
       "       [ 5,  6,  7,  8],\n",
       "       [ 9, 10, 11, 12],\n",
       "       [13, 14, 15, 16]])"
      ]
     },
     "execution_count": 68,
     "metadata": {},
     "output_type": "execute_result"
    }
   ],
   "source": [
    "arr = np.arange(1, 17).reshape(4, 4)\n",
    "arr"
   ]
  },
  {
   "cell_type": "code",
   "execution_count": 69,
   "id": "32313d64-6630-4a53-95eb-29e767f1581f",
   "metadata": {},
   "outputs": [
    {
     "data": {
      "text/plain": [
       "array([[3, 4],\n",
       "       [7, 8]])"
      ]
     },
     "execution_count": 69,
     "metadata": {},
     "output_type": "execute_result"
    }
   ],
   "source": [
    "arr[:2, -2:]"
   ]
  },
  {
   "cell_type": "code",
   "execution_count": null,
   "id": "f38ad3c0-0dff-40c8-adda-c725973d3c36",
   "metadata": {},
   "outputs": [],
   "source": []
  }
 ],
 "metadata": {
  "kernelspec": {
   "display_name": "Python 3 (ipykernel)",
   "language": "python",
   "name": "python3"
  },
  "language_info": {
   "codemirror_mode": {
    "name": "ipython",
    "version": 3
   },
   "file_extension": ".py",
   "mimetype": "text/x-python",
   "name": "python",
   "nbconvert_exporter": "python",
   "pygments_lexer": "ipython3",
   "version": "3.12.3"
  }
 },
 "nbformat": 4,
 "nbformat_minor": 5
}
