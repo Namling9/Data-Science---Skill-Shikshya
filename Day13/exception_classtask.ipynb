{
 "cells": [
  {
   "cell_type": "markdown",
   "id": "9c27cf2a-b058-4451-b90b-3210bb3f7875",
   "metadata": {},
   "source": [
    "## Custom Exception: \n",
    "\n",
    "Define a custom exception NegativeNumberError. Write a function sqrt_of_number that calculates the square root of a number but raises NegativeNumberError if the input is a negative number.\n",
    "\n",
    "```python\n",
    "class NegativeNumberError(Exception):\n",
    "    pass\n",
    "\n",
    "def sqrt_of_number(x):\n",
    "    # Your code here\n",
    "```"
   ]
  },
  {
   "cell_type": "code",
   "execution_count": 14,
   "id": "8740614d-d5ac-4130-a5b4-b9453f2735eb",
   "metadata": {},
   "outputs": [
    {
     "name": "stdout",
     "output_type": "stream",
     "text": [
      "Not a real number\n"
     ]
    }
   ],
   "source": [
    "import math\n",
    "\n",
    "class NegativeNumberError(Exception):\n",
    "    pass\n",
    "\n",
    "def sqrt_of_number(x):\n",
    "    \n",
    "        if x < 0:\n",
    "            raise NegativeNumberError(\"Not a real number\")\n",
    "            \n",
    "        value = math.sqrt(x)\n",
    "        print(f\"Square root of x: {round(value,2)}\")\n",
    "\n",
    "\n",
    "try: \n",
    "    sqrt_of_number(-4)\n",
    "    sqrt_of_number(5)\n",
    "\n",
    "except NegativeNumberError as e :\n",
    "        print(e)\n",
    "\n"
   ]
  },
  {
   "cell_type": "code",
   "execution_count": null,
   "id": "40f3af65-1f97-4047-9d11-b629ccb1ab0f",
   "metadata": {},
   "outputs": [],
   "source": []
  }
 ],
 "metadata": {
  "kernelspec": {
   "display_name": "Python 3 (ipykernel)",
   "language": "python",
   "name": "python3"
  },
  "language_info": {
   "codemirror_mode": {
    "name": "ipython",
    "version": 3
   },
   "file_extension": ".py",
   "mimetype": "text/x-python",
   "name": "python",
   "nbconvert_exporter": "python",
   "pygments_lexer": "ipython3",
   "version": "3.12.3"
  }
 },
 "nbformat": 4,
 "nbformat_minor": 5
}
