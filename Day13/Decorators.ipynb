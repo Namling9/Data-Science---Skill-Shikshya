{
 "cells": [
  {
   "cell_type": "code",
   "execution_count": 2,
   "id": "3d57dada-2dd6-4be3-9af0-3319860c380c",
   "metadata": {},
   "outputs": [],
   "source": [
    "\n",
    "def my_decorator(func):\n",
    "    def wrapper():\n",
    "        print(\"Before function execution\")\n",
    "        func()\n",
    "        print(\"After function execution\")\n",
    "    return wrapper\n"
   ]
  },
  {
   "cell_type": "code",
   "execution_count": 3,
   "id": "c5b0cf2c-4e0c-4d7f-8549-24d53be694b6",
   "metadata": {},
   "outputs": [
    {
     "name": "stdout",
     "output_type": "stream",
     "text": [
      "Before function execution\n",
      "Hello world\n",
      "After function execution\n"
     ]
    }
   ],
   "source": [
    "@my_decorator\n",
    "def say_hello():\n",
    "    print(\"Hello world\")\n",
    "\n",
    "say_hello()"
   ]
  },
  {
   "cell_type": "code",
   "execution_count": 12,
   "id": "76a04ed1-a651-4a98-a798-f93046ed3f2e",
   "metadata": {},
   "outputs": [],
   "source": [
    "\n",
    "def validate_email(func):\n",
    "    \n",
    "    def wrapper(user_email):\n",
    "        \n",
    "        if user_email.endswith('@vrit.com'):\n",
    "            func(user_email)\n",
    "            \n",
    "        else:\n",
    "            print(\"Only vrit client are supported.\")\n",
    "    return wrapper\n",
    "    "
   ]
  },
  {
   "cell_type": "code",
   "execution_count": 13,
   "id": "1bec8dbd-2f07-45e3-97be-1a15060cd3d5",
   "metadata": {},
   "outputs": [],
   "source": [
    "\n",
    "@validate_email\n",
    "def get_data(email):\n",
    "    \n",
    "    print(\"Accessing DB...\")\n",
    "    print(f\"Data Fetched by {email}\")"
   ]
  },
  {
   "cell_type": "code",
   "execution_count": 14,
   "id": "09199ef4-6c2c-4bcd-9214-1da146071d4c",
   "metadata": {},
   "outputs": [
    {
     "name": "stdout",
     "output_type": "stream",
     "text": [
      "Only vrit client are supported.\n"
     ]
    }
   ],
   "source": [
    "get_data(\"Namling@gmail.com\")"
   ]
  },
  {
   "cell_type": "code",
   "execution_count": 15,
   "id": "dcc3fd7f-c010-4778-a06d-0fc565bde84f",
   "metadata": {},
   "outputs": [
    {
     "name": "stdout",
     "output_type": "stream",
     "text": [
      "Accessing DB...\n",
      "Data Fetched by namling@vrit.com\n"
     ]
    }
   ],
   "source": [
    "get_data('namling@vrit.com')"
   ]
  },
  {
   "cell_type": "code",
   "execution_count": 25,
   "id": "aa30650c-8a81-46ba-bfcf-83f70ffc87fe",
   "metadata": {},
   "outputs": [
    {
     "name": "stdout",
     "output_type": "stream",
     "text": [
      "It took seconds : 2.0003697872161865\n"
     ]
    }
   ],
   "source": [
    "import time\n",
    "\n",
    "st = time.time()\n",
    "\n",
    "sleep = time.sleep(2)\n",
    "\n",
    "ed = time.time()\n",
    "\n",
    "print(f\"It took seconds : {ed - st}\")"
   ]
  },
  {
   "cell_type": "code",
   "execution_count": 5,
   "id": "efb95215-ac25-4bab-bdc9-f19a337512d1",
   "metadata": {},
   "outputs": [],
   "source": [
    "# ## Function Timing Decorator: \n",
    "\n",
    "# Write a decorator `time_it` that measures the time it takes for a function to execute. \n",
    "\n",
    "# *Apply it to a function slow_function that sleeps for 2 seconds and prints \"Done sleeping\".*\n",
    "import time\n",
    "def time_it(func):\n",
    "    def wrapper(*args, **kwargs):\n",
    "        \n",
    "        st =time.time()\n",
    "        func(*args)\n",
    "        ed = time.time()\n",
    "        print(\"Done sleeping\")\n",
    "        \n",
    "        print(f\"It took {ed-st} seconds\")\n",
    "        \n",
    "        \n",
    "    return wrapper\n",
    "    \n"
   ]
  },
  {
   "cell_type": "code",
   "execution_count": 6,
   "id": "bddf088e-3fb7-4729-b5c4-ed46f7bdb8f3",
   "metadata": {},
   "outputs": [
    {
     "name": "stdout",
     "output_type": "stream",
     "text": [
      "Done sleeping\n",
      "It took 1.1920928955078125e-06 seconds\n"
     ]
    }
   ],
   "source": [
    "@time_it\n",
    "def calculate_time(a,b):\n",
    "    \n",
    "    result = a+b\n",
    "    return result\n",
    "    \n",
    "calculate_time(5,5)"
   ]
  },
  {
   "cell_type": "code",
   "execution_count": 7,
   "id": "e51b043f-7057-4385-8edf-9037cc809e5d",
   "metadata": {},
   "outputs": [
    {
     "name": "stdout",
     "output_type": "stream",
     "text": [
      "Done sleeping\n",
      "It took 1.430511474609375e-06 seconds\n",
      "Square: None\n"
     ]
    }
   ],
   "source": [
    "@time_it\n",
    "def calculate_square(n):\n",
    "    res = n*n\n",
    "    return res\n",
    "    \n",
    "\n",
    "\n",
    "sq = calculate_square(5)\n",
    "print(f\"Square: {sq}\")"
   ]
  },
  {
   "cell_type": "code",
   "execution_count": null,
   "id": "319e3430-1b99-4ac7-94b5-1be70a18d85c",
   "metadata": {},
   "outputs": [],
   "source": []
  }
 ],
 "metadata": {
  "kernelspec": {
   "display_name": "Python 3 (ipykernel)",
   "language": "python",
   "name": "python3"
  },
  "language_info": {
   "codemirror_mode": {
    "name": "ipython",
    "version": 3
   },
   "file_extension": ".py",
   "mimetype": "text/x-python",
   "name": "python",
   "nbconvert_exporter": "python",
   "pygments_lexer": "ipython3",
   "version": "3.12.3"
  }
 },
 "nbformat": 4,
 "nbformat_minor": 5
}
