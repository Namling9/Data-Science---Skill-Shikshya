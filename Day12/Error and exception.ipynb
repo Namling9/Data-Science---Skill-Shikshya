{
 "cells": [
  {
   "cell_type": "code",
   "execution_count": 1,
   "id": "9ad792d4-f73c-4f69-8acc-a05ddac308c1",
   "metadata": {},
   "outputs": [
    {
     "name": "stdin",
     "output_type": "stream",
     "text": [
      "Enter the number:  12\n",
      "Enter another number:  0\n"
     ]
    },
    {
     "name": "stdout",
     "output_type": "stream",
     "text": [
      "Connot divide by zero\n",
      "This block is always executed\n"
     ]
    }
   ],
   "source": [
    "try: \n",
    "    x = int(input(\"Enter the number: \"))\n",
    "    y = int(input(\"Enter another number: \"))\n",
    "    z = x/y\n",
    "\n",
    "except ZeroDivisionError:\n",
    "    print(\"Connot divide by zero\")\n",
    "\n",
    "except Exception as excep:\n",
    "    print(\"Error occur: \",excep)\n",
    "\n",
    "else: print(\"The result is: \",z)\n",
    "\n",
    "finally: \n",
    "    print(\"This block is always executed\")"
   ]
  },
  {
   "cell_type": "code",
   "execution_count": 2,
   "id": "b9b37bb7-f8d2-47aa-b8d3-858e55b1ca30",
   "metadata": {},
   "outputs": [
    {
     "name": "stdin",
     "output_type": "stream",
     "text": [
      "Enter the number:  1231\n",
      "Enter another number:  \n"
     ]
    },
    {
     "name": "stdout",
     "output_type": "stream",
     "text": [
      "Error occur:  invalid literal for int() with base 10: ''\n"
     ]
    }
   ],
   "source": [
    "try: \n",
    "    x = int(input(\"Enter the number: \"))\n",
    "    y = int(input(\"Enter another number: \"))\n",
    "    z = x/y\n",
    "\n",
    "except ZeroDivisionError:\n",
    "    print(\"Connot divide by zero\")\n",
    "\n",
    "except Exception as excep:\n",
    "    print(\"Error occur: \",excep)\n",
    "\n",
    "else: print(\"The result is: \",z)"
   ]
  },
  {
   "cell_type": "code",
   "execution_count": 3,
   "id": "50335a30-f1b9-4e7f-9200-b26767f941ca",
   "metadata": {},
   "outputs": [
    {
     "name": "stdin",
     "output_type": "stream",
     "text": [
      "Enter the number:  10\n",
      "Enter another number:  2\n"
     ]
    },
    {
     "name": "stdout",
     "output_type": "stream",
     "text": [
      "The result is:  5.0\n"
     ]
    }
   ],
   "source": [
    "try: \n",
    "    x = int(input(\"Enter the number: \"))\n",
    "    y = int(input(\"Enter another number: \"))\n",
    "    z = x/y\n",
    "\n",
    "except ZeroDivisionError:\n",
    "    print(\"Connot divide by zero\")\n",
    "\n",
    "except Exception as excep:\n",
    "    print(\"Error occur: \",excep)\n",
    "\n",
    "else: print(\"The result is: \",z)"
   ]
  },
  {
   "cell_type": "markdown",
   "id": "157a0cf9-ca87-465d-af5c-7050fbdf99b5",
   "metadata": {},
   "source": [
    "Custom Error"
   ]
  },
  {
   "cell_type": "code",
   "execution_count": null,
   "id": "1ef3114e-715e-4c12-9063-e577115cd436",
   "metadata": {},
   "outputs": [],
   "source": [
    "class UserNotFoundError(Exception):\n",
    "    pass"
   ]
  },
  {
   "cell_type": "code",
   "execution_count": null,
   "id": "92a683c1-21de-4606-9659-5c2f1314a729",
   "metadata": {},
   "outputs": [],
   "source": [
    "def get_user(user_id):\n",
    "    try:-\n",
    "        raise UserNotFoundError()"
   ]
  },
  {
   "cell_type": "code",
   "execution_count": 4,
   "id": "ab0a66cd-5076-4438-a8fa-a01388930f87",
   "metadata": {},
   "outputs": [
    {
     "name": "stdout",
     "output_type": "stream",
     "text": [
      "Error, Index out of bounds\n",
      "2\n"
     ]
    }
   ],
   "source": [
    "import random\n",
    "\n",
    "def safe_list_get(list, index):\n",
    "    try:\n",
    "        return list[index]\n",
    "    except IndexError:\n",
    "        print(\"Error, Index out of bounds\")\n",
    "        return random.randint(0,10)\n",
    "\n",
    "list = [1,2,3,4]\n",
    "index = 7\n",
    "print(safe_list_get(list, index))"
   ]
  },
  {
   "cell_type": "code",
   "execution_count": null,
   "id": "36c70be0-cde1-41a1-8000-c0fed2569b1d",
   "metadata": {},
   "outputs": [],
   "source": []
  }
 ],
 "metadata": {
  "kernelspec": {
   "display_name": "Python 3 (ipykernel)",
   "language": "python",
   "name": "python3"
  },
  "language_info": {
   "codemirror_mode": {
    "name": "ipython",
    "version": 3
   },
   "file_extension": ".py",
   "mimetype": "text/x-python",
   "name": "python",
   "nbconvert_exporter": "python",
   "pygments_lexer": "ipython3",
   "version": "3.12.3"
  }
 },
 "nbformat": 4,
 "nbformat_minor": 5
}
