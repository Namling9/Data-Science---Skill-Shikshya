{
 "cells": [
  {
   "cell_type": "markdown",
   "id": "363b1c67-cc48-4e6a-b8f2-4f97409739aa",
   "metadata": {},
   "source": [
    "# Python raise Statement"
   ]
  },
  {
   "cell_type": "code",
   "execution_count": null,
   "id": "5d9fa6c8-6760-498a-99be-44de19f9218d",
   "metadata": {},
   "outputs": [],
   "source": [
    "raise ExceptionType(\"Raise Vlaue error\")"
   ]
  },
  {
   "cell_type": "code",
   "execution_count": 2,
   "id": "261cbf4a-f974-4fd7-88f4-918ffc0e14d3",
   "metadata": {},
   "outputs": [
    {
     "ename": "ValueError",
     "evalue": "x should not be greater than 5",
     "output_type": "error",
     "traceback": [
      "\u001b[0;31m---------------------------------------------------------------------------\u001b[0m",
      "\u001b[0;31mValueError\u001b[0m                                Traceback (most recent call last)",
      "Cell \u001b[0;32mIn[2], line 3\u001b[0m\n\u001b[1;32m      1\u001b[0m x \u001b[38;5;241m=\u001b[39m \u001b[38;5;241m10\u001b[39m\n\u001b[1;32m      2\u001b[0m \u001b[38;5;28;01mif\u001b[39;00m x \u001b[38;5;241m>\u001b[39m \u001b[38;5;241m5\u001b[39m:\n\u001b[0;32m----> 3\u001b[0m     \u001b[38;5;28;01mraise\u001b[39;00m \u001b[38;5;167;01mValueError\u001b[39;00m(\u001b[38;5;124mf\u001b[39m\u001b[38;5;124m\"\u001b[39m\u001b[38;5;124mx should not be greater than 5\u001b[39m\u001b[38;5;124m\"\u001b[39m)\n",
      "\u001b[0;31mValueError\u001b[0m: x should not be greater than 5"
     ]
    }
   ],
   "source": [
    "x = 10\n",
    "if x > 5:\n",
    "    raise ValueError(f\"x should not be greater than 5\")"
   ]
  },
  {
   "cell_type": "code",
   "execution_count": 4,
   "id": "867784a3-ea2c-4382-bdca-1c68dbc3711a",
   "metadata": {},
   "outputs": [],
   "source": [
    "class UserNotFoundError(Exception):\n",
    "    pass\n",
    "\n",
    "def get_user(user_id):\n",
    "    try: \n",
    "        raise UserNotFound(f\"User Not Found\")\n",
    "        \n",
    "    except UserNotFOundError as ex:\n",
    "        print(\"Not Found\")"
   ]
  },
  {
   "cell_type": "code",
   "execution_count": null,
   "id": "3485ba41-2cd7-43c9-9010-39d9360c6049",
   "metadata": {},
   "outputs": [],
   "source": []
  }
 ],
 "metadata": {
  "kernelspec": {
   "display_name": "Python 3 (ipykernel)",
   "language": "python",
   "name": "python3"
  },
  "language_info": {
   "codemirror_mode": {
    "name": "ipython",
    "version": 3
   },
   "file_extension": ".py",
   "mimetype": "text/x-python",
   "name": "python",
   "nbconvert_exporter": "python",
   "pygments_lexer": "ipython3",
   "version": "3.12.3"
  }
 },
 "nbformat": 4,
 "nbformat_minor": 5
}
