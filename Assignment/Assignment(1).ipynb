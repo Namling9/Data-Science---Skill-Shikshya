{
 "cells": [
  {
   "cell_type": "code",
   "execution_count": 1,
   "id": "77a85c97-7f27-4720-bcd1-f61cccd04bbb",
   "metadata": {},
   "outputs": [
    {
     "name": "stdout",
     "output_type": "stream",
     "text": [
      "{'name': 'Rex', 'age': 5, 'type': 'dog'}\n",
      "name: Rex\n",
      "age: 5\n",
      "type: dog\n"
     ]
    }
   ],
   "source": [
    "# Question : Variable-length Arguments (*args and **kwargs)\n",
    "# Write a Program to Define a Function `describe_pet` that accepts a variable number of keyword arguments (`**kwargs`).\n",
    " \n",
    "# The function should print the details of these keyword arguments as \"property: value\". Call this function with pet details like name, age, and type\n",
    "# Python\n",
    "# Input :  describe_pet(name=\"Rex\", age=5, type=\"dog\")\n",
    "# Output : name: Rex\n",
    "#          age: 5\n",
    "#          type: dog\n",
    "\n",
    "def descrip_pet(**kwargs):\n",
    "     print(kwargs)\n",
    "     for key,value in kwargs.items():\n",
    "         print(f\"{key}: {value}\")\n",
    "    \n",
    "\n",
    "descrip_pet(name = \"Rex\", age = 5, type = \"dog\")"
   ]
  },
  {
   "cell_type": "code",
   "execution_count": 2,
   "id": "fbea5bf0-a036-4830-8b4b-b300d5b660c3",
   "metadata": {},
   "outputs": [
    {
     "name": "stdout",
     "output_type": "stream",
     "text": [
      "Standard Deviation of your list : 168.751\n"
     ]
    }
   ],
   "source": [
    "from math import sqrt\n",
    "# Question : Calculate Std. Deviation of given list.\n",
    "\n",
    "def standardDeviation(list1):\n",
    "    n = len(list1)\n",
    "    mean = sum(list1) / n\n",
    "    list2 = [(x-mean)**2 for x in list1]\n",
    "    sd = sqrt(sum(list2)/n)\n",
    "    return f\"Standard Deviation of your list : {sd:.3f}\"\n",
    "    \n",
    "l1 = [2,5,34,12,31,424,532,5,67,44,90,54]\n",
    "\n",
    "print(standardDeviation(l1)) #Standard Deviation of your list : 168.751"
   ]
  }
 ],
 "metadata": {
  "kernelspec": {
   "display_name": "Python 3 (ipykernel)",
   "language": "python",
   "name": "python3"
  },
  "language_info": {
   "codemirror_mode": {
    "name": "ipython",
    "version": 3
   },
   "file_extension": ".py",
   "mimetype": "text/x-python",
   "name": "python",
   "nbconvert_exporter": "python",
   "pygments_lexer": "ipython3",
   "version": "3.12.3"
  }
 },
 "nbformat": 4,
 "nbformat_minor": 5
}
