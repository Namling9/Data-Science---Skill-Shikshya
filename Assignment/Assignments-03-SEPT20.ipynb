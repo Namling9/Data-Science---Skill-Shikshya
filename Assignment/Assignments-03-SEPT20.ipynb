{
 "cells": [
  {
   "cell_type": "markdown",
   "id": "7e76d9b4",
   "metadata": {},
   "source": [
    "# Problem Statement\n",
    "\n",
    "We want to build an online shopping cart system that allows users to add products to their cart, calculate the total cost, apply discounts, and generate an invoice. The system should include the following functionalities:\n",
    "\n",
    "- Adding products to the cart\n",
    "- Removing products from the cart\n",
    "- Calculating the total cost\n",
    "- Applying discounts based on user type\n",
    "- Generating an invoice\n",
    "\n",
    "### 1. Create the Product class\n",
    "\n",
    "We create a basic `Product` class with attributes for the product name and price."
   ]
  },
  {
   "cell_type": "code",
   "execution_count": 130,
   "id": "a286f01a",
   "metadata": {},
   "outputs": [],
   "source": [
    "class Product:\n",
    "    def __init__(self,product,price):\n",
    "        self.product_name = product\n",
    "        self.price = price\n",
    "        \n",
    "    def __str__(self):\n",
    "        return f\"{self.product_name}: {self.price}\""
   ]
  },
  {
   "cell_type": "markdown",
   "id": "0c9aa397",
   "metadata": {},
   "source": [
    "### 2.  Implement the User class\n",
    "\n",
    "In this step, we create a `User` class with attributes for the user's name and whether they are a premium member. We then modify the `calculate_total_cost` method in the `ShoppingCart` class to apply a `10%` discount for premium users."
   ]
  },
  {
   "cell_type": "code",
   "execution_count": 131,
   "id": "3393e953",
   "metadata": {},
   "outputs": [],
   "source": [
    "class User:\n",
    "    def __init__(self,username,is_premium = False ,is_admin = False):\n",
    "        self.username = username\n",
    "        self.is_premium = is_premium\n",
    "        self.is_admin = is_premium\n",
    "        self.cart = ShoppingCart()\n",
    "\n",
    "    def set_premium(self, user):\n",
    "        if self.is_admin:\n",
    "            choice = input(f\"Are you sure You want make a {user.username} premium member yes/no: \")\n",
    "            if choice == \"yes\":\n",
    "                is_premium = True\n",
    "                print(f\"{user.username} has been set as a premium user.\")\n",
    "       \n",
    "        else:\n",
    "            print(\"Only admins can set a user as premium.\")\n",
    "\n",
    "    def create_admin(self,user):\n",
    "        if self.is_admin:\n",
    "            user.is_admin = True\n",
    "            print(f\"{user.name} has been set as an admin\")\n",
    "\n"
   ]
  },
  {
   "cell_type": "markdown",
   "id": "3b7e070b",
   "metadata": {},
   "source": [
    "### 3. Create the ShoppingCart class\n",
    "\n",
    "In this step, we create a `ShoppingCart` class with methods for adding and removing products from the cart, as well as calculating the total cost of the items in the cart."
   ]
  },
  {
   "cell_type": "code",
   "execution_count": 138,
   "id": "c0b5196d",
   "metadata": {},
   "outputs": [],
   "source": [
    "def discount_10_percent(calculate_total):\n",
    "        def wrapper(self,user):\n",
    "            total_cost = calculate_total(self,user)\n",
    "            if user.is_premium: \n",
    "                discount = calculate_total(self,user)*0.10\n",
    "                total_cost -= discount\n",
    "                print(f\"Total cost with 10 percent discount : {total_cost}\")\n",
    "            else:\n",
    "                calculate_total()\n",
    "        return wrapper\n",
    "      \n",
    "class ShoppingCart():\n",
    "    def __init__(self):\n",
    "        self.carts = []\n",
    "        \n",
    "    def add_product(self,product,user):\n",
    "        self.carts.append(product)\n",
    "        print(f\"{user.username}, you have {product.product_name} added to your cart.\")\n",
    "        \n",
    "    def remove_product(self,product,user):\n",
    "        if product in self.carts:\n",
    "            self.carts.remove(product)\n",
    "            return f\"{user.username}, You have {product} removed from your cart\"\n",
    "    \n",
    "    @discount_10_percent\n",
    "    def calculate_total_cost(self,user):\n",
    "        total_cost = sum(product.price for product in self.carts)\n",
    "        return total_cost\n",
    "\n",
    "    def generate_invoice(self,user):\n",
    "        print(\"\\nInvoice:\")\n",
    "        print(\"--------\")\n",
    "        for product in self.carts:\n",
    "            print(f\"Product: {product.product_name}, Price: ${product.price}\")\n",
    "        total_cost = self.calculate_total_cost(user)"
   ]
  },
  {
   "cell_type": "markdown",
   "id": "da1f3494",
   "metadata": {},
   "source": [
    "Here, we defined a decorator `discount_10_percent` that applies a `10%` discount to the total cost. We then apply this decorator to the `calculate_total_cost` method in the `ShoppingCart` class."
   ]
  },
  {
   "cell_type": "code",
   "execution_count": null,
   "id": "70bbec8d",
   "metadata": {},
   "outputs": [],
   "source": [
    "\n",
    "    "
   ]
  },
  {
   "cell_type": "markdown",
   "id": "afc26053",
   "metadata": {},
   "source": [
    "### 4. Testing the functionality\n",
    "\n",
    "Now that we have implemented the necessary classes and methods, let's test our online shopping cart system:"
   ]
  },
  {
   "cell_type": "code",
   "execution_count": 139,
   "id": "6186bdcb",
   "metadata": {},
   "outputs": [
    {
     "name": "stdin",
     "output_type": "stream",
     "text": [
      "Are you sure You want make a Eliot premium member yes/no:  yes\n"
     ]
    },
    {
     "name": "stdout",
     "output_type": "stream",
     "text": [
      "Eliot has been set as a premium user.\n",
      "Robot, you have Laptop added to your cart.\n",
      "Robot, you have Mouse added to your cart.\n",
      "\n",
      "Invoice:\n",
      "--------\n",
      "Product: Laptop, Price: $85000\n",
      "Product: Mouse, Price: $1500\n",
      "Total cost with 10 percent discount : 77850.0\n"
     ]
    }
   ],
   "source": [
    "Laptop = Product(\"Laptop\", 85000)\n",
    "Phone = Product(\"Phone\", 50000)\n",
    "Rice = Product(\"Rice\", 1000)\n",
    "Mouse = Product(\"Mouse\", 1500)\n",
    "\n",
    "Robot = User(\"Robot\",is_premium = True, is_admin = True)\n",
    "Eliot = User(\"Eliot\")\n",
    "prince = User(\"Prince\")\n",
    "\n",
    "Robot.set_premium(Eliot)\n",
    "Eliot.create_admin(prince)\n",
    "\n",
    "cart = ShoppingCart()\n",
    "Robot.cart.add_product(Laptop,Robot)\n",
    "Robot.cart.add_product(Mouse, Robot)\n",
    "\n",
    "Robot.cart.generate_invoice(Robot)"
   ]
  },
  {
   "cell_type": "markdown",
   "id": "7ea7c96e",
   "metadata": {},
   "source": [
    "### 5. Generating Invoice for a given cart"
   ]
  },
  {
   "cell_type": "code",
   "execution_count": null,
   "id": "3c12ae69",
   "metadata": {
    "scrolled": true
   },
   "outputs": [],
   "source": []
  },
  {
   "cell_type": "markdown",
   "id": "b602d561-09a8-4086-9295-dce1e8dacb71",
   "metadata": {},
   "source": [
    "### 6. Bonus Challenge"
   ]
  },
  {
   "cell_type": "markdown",
   "id": "cd2cf83b",
   "metadata": {},
   "source": [
    "In this case each user share the same cart, which is useless. Also each user can register himself/herself as a premium user, which is not practical again. So, you have to add following two additional features to the above program, to make it more real:\n",
    "\n",
    "1. Cart for a user should be independent from other users\n",
    "2. Add a new admin feature `is_admin` that takes in boolean values `[True, False]`, and only admin should be allowed to create other admins and set `is_premium=True` for other users"
   ]
  },
  {
   "cell_type": "code",
   "execution_count": null,
   "id": "59e0bc19-36f6-4f4f-9d96-994e0dc19b59",
   "metadata": {},
   "outputs": [],
   "source": []
  }
 ],
 "metadata": {
  "kernelspec": {
   "display_name": "Python 3 (ipykernel)",
   "language": "python",
   "name": "python3"
  },
  "language_info": {
   "codemirror_mode": {
    "name": "ipython",
    "version": 3
   },
   "file_extension": ".py",
   "mimetype": "text/x-python",
   "name": "python",
   "nbconvert_exporter": "python",
   "pygments_lexer": "ipython3",
   "version": "3.12.3"
  }
 },
 "nbformat": 4,
 "nbformat_minor": 5
}
