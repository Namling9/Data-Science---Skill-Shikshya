{
 "cells": [
  {
   "cell_type": "code",
   "execution_count": 6,
   "id": "e53e8328-eec8-46b9-89e5-76e0ab479f86",
   "metadata": {},
   "outputs": [
    {
     "name": "stdout",
     "output_type": "stream",
     "text": [
      "sum of all numbers : 55\n"
     ]
    }
   ],
   "source": [
    "# *args and **kwargs\n",
    "# **Criteria:** Complete at least one question for each tag\n",
    "\n",
    "# - [*args] Write a Python function that takes an arbitrary number of positional arguments and returns the sum of all the numbers.\n",
    "# Test your function with various input cases.\n",
    "\n",
    "def summation(*args):\n",
    "    \n",
    "    _sum = sum((args))\n",
    "    return _sum\n",
    "\n",
    "sumNumber = summation(1,2,3,4,5,6,7,8,9,10)\n",
    "print(f\"sum of all numbers : {sumNumber}\")"
   ]
  },
  {
   "cell_type": "code",
   "execution_count": 8,
   "id": "c506a620-3593-4a46-bdb5-19d33c8dfa95",
   "metadata": {},
   "outputs": [
    {
     "name": "stdout",
     "output_type": "stream",
     "text": [
      "Hello World and Coders\n"
     ]
    }
   ],
   "source": [
    "#[*args] Write a Python function `concat_strings` that takes any number of strings as arguments and returns a single concatenated string.\n",
    "\n",
    "def concat_strings(*args):\n",
    "\n",
    "    result = \" \".join(args)\n",
    "    return result\n",
    "\n",
    "s = concat_strings(\"Hello\",\"World\",\"and\", \"Coders\")\n",
    "print(s)"
   ]
  },
  {
   "cell_type": "code",
   "execution_count": 10,
   "id": "03804a6c-abd8-42eb-82f9-6c56eb0bf614",
   "metadata": {},
   "outputs": [
    {
     "name": "stdout",
     "output_type": "stream",
     "text": [
      "{'apple': 120, 'egg': 450, 'rice': 200, 'daal': 225}\n",
      "Total :  995\n"
     ]
    }
   ],
   "source": [
    "# - [**kwargs] Write a Python function `calculate_total_cost` that calculates the total cost of items purchased from a store.\n",
    "# The function should accept multiple keyword arguments, where the key is the item name, and the value is the item's price.\n",
    "# The function should return the total cost of all items.\n",
    "  \n",
    "def calculate_total_cost(**kwargs):\n",
    "    print(kwargs)\n",
    "    total_cost = sum(kwargs.values())\n",
    "    print(\"Total : \",total_cost)\n",
    "    \n",
    "calculate_total_cost(apple = 120, egg = 450, rice = 200, daal = 225)\n",
    "\n",
    "        \n",
    "    "
   ]
  },
  {
   "cell_type": "code",
   "execution_count": 17,
   "id": "70ff15c8-6bb3-471e-84bc-c21b97fe5de8",
   "metadata": {},
   "outputs": [
    {
     "name": "stdout",
     "output_type": "stream",
     "text": [
      "{'Name': 'Namling', 'Age': 21, 'Subjects': {'Math': 80, 'Science': 90, 'Computer': 99, 'Social': 96, 'CriticalThinking': 98}}\n"
     ]
    }
   ],
   "source": [
    "# - [**kwargs] Create a function `create_student_report` that takes the student's name as the first argument, \n",
    "# the student's age as the second argument, and an arbitrary number of keyword arguments for the subjects and their respective scores.\n",
    "# The function should return a dictionary with the student's information and a list of subjects along with their scores.\n",
    "\n",
    "def create_student_report(name, age, **kwargs):\n",
    "\n",
    "    student_report = {\n",
    "        'Name': name,\n",
    "        'Age': age,\n",
    "        'Subjects': kwargs\n",
    "    }\n",
    "    return student_report\n",
    "\n",
    "result = create_student_report(\"Namling\",21,Math = 80, Science = 90, Computer = 99, Social = 96, CriticalThinking = 98)\n",
    "print(result)\n"
   ]
  },
  {
   "cell_type": "code",
   "execution_count": 23,
   "id": "11ad8c88-9f07-47fc-ad52-50e2724039a2",
   "metadata": {},
   "outputs": [
    {
     "name": "stdout",
     "output_type": "stream",
     "text": [
      "[1, 4, 9, 16, 25, 36, 49, 64, 81, 100]\n"
     ]
    }
   ],
   "source": [
    "### Map, Filter, and Reduce\n",
    "#**Criteria:** Complete at least one question for each tag\n",
    "\n",
    "# - [map] Write a Python function `square_numbers` that takes a list of integers as input and\n",
    "# uses the map function to return a new list containing the square of each element.\n",
    "\n",
    "def square_number(lst):\n",
    "\n",
    "    return list(map( lambda x : x**2, lst))\n",
    "\n",
    "list1 = [1,2,3,4,5,6,7,8,9,10]\n",
    "square = square_numbers(list1)\n",
    "print(square)\n",
    "\n"
   ]
  },
  {
   "cell_type": "code",
   "execution_count": 25,
   "id": "11acb7ca-a6d4-40be-bff6-aebc8e4d2d18",
   "metadata": {},
   "outputs": [
    {
     "name": "stdout",
     "output_type": "stream",
     "text": [
      "['APPLE', 'BALL', 'CAT', 'DOG', 'EGG']\n"
     ]
    }
   ],
   "source": [
    "# - [map] Create a function `convert_to_uppercase` that takes a list of strings as input and \n",
    "# uses the map function to return a new list with all the strings converted to uppercase.\n",
    "\n",
    "def convert_to_uppercase(lst):\n",
    "\n",
    "    return list(map(lambda x : x.upper(), lst))\n",
    "\n",
    "s_list = ['apple','ball','cat','dog','egg']\n",
    "upper_list = convert_to_uppercase(s_list)\n",
    "print(upper_list)\n",
    "    "
   ]
  },
  {
   "cell_type": "code",
   "execution_count": 11,
   "id": "ce7e3671-7ee1-48b8-ad00-681b16a2328f",
   "metadata": {},
   "outputs": [
    {
     "name": "stdout",
     "output_type": "stream",
     "text": [
      "[2, 3, 5, 7]\n"
     ]
    }
   ],
   "source": [
    "# - [filter] Implement a function called `filter_prime_numbers` that takes a list of integers as input\n",
    "# and uses the filter function to return a new list containing only the prime numbers.\n",
    "\n",
    "\n",
    "#chatgpt\n",
    "def is_prime(n):\n",
    "    \n",
    "    if n < 2 :\n",
    "            return False\n",
    "\n",
    "    if n == 2:\n",
    "        return True\n",
    "    for i in range(2,int(n**0.5)+1):\n",
    "        if n%i ==0:\n",
    "            return False\n",
    "    else: return True\n",
    "        \n",
    "def filter_prime_number(lst):\n",
    "    \n",
    "    return list(filter(is_prime,lst))\n",
    "\n",
    "num = [1,2,3,4,5,6,7,8,9,10]\n",
    "primeNum = filter_prime_number(num)\n",
    "print(primeNum)"
   ]
  },
  {
   "cell_type": "code",
   "execution_count": 13,
   "id": "3c24d613-702a-425f-a3f3-a7f7ce9f3f62",
   "metadata": {},
   "outputs": [
    {
     "name": "stdout",
     "output_type": "stream",
     "text": [
      "['namling', 'data Science', 'Massachusetts', 'Information Technology']\n"
     ]
    }
   ],
   "source": [
    "# - [filter] Write a Python function `filter_long_strings` that takes a list of strings as input and \n",
    "# uses the filter function to return a new list containing strings with more than 5 characters.\n",
    "\n",
    "def filter_long_string(lst):\n",
    "\n",
    "    return list(filter(lambda x : len(x) >= 5, lst))\n",
    "\n",
    "string_list = ['namling','data Science', 'Massachusetts','Information Technology', 'code','pen']\n",
    "\n",
    "long_str_list = filter_long_string(string_list)\n",
    "print(long_str_list)\n",
    "    "
   ]
  },
  {
   "cell_type": "code",
   "execution_count": 20,
   "id": "029d45f9-7fd8-4018-9aab-5f47abf65328",
   "metadata": {},
   "outputs": [
    {
     "name": "stdout",
     "output_type": "stream",
     "text": [
      "3628800\n"
     ]
    }
   ],
   "source": [
    "# - [reduce] Write a Python function `calculate_factorial` that takes an integer as input and\n",
    "# uses the reduce function to return the factorial of that number.\n",
    "from functools import reduce\n",
    "\n",
    "def calculate_factorial(n):\n",
    "    _list = []\n",
    "    for i in range(1,n+1):\n",
    "        _list.append(i)\n",
    "        \n",
    "    result = reduce(lambda x,y : x*y, _list)\n",
    "    return result\n",
    "\n",
    "print(calculate_factorial(10))"
   ]
  },
  {
   "cell_type": "code",
   "execution_count": 23,
   "id": "50cdbe86-ce8e-47ce-a344-fcf875391b32",
   "metadata": {},
   "outputs": [
    {
     "name": "stdout",
     "output_type": "stream",
     "text": [
      "namlingdata ScienceMassachusettsInformation Technologycodepen\n"
     ]
    }
   ],
   "source": [
    "# - [reduce] Implement a function called `concatenate_strings` that takes a list of strings as input \n",
    "# and uses the reduce function to return a single string containing the concatenation of all the elements.\n",
    "\n",
    "def concatenate_strings(lst):\n",
    "\n",
    "    return reduce(lambda x,y : x+y, lst)\n",
    "\n",
    "string_list = ['namling', 'data Science', 'Massachusetts', 'Information Technology', 'code','pen']\n",
    "print(concatenate_strings(string_list))"
   ]
  },
  {
   "cell_type": "code",
   "execution_count": null,
   "id": "0e45ad82-df63-4022-8ffe-c35b4fcc60ce",
   "metadata": {},
   "outputs": [],
   "source": []
  }
 ],
 "metadata": {
  "kernelspec": {
   "display_name": "Python 3 (ipykernel)",
   "language": "python",
   "name": "python3"
  },
  "language_info": {
   "codemirror_mode": {
    "name": "ipython",
    "version": 3
   },
   "file_extension": ".py",
   "mimetype": "text/x-python",
   "name": "python",
   "nbconvert_exporter": "python",
   "pygments_lexer": "ipython3",
   "version": "3.12.3"
  }
 },
 "nbformat": 4,
 "nbformat_minor": 5
}
