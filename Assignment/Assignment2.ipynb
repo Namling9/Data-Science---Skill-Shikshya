{
 "cells": [
  {
   "cell_type": "code",
   "execution_count": 6,
   "id": "e53e8328-eec8-46b9-89e5-76e0ab479f86",
   "metadata": {},
   "outputs": [
    {
     "name": "stdout",
     "output_type": "stream",
     "text": [
      "sum of all numbers : 55\n"
     ]
    }
   ],
   "source": [
    "# *args and **kwargs\n",
    "# **Criteria:** Complete at least one question for each tag\n",
    "\n",
    "# - [*args] Write a Python function that takes an arbitrary number of positional arguments and returns the sum of all the numbers.\n",
    "# Test your function with various input cases.\n",
    "\n",
    "def summation(*args):\n",
    "    \n",
    "    _sum = sum((args))\n",
    "    return _sum\n",
    "\n",
    "sumNumber = summation(1,2,3,4,5,6,7,8,9,10)\n",
    "print(f\"sum of all numbers : {sumNumber}\")"
   ]
  },
  {
   "cell_type": "code",
   "execution_count": 8,
   "id": "c506a620-3593-4a46-bdb5-19d33c8dfa95",
   "metadata": {},
   "outputs": [
    {
     "name": "stdout",
     "output_type": "stream",
     "text": [
      "Hello World and Coders\n"
     ]
    }
   ],
   "source": [
    "#[*args] Write a Python function `concat_strings` that takes any number of strings as arguments and returns a single concatenated string.\n",
    "\n",
    "def concat_strings(*args):\n",
    "\n",
    "    result = \" \".join(args)\n",
    "    return result\n",
    "\n",
    "s = concat_strings(\"Hello\",\"World\",\"and\", \"Coders\")\n",
    "print(s)"
   ]
  },
  {
   "cell_type": "code",
   "execution_count": 10,
   "id": "03804a6c-abd8-42eb-82f9-6c56eb0bf614",
   "metadata": {},
   "outputs": [
    {
     "name": "stdout",
     "output_type": "stream",
     "text": [
      "{'apple': 120, 'egg': 450, 'rice': 200, 'daal': 225}\n",
      "Total :  995\n"
     ]
    }
   ],
   "source": [
    "# - [**kwargs] Write a Python function `calculate_total_cost` that calculates the total cost of items purchased from a store.\n",
    "# The function should accept multiple keyword arguments, where the key is the item name, and the value is the item's price.\n",
    "# The function should return the total cost of all items.\n",
    "  \n",
    "def calculate_total_cost(**kwargs):\n",
    "    print(kwargs)\n",
    "    total_cost = sum(kwargs.values())\n",
    "    print(\"Total : \",total_cost)\n",
    "    \n",
    "calculate_total_cost(apple = 120, egg = 450, rice = 200, daal = 225)\n",
    "\n",
    "        \n",
    "    "
   ]
  },
  {
   "cell_type": "code",
   "execution_count": 17,
   "id": "70ff15c8-6bb3-471e-84bc-c21b97fe5de8",
   "metadata": {},
   "outputs": [
    {
     "name": "stdout",
     "output_type": "stream",
     "text": [
      "{'Name': 'Namling', 'Age': 21, 'Subjects': {'Math': 80, 'Science': 90, 'Computer': 99, 'Social': 96, 'CriticalThinking': 98}}\n"
     ]
    }
   ],
   "source": [
    "# - [**kwargs] Create a function `create_student_report` that takes the student's name as the first argument, \n",
    "# the student's age as the second argument, and an arbitrary number of keyword arguments for the subjects and their respective scores.\n",
    "# The function should return a dictionary with the student's information and a list of subjects along with their scores.\n",
    "\n",
    "def create_student_report(name, age, **kwargs):\n",
    "\n",
    "    student_report = {\n",
    "        'Name': name,\n",
    "        'Age': age,\n",
    "        'Subjects': kwargs\n",
    "    }\n",
    "    return student_report\n",
    "\n",
    "result = create_student_report(\"Namling\",21,Math = 80, Science = 90, Computer = 99, Social = 96, CriticalThinking = 98)\n",
    "print(result)\n"
   ]
  },
  {
   "cell_type": "code",
   "execution_count": 23,
   "id": "11ad8c88-9f07-47fc-ad52-50e2724039a2",
   "metadata": {},
   "outputs": [
    {
     "name": "stdout",
     "output_type": "stream",
     "text": [
      "[1, 4, 9, 16, 25, 36, 49, 64, 81, 100]\n"
     ]
    }
   ],
   "source": [
    "### Map, Filter, and Reduce\n",
    "#**Criteria:** Complete at least one question for each tag\n",
    "\n",
    "# - [map] Write a Python function `square_numbers` that takes a list of integers as input and\n",
    "# uses the map function to return a new list containing the square of each element.\n",
    "\n",
    "def square_number(lst):\n",
    "\n",
    "    return list(map( lambda x : x**2, lst))\n",
    "\n",
    "list1 = [1,2,3,4,5,6,7,8,9,10]\n",
    "square = square_numbers(list1)\n",
    "print(square)\n",
    "\n"
   ]
  },
  {
   "cell_type": "code",
   "execution_count": 25,
   "id": "11acb7ca-a6d4-40be-bff6-aebc8e4d2d18",
   "metadata": {},
   "outputs": [
    {
     "name": "stdout",
     "output_type": "stream",
     "text": [
      "['APPLE', 'BALL', 'CAT', 'DOG', 'EGG']\n"
     ]
    }
   ],
   "source": [
    "# - [map] Create a function `convert_to_uppercase` that takes a list of strings as input and \n",
    "# uses the map function to return a new list with all the strings converted to uppercase.\n",
    "\n",
    "def convert_to_uppercase(lst):\n",
    "\n",
    "    return list(map(lambda x : x.upper(), lst))\n",
    "\n",
    "s_list = ['apple','ball','cat','dog','egg']\n",
    "upper_list = convert_to_uppercase(s_list)\n",
    "print(upper_list)\n",
    "    "
   ]
  },
  {
   "cell_type": "code",
   "execution_count": 1,
   "id": "ce7e3671-7ee1-48b8-ad00-681b16a2328f",
   "metadata": {},
   "outputs": [
    {
     "name": "stdout",
     "output_type": "stream",
     "text": [
      "4\n",
      "5\n",
      "6\n",
      "7\n",
      "8\n",
      "9\n",
      "9\n",
      "10\n",
      "[2, 3, 5, 7]\n"
     ]
    }
   ],
   "source": [
    "# - [filter] Implement a function called `filter_prime_numbers` that takes a list of integers as input\n",
    "# and uses the filter function to return a new list containing only the prime numbers.\n",
    "\n",
    "\n",
    "#chatgpt\n",
    "def is_prime(n):\n",
    "    \n",
    "    if n < 2 :\n",
    "            return False\n",
    "\n",
    "    if n == 2:\n",
    "        return True\n",
    "    for i in range(2,int(n**0.5)+1):\n",
    "        if n%i ==0:\n",
    "            return False\n",
    "    else: return True\n",
    "        \n",
    "def filter_prime_number(lst):\n",
    "    \n",
    "    return list(filter(is_prime,lst))\n",
    "\n",
    "num = [1,2,3,4,5,6,7,8,9,10]\n",
    "primeNum = filter_prime_number(num)\n",
    "print(primeNum)"
   ]
  },
  {
   "cell_type": "code",
   "execution_count": 13,
   "id": "3c24d613-702a-425f-a3f3-a7f7ce9f3f62",
   "metadata": {},
   "outputs": [
    {
     "name": "stdout",
     "output_type": "stream",
     "text": [
      "['namling', 'data Science', 'Massachusetts', 'Information Technology']\n"
     ]
    }
   ],
   "source": [
    "# - [filter] Write a Python function `filter_long_strings` that takes a list of strings as input and \n",
    "# uses the filter function to return a new list containing strings with more than 5 characters.\n",
    "\n",
    "def filter_long_string(lst):\n",
    "\n",
    "    return list(filter(lambda x : len(x) >= 5, lst))\n",
    "\n",
    "string_list = ['namling','data Science', 'Massachusetts','Information Technology', 'code','pen']\n",
    "\n",
    "long_str_list = filter_long_string(string_list)\n",
    "print(long_str_list)\n",
    "    "
   ]
  },
  {
   "cell_type": "code",
   "execution_count": 6,
   "id": "029d45f9-7fd8-4018-9aab-5f47abf65328",
   "metadata": {},
   "outputs": [
    {
     "name": "stdout",
     "output_type": "stream",
     "text": [
      "3628800\n"
     ]
    }
   ],
   "source": [
    "# - [reduce] Write a Python function `calculate_factorial` that takes an integer as input and\n",
    "# uses the reduce function to return the factorial of that number.\n",
    "from functools import reduce\n",
    "\n",
    "def calculate_factorial(n):\n",
    "    _list = []\n",
    "    for i in range(1,n+1):\n",
    "        _list.append(i)\n",
    "        \n",
    "    result = reduce(lambda x,y : x*y, _list)\n",
    "    return result\n",
    "\n",
    "print(calculate_factorial(10))"
   ]
  },
  {
   "cell_type": "code",
   "execution_count": 7,
   "id": "50cdbe86-ce8e-47ce-a344-fcf875391b32",
   "metadata": {},
   "outputs": [
    {
     "name": "stdout",
     "output_type": "stream",
     "text": [
      "namlingdata ScienceMassachusettsInformation Technologycodepen\n"
     ]
    }
   ],
   "source": [
    "# - [reduce] Implement a function called `concatenate_strings` that takes a list of strings as input \n",
    "# and uses the reduce function to return a single string containing the concatenation of all the elements.\n",
    "\n",
    "from functools import reduce\n",
    "\n",
    "def concatenate_strings(lst):\n",
    "\n",
    "    return reduce(lambda x,y: x+y, lst)\n",
    "    \n",
    "string_list = ['namling', 'data Science', 'Massachusetts', 'Information Technology', 'code','pen']\n",
    "print(concatenate_strings(string_list))"
   ]
  },
  {
   "cell_type": "code",
   "execution_count": 10,
   "id": "0e45ad82-df63-4022-8ffe-c35b4fcc60ce",
   "metadata": {},
   "outputs": [
    {
     "name": "stdout",
     "output_type": "stream",
     "text": [
      "Even\n",
      "Odd\n"
     ]
    }
   ],
   "source": [
    "# ### Ternary Operators\n",
    "# Ternary Operator\n",
    "#syntax\n",
    "#if_statement if condition else else_condition\n",
    "\n",
    "# **Criteria:** Complete at least three questions\n",
    "\n",
    "# - Write a Python function called `check_odd_even` that takes an integer as input and uses a ternary operator\n",
    "# to return \"Even\" if the number is even, and \"Odd\" if the number is odd.\n",
    "\n",
    "def check_odd_even(n):\n",
    "    \n",
    "    return \"Even\" if n%2==0 else \"Odd\" # Ternary operation\n",
    "\n",
    "print(check_odd_even(10))\n",
    "print(check_odd_even(11))"
   ]
  },
  {
   "cell_type": "code",
   "execution_count": 11,
   "id": "5f0acf61-08c4-41d8-82cd-d01974c6e52d",
   "metadata": {},
   "outputs": [
    {
     "name": "stdout",
     "output_type": "stream",
     "text": [
      "2024 is a leap year\n",
      "2025 is not a leap year\n"
     ]
    }
   ],
   "source": [
    "#TErnary Operation\n",
    "\n",
    "# Create a Python function `check_leap_year` that takes a year as input and uses a ternary operator to determine if \n",
    "# it's a leap year. Return \"Leap Year\" if it is, otherwise \"Not a Leap Year.\"\n",
    "\n",
    "# (A leap year is divisible by 4, except for years divisible by 100 but not divisible by 400).\n",
    "\n",
    "def check_leap_year(year:int):\n",
    "    # A leap year is divisible by 4, and either not divisible by 100, or divisible by 400\n",
    "    return f\"{year} is a leap year\" if (year % 4==0 and year%100 != 0) or (year % 400 == 0) else f\"{year} is not a leap year\"\n",
    "\n",
    "print(check_leap_year(2024))\n",
    "print(check_leap_year(2025))"
   ]
  },
  {
   "cell_type": "code",
   "execution_count": 17,
   "id": "63b6c864-2de8-4a46-be04-ceeb2f0ff09e",
   "metadata": {},
   "outputs": [
    {
     "name": "stdout",
     "output_type": "stream",
     "text": [
      "x: 9 is a largest number\n",
      "y: 20 is the largest number\n",
      "z : {z} is the largest number\n",
      "Equal\n"
     ]
    }
   ],
   "source": [
    "# Ternary Operator\n",
    "\n",
    "# Write a function `find_bigger_number` that takes three integers as input and \n",
    "# uses a ternary operator to return the larger number.If all numbers are equal, return \"Equal.\"\n",
    "\n",
    "\n",
    "def find_biggest_number(x,y,z):\n",
    "\n",
    "    return f'x: {x} is a largest number' if x > y and x > z else f'y: {y} is the largest number' if y>z and z >x else f\"Equal\" if x==y and y ==z else \"z : {z} is the largest number\"\n",
    "\n",
    "print(find_biggest_number(9,8,7))\n",
    "print(find_biggest_number(13,20,14))\n",
    "print(find_biggest_number(10,11,12))\n",
    "print(find_biggest_number(1,1,1))"
   ]
  },
  {
   "cell_type": "code",
   "execution_count": 21,
   "id": "e17b199d-c83e-4b63-9746-4e7436fb28c6",
   "metadata": {},
   "outputs": [
    {
     "name": "stdout",
     "output_type": "stream",
     "text": [
      "Not Prime\n",
      "Prime\n",
      "Not prime number\n"
     ]
    }
   ],
   "source": [
    "# Ternary Operator\n",
    "\n",
    "# Implement a function called `check_prime` that takes a positive integer as input and uses a ternary operator to determine \n",
    "# if it's a prime number. Return \"Prime\" if it is, otherwise \"Not Prime.\"\n",
    "\n",
    "def check_prime(n:int):\n",
    "    return \"Not Prime\" if n<=1 else \"Prime\" if all( n%i !=0 for i in range(2, int(n**0.5)+1)) else \"Not prime number\"\n",
    "\n",
    "print(check_prime(1))\n",
    "print(check_prime(7))\n",
    "print(check_prime(9))"
   ]
  },
  {
   "cell_type": "code",
   "execution_count": 22,
   "id": "8fb7527c-fcf2-4681-b652-2b18a99da6ce",
   "metadata": {},
   "outputs": [
    {
     "name": "stdout",
     "output_type": "stream",
     "text": [
      "['Namling', 'DataScience', 'Machine Learning', 'Bug Bounty']\n"
     ]
    }
   ],
   "source": [
    "# ### Comprehension\n",
    "# **Criteria:** Complete at least two question for each tag\n",
    "\n",
    "# - [list comprehension] Given a list of strings, create a new list that contains only the strings\n",
    "# with more than 5 characters using list comprehension.\n",
    "\n",
    "str_list = ['Namling','DataScience',\"Machine Learning\",'Bug Bounty', 'code','bugs']\n",
    "\n",
    "new_list = [ i for i in str_list if len(i) >= 5]\n",
    "print(new_list)"
   ]
  },
  {
   "cell_type": "code",
   "execution_count": 47,
   "id": "af535749-c76f-47b1-be23-7eb47f85e022",
   "metadata": {},
   "outputs": [
    {
     "name": "stdout",
     "output_type": "stream",
     "text": [
      "My logic:  [7, 16, 27, 40, 60, 72]\n",
      "Using zip():  [7, 16, 27, 40, 60, 72]\n"
     ]
    }
   ],
   "source": [
    "# [list comprehension] Given two lists of integers, create a list that contains the product of\n",
    "# each element of the first list with the corresponding element in the second list using list comprehension.\n",
    "\n",
    "list1 = [1,2,3,4,5,6]\n",
    "list2 =[7,8,9,10,12,12]\n",
    "\n",
    "product_list = [list1[i] * list2[i] for i in range(len(list1))]\n",
    "print(\"My logic: \",product_list)\n",
    "\n",
    "product_list1 = [i*j for i,j in zip(list1,list2)]\n",
    "print(\"Using zip(): \",product_list1)"
   ]
  },
  {
   "cell_type": "code",
   "execution_count": 32,
   "id": "2446496d-24c2-4251-82a3-371f79d5237d",
   "metadata": {},
   "outputs": [
    {
     "data": {
      "text/plain": [
       "[{(-2, -2, 4), (0, -1, 1), (1, -2, 1)}]"
      ]
     },
     "execution_count": 32,
     "metadata": {},
     "output_type": "execute_result"
    }
   ],
   "source": [
    "# [list comprehension] Given three lists list1, list2, and list3, each containing integers, \n",
    "# write a Python program using list comprehension to generate a new list of unique triplets (x, y, z) \n",
    "# where x is from list1, y is from list2, and z is from list3, such that x + y + z = 0.\n",
    "\n",
    "list1 = [1,-2,0]\n",
    "list2= [-1,3,-2]\n",
    "list3= [4,-5,1]\n",
    "\n",
    "unique_triplets = [set((x,y,z) for x in list1 for y in list2 for z in list3 if x+y+z==0)]\n",
    "unique_triplets\n"
   ]
  },
  {
   "cell_type": "code",
   "execution_count": 38,
   "id": "59933b3f-859c-48b8-8421-9a0361c65f17",
   "metadata": {},
   "outputs": [
    {
     "name": "stdout",
     "output_type": "stream",
     "text": [
      "My ans:  {'Name': 'Namling', 'Age': 21, 'Job': 'AI Engineer/Machine Learning Engineer'}\n",
      "GPT ans :  {'Name': 'Namling', 'Age': 21, 'Job': 'AI Engineer/Machine Learning Engineer'}\n"
     ]
    }
   ],
   "source": [
    "# [dictionary comprehension] Given two lists - one containing keys and another containing values,\n",
    "# create a dictionary using dictionary comprehension.\n",
    "\n",
    "key = ['Name', 'Age', 'Job']\n",
    "value = ['Namling', 21, 'AI Engineer/Machine Learning Engineer']\n",
    "\n",
    "details = { key[i]:value[i] for i in range(len(key))}\n",
    "print(\"My ans: \",details)\n",
    "\n",
    "#ChatGPT\n",
    "# Dictionary comprehension to create the dictionary\n",
    "my_dict = {key: value for key, value in zip(key, value)} # zip() takes two or more iterables (like lists, tuples, etc.) \n",
    "                                                         # and aggregates them into tuples. Each tuple contains elements \n",
    "                                                         #from the corresponding positions of the input iterables. \n",
    "                                                         #The result is an iterator of tuples.\n",
    "print(\"GPT ans : \",my_dict)\n"
   ]
  },
  {
   "cell_type": "code",
   "execution_count": 39,
   "id": "4d6b0170-9239-472b-8dfa-60a5768c2207",
   "metadata": {},
   "outputs": [
    {
     "data": {
      "text/plain": [
       "{'Alice': 99, 'John': 81, 'Mathew': 95}"
      ]
     },
     "execution_count": 39,
     "metadata": {},
     "output_type": "execute_result"
    }
   ],
   "source": [
    "# [dictionary comprehension] Given a dictionary with students\n",
    "# ' names as keys and their respective scores as values, create a new dictionary that contains\n",
    "# only the students who scored more than 80 using dictionary comprehension.\n",
    "\n",
    "students = {\n",
    "    'Alice': 99, 'John': 81, 'Mathew': 95, 'Hitler': 60, 'gopi': 79\n",
    "}\n",
    "\n",
    "gradeA = { name:marks for name,marks in students.items() if marks >= 80}\n",
    "gradeA"
   ]
  },
  {
   "cell_type": "code",
   "execution_count": 42,
   "id": "a4780a81-8bec-432e-a554-55177cf8461e",
   "metadata": {},
   "outputs": [
    {
     "data": {
      "text/plain": [
       "{'a': 97,\n",
       " 'b': 98,\n",
       " 'c': 99,\n",
       " 'd': 100,\n",
       " 'e': 101,\n",
       " 'f': 102,\n",
       " 'g': 103,\n",
       " 'h': 104,\n",
       " 'i': 105,\n",
       " 'j': 106,\n",
       " 'k': 107,\n",
       " 'l': 108,\n",
       " 'm': 109,\n",
       " 'n': 110,\n",
       " 'o': 111,\n",
       " 'p': 112,\n",
       " 'q': 113,\n",
       " 'r': 114,\n",
       " 's': 115,\n",
       " 't': 116,\n",
       " 'u': 117,\n",
       " 'v': 118,\n",
       " 'w': 119,\n",
       " 'x': 120,\n",
       " 'y': 121,\n",
       " 'z': 122}"
      ]
     },
     "execution_count": 42,
     "metadata": {},
     "output_type": "execute_result"
    }
   ],
   "source": [
    "# [dictionary comprehension] Create a dictionary using dictionary comprehension \n",
    "# to represent the ASCII values of lowercase alphabets (a-z) \n",
    "# where the keys are the alphabets, and the values are their corresponding ASCII values.\n",
    "#Hint: use `ord()` function to get the ASCII value of each alphabet\n",
    "\n",
    "ascii_dict = { chr(i) : i for i in range(ord('a'),ord('z')+1)}\n",
    "ascii_dict"
   ]
  },
  {
   "cell_type": "code",
   "execution_count": 53,
   "id": "d8261741-ec5d-4341-af2f-e841e41e3995",
   "metadata": {},
   "outputs": [
    {
     "data": {
      "text/plain": [
       "{'Even : 12', 'Even : 2', 'Even : 4', 'Even : 44', 'Even : 6'}"
      ]
     },
     "execution_count": 53,
     "metadata": {},
     "output_type": "execute_result"
    }
   ],
   "source": [
    "#[set comprehension] Given a list of numbers, create a set using set comprehension that contains only unique even numbers.\n",
    "\n",
    "list1 = [12,23,1,2,2,3,12,44,4,4,5,4,23,323,12,12,2,2,1,1,5,12,6]\n",
    "set1 = { f\"Even : {i}\" for i in list1 if i%2==0}\n",
    "set1"
   ]
  },
  {
   "cell_type": "code",
   "execution_count": 71,
   "id": "4e386532-3a91-467b-8944-5705d039771f",
   "metadata": {},
   "outputs": [
    {
     "name": "stdout",
     "output_type": "stream",
     "text": [
      "{' ', 's', 'h', 'a', 'u', 'S', 'n', 'o', 'b', 'R', 'l', 'J', 'e', 'y', 'E', 'T', 'k', 'm', 'M'}"
     ]
    }
   ],
   "source": [
    "# [set comprehension] Given a list of words, write a Python program to create a set using\n",
    "# set comprehension that contains all the unique characters present in the words.\n",
    "\n",
    "words = ['John', 'Thomas', 'Ram', 'Shelby', 'Mlon Eusk']\n",
    "\n",
    "set1 ={ char for word in words for char in word}\n",
    "print(set1, end=\"\")"
   ]
  },
  {
   "cell_type": "code",
   "execution_count": 75,
   "id": "7cde2a12-9f7c-4492-8bf5-4abe59b041f7",
   "metadata": {},
   "outputs": [
    {
     "data": {
      "text/plain": [
       "{'I', 'L', 'M'}"
      ]
     },
     "execution_count": 75,
     "metadata": {},
     "output_type": "execute_result"
    }
   ],
   "source": [
    "# [set comprehension] Given two strings, write a Python program to create a set using \n",
    "# set comprehension that contains all the characters that are common in both strings.\n",
    "\n",
    "F_name = \"Namling\"\n",
    "L_name = \"Limbu\"\n",
    "\n",
    "common_char = { i for i in F_name.upper() for j in L_name.upper() if i==j}\n",
    "common_char"
   ]
  },
  {
   "cell_type": "code",
   "execution_count": 94,
   "id": "24b9e555-0e9c-4faa-a4e4-956c7f20766b",
   "metadata": {},
   "outputs": [
    {
     "name": "stdout",
     "output_type": "stream",
     "text": [
      "\n",
      "        Department Name : Electrical Engineering\n",
      "        Head of Department: Dr. Albert Homes\n",
      "        Departments: ['Electrical Engineering', 'AI, Data Science and Machine Learning', 'Bio Engineering', 'Cyber Security']\n",
      "        \n",
      "\n",
      "        University's Name : Massachusetts Institute of Technology (MIT)\n",
      "        Location : Cambridge, Massachusetts\n",
      "        Departments: ['Electrical Engineering', 'AI, Data Science and Machine Learning', 'Bio Engineering', 'Cyber Security']\n",
      "        \n"
     ]
    }
   ],
   "source": [
    "### Object Oriented Programming\n",
    "# **Criteria:** Complete all the questions\n",
    "\n",
    "# Create a Python class to represent a University. The university should have attributes like name, location, \n",
    "# and a list of departments.Implement encapsulation to protect the internal data of the University class. \n",
    "# Create a Department class that inherits from the University class. \n",
    "# The Department class should have attributes like department name, head of the department, and a list of courses offered.\n",
    "# Implement polymorphism by defining a common method for both the University and Department classes to display their details. \n",
    "\n",
    "class University:\n",
    "    def __init__(self):\n",
    "        self.name = \"Massachusetts Institute of Technology (MIT)\"\n",
    "        self.location = \"Cambridge, Massachusetts\"\n",
    "        self.__departments = ['Electrical Engineering', 'AI, Data Science and Machine Learning', \"Bio Engineering\", \"Cyber Security\"]\n",
    "    \n",
    "    def departments(self):\n",
    "        return self.__departments\n",
    "        \n",
    "    def details(self):\n",
    "        print(f'''\n",
    "        University's Name : {self.name}\n",
    "        Location : {self.location}\n",
    "        Departments: {self.departments()}\n",
    "        ''')\n",
    "\n",
    "class Department(University):\n",
    "    \n",
    "    def __init__(self,dept_name,head_name):\n",
    "        self.dept_name = dept_name\n",
    "        self.head_name = head_name\n",
    "        super().__init__()\n",
    "        \n",
    "    def details(self):\n",
    "        print(f'''\n",
    "        Department Name : {self.dept_name}\n",
    "        Head of Department: {self.head_name}\n",
    "        Departments: {self.departments()}\n",
    "        ''')\n",
    "\n",
    "emp = Department(\"Electrical Engineering\",\"Dr. Albert Homes\")\n",
    "emp.details()\n",
    "\n",
    "uni = University()\n",
    "uni.details()"
   ]
  },
  {
   "cell_type": "code",
   "execution_count": 5,
   "id": "2d252bd3-c5e4-41f8-9901-80ddb6662919",
   "metadata": {},
   "outputs": [
    {
     "name": "stdout",
     "output_type": "stream",
     "text": [
      "\n",
      "        Account Number : 98122341231\n",
      "        Balance : 100000\n",
      "        Account: Savings\n",
      "        \n",
      "98122341231 of account is destroyed\n",
      "Namling of account is destroyed\n",
      "\n",
      "        Name : Namling\n",
      "        Age : 21\n",
      "        Addresss: Kathmandu\n",
      "        \n",
      "Namling of account is destroyed\n"
     ]
    }
   ],
   "source": [
    "# Build a Python class to represent a simple banking system. Create a class for a BankAccount,and another for Customer.\n",
    "# The BankAccount class should have a constructor to initialize the account details (account number, balance, account type).\n",
    "# The Customer class should have a constructor to set the customer's details (name, age, address) and\n",
    "#create a BankAccount object for each customer.\n",
    "# Implement a destructor for both classes to display a message when objects are destroyed.\n",
    "\n",
    "class BankAccount:\n",
    "    def __init__(self, account_number, balance, account_type):\n",
    "        self.account_number = account_number\n",
    "        self.balance = balance\n",
    "        self.account_type = account_type\n",
    "    \n",
    "    def details(self):\n",
    "        print(f'''\n",
    "        Account Number : {self.account_number}\n",
    "        Balance : {self.balance}\n",
    "        Account: {self.account_type}\n",
    "        ''')\n",
    "    \n",
    "    def __del__(self):\n",
    "        print(f\"{self.account_number} of account is destroyed\")\n",
    "    \n",
    "class Customer:\n",
    "    def __init__(self,name,age,address):\n",
    "        \n",
    "        self.name = name\n",
    "        self.age = age\n",
    "        self.address = address\n",
    "        \n",
    "    def details(self):\n",
    "        print(f'''\n",
    "        Name : {self.name}\n",
    "        Age : {self.age}\n",
    "        Addresss: {self.address}\n",
    "        ''')\n",
    "    \n",
    "    def __del__(self):\n",
    "        print(f\"{self.name} of account is destroyed\")\n",
    "\n",
    "acc = BankAccount(98122341231,100000,\"Savings\")\n",
    "acc.details()\n",
    "del acc\n",
    "\n",
    "customer1 = Customer(\"Namling\",21,\"Kathmandu\")\n",
    "customer1.details()\n",
    "del customer1"
   ]
  },
  {
   "cell_type": "code",
   "execution_count": null,
   "id": "5eb69dbf-0951-4fba-b762-d78f9f0a0193",
   "metadata": {},
   "outputs": [],
   "source": []
  }
 ],
 "metadata": {
  "kernelspec": {
   "display_name": "Python 3 (ipykernel)",
   "language": "python",
   "name": "python3"
  },
  "language_info": {
   "codemirror_mode": {
    "name": "ipython",
    "version": 3
   },
   "file_extension": ".py",
   "mimetype": "text/x-python",
   "name": "python",
   "nbconvert_exporter": "python",
   "pygments_lexer": "ipython3",
   "version": "3.12.3"
  }
 },
 "nbformat": 4,
 "nbformat_minor": 5
}
