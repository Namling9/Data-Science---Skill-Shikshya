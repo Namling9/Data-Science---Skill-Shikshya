{
 "cells": [
  {
   "cell_type": "markdown",
   "metadata": {},
   "source": [
    "### Coding Scenario: Personal Profile and Preferences\n",
    "\n",
    "**Objective:** You are tasked with creating a Python script to represent and process personal profile information and preferences. This scenario will test your knowledge of strings, integers, lists, tuples, dictionaries, and boolean data types in Python.\n",
    "\n",
    "#### Scenario Description:\n",
    "\n",
    "Imagine you are designing a simple profile for a social media application. Each user profile contains basic personal information, a list of favorite hobbies, preferred screen dimensions for viewing the app, and a brief description of their pet.\n"
   ]
  },
  {
   "cell_type": "markdown",
   "metadata": {},
   "source": [
    "\n",
    "#### Task Instructions:\n",
    "\n",
    "1. **Personal Information**\n",
    "   - Create a variable `name` (str) to store the user's name.\n",
    "   - Create a variable `age` (int) to store the user's age.\n",
    "   - Print a greeting message using these variables, e.g., `\"Hello, my name is Alice and I am 30 years old.\"`\n"
   ]
  },
  {
   "cell_type": "code",
   "execution_count": 1,
   "metadata": {},
   "outputs": [
    {
     "name": "stdout",
     "output_type": "stream",
     "text": [
      "Hello, My name is Alice and I am 30 years old.\n"
     ]
    }
   ],
   "source": [
    "# Your Solution Here\n",
    "\n",
    "name = \"Alice\"\n",
    "age = 30\n",
    "\n",
    "print(f\"Hello, My name is Alice and I am 30 years old.\")"
   ]
  },
  {
   "cell_type": "markdown",
   "metadata": {},
   "source": [
    "2. **Favorite Hobbies**\n",
    "   - Create a list `favorite_hobbies` containing at least three hobbies as strings.\n",
    "   - Add another hobby to this list and print the updated list."
   ]
  },
  {
   "cell_type": "code",
   "execution_count": 2,
   "metadata": {},
   "outputs": [
    {
     "name": "stdout",
     "output_type": "stream",
     "text": [
      "['Coding', 'Reading', 'Boxing', 'Traveling']\n"
     ]
    }
   ],
   "source": [
    "# Your Solution Here\n",
    "\n",
    "favorite_hobbies = [\"Coding\", \"Reading\", \"Boxing\"]\n",
    "favorite_hobbies.append(\"Traveling\")\n",
    "\n",
    "print(favorite_hobbies)\n"
   ]
  },
  {
   "cell_type": "markdown",
   "metadata": {},
   "source": [
    "3. **Screen Dimensions**\n",
    "   - Define a tuple `screen_dimensions` with two integers representing the width and height of the user's preferred screen size for the app.\n",
    "   - Attempt to modify one of the values in the tuple to simulate an attempt to change screen preferences and comment on the outcome."
   ]
  },
  {
   "cell_type": "code",
   "execution_count": 6,
   "metadata": {},
   "outputs": [
    {
     "ename": "TypeError",
     "evalue": "'tuple' object does not support item assignment",
     "output_type": "error",
     "traceback": [
      "\u001b[1;31m---------------------------------------------------------------------------\u001b[0m",
      "\u001b[1;31mTypeError\u001b[0m                                 Traceback (most recent call last)",
      "Cell \u001b[1;32mIn[6], line 4\u001b[0m\n\u001b[0;32m      1\u001b[0m \u001b[38;5;66;03m# Your Solution Here\u001b[39;00m\n\u001b[0;32m      3\u001b[0m screen_dimensions \u001b[38;5;241m=\u001b[39m (\u001b[38;5;241m200\u001b[39m,\u001b[38;5;241m450\u001b[39m)\n\u001b[1;32m----> 4\u001b[0m \u001b[43mscreen_dimensions\u001b[49m\u001b[43m[\u001b[49m\u001b[38;5;241;43m0\u001b[39;49m\u001b[43m]\u001b[49m \u001b[38;5;241m=\u001b[39m \u001b[38;5;241m250\u001b[39m \u001b[38;5;66;03m#'tuple' object does not support item assignment\u001b[39;00m\n",
      "\u001b[1;31mTypeError\u001b[0m: 'tuple' object does not support item assignment"
     ]
    }
   ],
   "source": [
    "# Your Solution Here\n",
    "\n",
    "screen_dimensions = (200,450)\n",
    "screen_dimensions[0] = 250 #'tuple' object does not support item assignment\n"
   ]
  },
  {
   "cell_type": "markdown",
   "metadata": {},
   "source": [
    "4. **Pet Description**\n",
    "   - Create a dictionary `pet` to describe the user's pet. It should include keys for `type`, `name`, `age`, and later, `color`.\n",
    "   - Add a `color` key to the `pet` dictionary with an appropriate value and print the pet's name and color."
   ]
  },
  {
   "cell_type": "code",
   "execution_count": 9,
   "metadata": {},
   "outputs": [
    {
     "name": "stdout",
     "output_type": "stream",
     "text": [
      " Name: clust and Color: black and brown\n"
     ]
    }
   ],
   "source": [
    "# Your Solution Here\n",
    "\n",
    "pet = {\n",
    "    'type': \"German Sheperd\",\n",
    "    'name': \"clust\",\n",
    "    'age': 8,\n",
    "}\n",
    "\n",
    "pet['color'] = \"black and brown\"\n",
    "\n",
    "print(f\" Name: {pet['name']} and Color: {pet['color']}\")\n"
   ]
  },
  {
   "cell_type": "markdown",
   "metadata": {},
   "source": [
    "5. **Adult Status**\n",
    "   - Determine if the user is an adult with a boolean variable `is_adult`. Consider someone an adult if they are 18 years old or more.\n",
    "   - Using conditional logic, print `\"I am an adult.\"` if true, and `\"I am not an adult.\"` if false.\n"
   ]
  },
  {
   "cell_type": "code",
   "execution_count": 10,
   "metadata": {},
   "outputs": [
    {
     "name": "stdout",
     "output_type": "stream",
     "text": [
      "I am an adult\n"
     ]
    }
   ],
   "source": [
    "# Your Solution Here\n",
    "\n",
    "is_adult = age >= 18 \n",
    "\n",
    "if is_adult:\n",
    "    \n",
    "    print(\"I am an adult\")\n",
    "\n",
    "else: print(\"I am not an adult\")\n"
   ]
  },
  {
   "cell_type": "markdown",
   "metadata": {},
   "source": [
    "### Question : Book Keeper\n",
    "\n",
    "Following the data below , complete the given Tasks :"
   ]
  },
  {
   "cell_type": "code",
   "execution_count": 17,
   "metadata": {},
   "outputs": [],
   "source": [
    "# A list of tuples, where each tuple contains information about a book: (title, genre, year_published, times_borrowed).\n",
    "\n",
    "books = [\n",
    "    (\"The Alchemist\", \"Fiction\", 1988, 250),\n",
    "    (\"The Da Vinci Code\", \"Mystery\", 2003, 300),\n",
    "    (\"A Brief History of Time\", \"Science\", 1988, 150),\n",
    "    (\"The Theory of Everything\", \"Science\", 2002, 100),\n",
    "    (\"Pride and Prejudice\", \"Fiction\", 1813, 200),\n",
    "    (\"To Kill a Mockingbird\", \"Fiction\", 1960, 180),\n",
    "    (\"The Catcher in the Rye\", \"Fiction\", 1951, 220),\n",
    "    (\"Angels & Demons\", \"Mystery\", 2000, 210),\n",
    "    (\"The Grand Design\", \"Science\", 2010, 90),\n",
    "    (\"1984\", \"Fiction\", 1949, 190)\n",
    "]"
   ]
  },
  {
   "cell_type": "markdown",
   "metadata": {},
   "source": [
    "**Task 01**: Create a Book Filtering Function\n",
    "\n",
    "Given the list books as shown below, write a Python function named `filter_books` that filters books based on *genre* and *publication year*. The function should take two parameters: `genre (a string)` and `year (an integer)`. It should return a list of book titles that match the given genre and have been **published on or after** the specified year.\n",
    "\n",
    "- Example usage : `print(filter_books(\"Fiction\", 1980))`\n",
    "- Expected output: `['The Alchemist', 'The Catcher in the Rye']`\n",
    "\n",
    "*Try to use List Comprehension with If condition*"
   ]
  },
  {
   "cell_type": "code",
   "execution_count": 33,
   "metadata": {},
   "outputs": [
    {
     "name": "stdout",
     "output_type": "stream",
     "text": [
      "['The Da Vinci Code', 'Angels & Demons']\n"
     ]
    }
   ],
   "source": [
    "# Your Solution Here\n",
    "books = [\n",
    "    (\"The Alchemist\", \"Fiction\", 1988, 250),\n",
    "    (\"The Da Vinci Code\", \"Mystery\", 2003, 300),\n",
    "    (\"A Brief History of Time\", \"Science\", 1988, 150),\n",
    "    (\"The Theory of Everything\", \"Science\", 2002, 100),\n",
    "    (\"Pride and Prejudice\", \"Fiction\", 1813, 200),\n",
    "    (\"To Kill a Mockingbird\", \"Fiction\", 1960, 180),\n",
    "    (\"The Catcher in the Rye\", \"Fiction\", 1951, 220),\n",
    "    (\"Angels & Demons\", \"Mystery\", 2000, 210),\n",
    "    (\"The Grand Design\", \"Science\", 2010, 90),\n",
    "    (\"1984\", \"Fiction\", 1949, 190)\n",
    "]\n",
    "# Function to filter books based on genre and year\n",
    "def filter_books(genre : str, year : int):\n",
    "\n",
    "    return [n for n,g,y,b in books if g == genre and y >= year] # List Comprehension\n",
    "    # filter_list = []\n",
    "    # for n, g, y, borrowed in books:\n",
    "    #     if g == genre and y >= year:\n",
    "    #         filter_list.append(n)\n",
    "    # return filter_list\n",
    "    \n",
    "# Example call to the function\n",
    "print(filter_books(\"Mystery\", 2000))"
   ]
  },
  {
   "cell_type": "markdown",
   "metadata": {},
   "source": [
    "**Task 02** : Write a Python function named `borrowing_stats` that uses dictionary comprehension to create and return a dictionary. This dictionary should map each book's title to the number of times it has been borrowed, but only include books from the \"`Fiction`\" genre.\n",
    "\n",
    "\n",
    "- Example usage : `print(borrowing_stats(books))`\n",
    "- Expected output: `{'The Alchemist': 250, 'Pride and Prejudice': 200, 'To Kill a Mockingbird': 180, 'The Catcher in the Rye': 220, '1984': 190}`"
   ]
  },
  {
   "cell_type": "code",
   "execution_count": 34,
   "metadata": {},
   "outputs": [
    {
     "name": "stdout",
     "output_type": "stream",
     "text": [
      "{'The Alchemist': 250, 'Pride and Prejudice': 200, 'To Kill a Mockingbird': 180, 'The Catcher in the Rye': 220, '1984': 190}\n"
     ]
    }
   ],
   "source": [
    "# Your Solution Here\n",
    "\n",
    "def borrowing_stats():\n",
    "\n",
    "    return { n : b for n,g,y,b in books if g == \"Fiction\"}\n",
    "\n",
    "print(borrowing_stats())"
   ]
  },
  {
   "cell_type": "markdown",
   "metadata": {},
   "source": [
    "**Task 03** : Write a Python program that uses a lambda expression to sort this list by publication year in ascending order. Print the sorted list of books.\n",
    "\n",
    "*Try using a lambda expression with the sorted() function*"
   ]
  },
  {
   "cell_type": "code",
   "execution_count": 53,
   "metadata": {},
   "outputs": [
    {
     "name": "stdout",
     "output_type": "stream",
     "text": [
      "[('Pride and Prejudice', 'Fiction', 1813, 200), ('1984', 'Fiction', 1949, 190), ('The Catcher in the Rye', 'Fiction', 1951, 220), ('To Kill a Mockingbird', 'Fiction', 1960, 180), ('The Alchemist', 'Fiction', 1988, 250), ('A Brief History of Time', 'Science', 1988, 150), ('Angels & Demons', 'Mystery', 2000, 210), ('The Theory of Everything', 'Science', 2002, 100), ('The Da Vinci Code', 'Mystery', 2003, 300), ('The Grand Design', 'Science', 2010, 90)]\n"
     ]
    }
   ],
   "source": [
    "# Your Solution Here\n",
    "\n",
    "sorted_books = sorted(books, key = lambda book: book[2])\n",
    "print(sorted_books)"
   ]
  },
  {
   "cell_type": "markdown",
   "metadata": {},
   "source": [
    "### Question: File Read and Write\n",
    "**Write a Program that Uses Functions `write_to_file` and `read_from_file`**:\n",
    "- `write_to_file(filename, content)`: Writes `content` to a file named `filename`. If the file doesn't exist, it should be created.\n",
    "- `read_from_file(filename)`: Reads and prints the content of a file named `filename`.\n",
    "Call `write_to_file` to write \"Hello, Python!\" to a file named \"greetings.txt\", then call `read_from_file` to read and print the content of this file."
   ]
  },
  {
   "cell_type": "code",
   "execution_count": null,
   "metadata": {},
   "outputs": [],
   "source": [
    "# Your Solution Here\n"
   ]
  },
  {
   "cell_type": "code",
   "execution_count": null,
   "metadata": {},
   "outputs": [],
   "source": []
  },
  {
   "cell_type": "markdown",
   "metadata": {},
   "source": [
    "### Scenario:\n",
    "\n",
    "You are tasked with designing a system for a **vehicle rental company**. The company rents out various types of vehicles like **Cars** and **Bikes**, and each vehicle has some shared characteristics but also some distinct ones. \n",
    "\n",
    "### Requirements:\n",
    "1. Each **Vehicle** has attributes such as:\n",
    "   - `vehicle_id`: A unique identifier for the vehicle.\n",
    "   - `brand`: The brand of the vehicle.\n",
    "   - `rental_price`: Price per day to rent the vehicle.\n",
    "\n",
    "2. Both **Car** and **Bike** are types of **Vehicles**.  \n",
    "   - A **Car** has an additional attribute: `number_of_doors`.  \n",
    "   - A **Bike** has an additional attribute: `bike_type` (e.g., mountain bike, racing bike).\n",
    "\n",
    "3. You should provide methods to:\n",
    "   - **Calculate total rental cost**: Given the number of rental days, calculate the total cost for any vehicle.\n",
    "   - **Display vehicle details**: For both cars and bikes, display details including the unique attributes (e.g., `number_of_doors` for cars, `bike_type` for bikes).\n",
    "\n",
    "4. Implement the following OOP concepts:\n",
    "   - **Encapsulation**: Ensure that all vehicle attributes are private and can only be accessed or modified through getter/setter methods.\n",
    "   - **Abstraction**: Provide a clean interface for calculating the total rental cost and displaying vehicle details, hiding the internal logic.\n",
    "   - **Inheritance**: Both **Car** and **Bike** should inherit common functionality from the **Vehicle** class.\n",
    "   - **Polymorphism**: Use method overriding so that the method for displaying vehicle details works differently for cars and bikes.\n",
    "\n",
    "---\n",
    "\n",
    "### Task:\n",
    "\n",
    "1. **Define a `Vehicle` base class** that implements the common attributes and methods.\n",
    "2. **Define two subclasses `Car` and `Bike`** that inherit from `Vehicle` and implement their specific attributes.\n",
    "3. Use encapsulation by making attributes private and providing public methods to interact with them.\n",
    "4. Use polymorphism to create a `display_details` method that behaves differently for `Car` and `Bike`.\n",
    "\n",
    "---\n",
    "\n",
    "### Bonus:\n",
    "After completing the classes, create an example script that:\n",
    "- Creates a list of vehicles (a mix of Cars and Bikes).\n",
    "- Displays the details of each vehicle.\n",
    "- Calculates and prints the total rental cost for a given number of days for each vehicle.\n"
   ]
  },
  {
   "cell_type": "code",
   "execution_count": 75,
   "metadata": {},
   "outputs": [
    {
     "name": "stdout",
     "output_type": "stream",
     "text": [
      " \n",
      "        Vehicle ID: 101\n",
      "        Brand: Tyota\n",
      "        Rental Price: 5000\n",
      "        Number of Doors: 4\n",
      "        \n"
     ]
    },
    {
     "name": "stdin",
     "output_type": "stream",
     "text": [
      "Enter the days you want to rent car:  2\n"
     ]
    },
    {
     "name": "stdout",
     "output_type": "stream",
     "text": [
      "You total cost : 10000\n",
      " \n",
      "        Vehicle ID: 102\n",
      "        Brand: Honda\n",
      "        Rental Price: 10000\n",
      "        Bike Type: Racing\n",
      "        \n"
     ]
    },
    {
     "name": "stdin",
     "output_type": "stream",
     "text": [
      "Enter the days you want to rent bike:  5\n"
     ]
    },
    {
     "name": "stdout",
     "output_type": "stream",
     "text": [
      "You total cost : 50000\n"
     ]
    }
   ],
   "source": [
    "# Your Solution Here\n",
    "from abc import ABC, abstractmethod\n",
    "\n",
    "class Vehicle(ABC): \n",
    "\n",
    "    def __init__(self,vehicle_id,brand,rental_price):\n",
    "\n",
    "        self.__vehicle_id = vehicle_id\n",
    "        self.__brand = brand\n",
    "        self.__rental_price = rental_price\n",
    "        \n",
    "    def vehicleID(self):\n",
    "        return self.__vehicle_id\n",
    "        \n",
    "    def brand(self):\n",
    "        return self.__brand\n",
    "        \n",
    "    def rentalPrice(self):\n",
    "        return self.__rental_price\n",
    "    \n",
    "    @abstractmethod\n",
    "    def total_cost(self):\n",
    "        pass\n",
    "\n",
    "    @abstractmethod\n",
    "    def details(self):\n",
    "        pass\n",
    "    \n",
    "class Car(Vehicle):\n",
    "    \n",
    "    def __init__(self, vehicle_id, brand, rental_price, number_of_doors):\n",
    "        # Call the parent class constructor\n",
    "        super().__init__(vehicle_id, brand, rental_price)\n",
    "        self.__number_of_doors = number_of_doors\n",
    "        \n",
    "    def total_cost(self):\n",
    "        days = int(input(\"Enter the days you want to rent car: \"))\n",
    "        total = self.rentalPrice() * days\n",
    "        print(f\"You total cost : {total}\")\n",
    "        \n",
    "    def details(self):\n",
    "        print(f''' \n",
    "        Vehicle ID: {self.vehicleID()}\n",
    "        Brand: {self.brand()}\n",
    "        Rental Price: {self.rentalPrice()}\n",
    "        Number of Doors: {self.__number_of_doors}\n",
    "        ''')\n",
    "    \n",
    "class Bike(Vehicle):\n",
    "    \n",
    "    def __init__(self, vehicle_id,brand,rental_price,bike_type):\n",
    "        super().__init__(vehicle_id,brand,rental_price)\n",
    "        self.__bike_type = bike_type\n",
    "        \n",
    "    def total_cost(self):\n",
    "        days = int(input(\"Enter the days you want to rent bike: \"))\n",
    "        total = self.rentalPrice() * days\n",
    "        print(f\"You total cost : {total}\")\n",
    "    \n",
    "    def details(self):\n",
    "        print(f''' \n",
    "        Vehicle ID: {self.vehicleID()}\n",
    "        Brand: {self.brand()}\n",
    "        Rental Price: {self.rentalPrice()}\n",
    "        Bike Type: {self.__bike_type}\n",
    "        ''')\n",
    "\n",
    "\n",
    "car1 = Car(101,\"Tyota\",5000,4)\n",
    "car1.details()\n",
    "car1.total_cost()\n",
    "\n",
    "bike1 = Bike(102, \"Honda\", 10000, \"Racing\")\n",
    "bike1.details()\n",
    "bike1.total_cost()\n",
    "        "
   ]
  },
  {
   "cell_type": "code",
   "execution_count": null,
   "metadata": {},
   "outputs": [],
   "source": []
  }
 ],
 "metadata": {
  "kernelspec": {
   "display_name": "Python 3 (ipykernel)",
   "language": "python",
   "name": "python3"
  },
  "language_info": {
   "codemirror_mode": {
    "name": "ipython",
    "version": 3
   },
   "file_extension": ".py",
   "mimetype": "text/x-python",
   "name": "python",
   "nbconvert_exporter": "python",
   "pygments_lexer": "ipython3",
   "version": "3.12.3"
  }
 },
 "nbformat": 4,
 "nbformat_minor": 4
}
