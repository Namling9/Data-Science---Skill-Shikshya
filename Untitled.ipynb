{
 "cells": [
  {
   "cell_type": "code",
   "execution_count": null,
   "id": "a76c3a84-5d16-49a4-8aaf-1c17e7f397d9",
   "metadata": {},
   "outputs": [],
   "source": []
  }
 ],
 "metadata": {
  "kernelspec": {
   "display_name": "",
   "name": ""
  },
  "language_info": {
   "name": ""
  }
 },
 "nbformat": 4,
 "nbformat_minor": 5
}
