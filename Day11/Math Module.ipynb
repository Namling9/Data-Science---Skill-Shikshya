{
 "cells": [
  {
   "cell_type": "code",
   "execution_count": 3,
   "id": "c0907484-e700-4e0e-ae07-d018a720e6b3",
   "metadata": {},
   "outputs": [
    {
     "name": "stdout",
     "output_type": "stream",
     "text": [
      "8.0\n",
      "7.0\n",
      "5\n",
      "-5\n",
      "4.4\n"
     ]
    }
   ],
   "source": [
    "import math\n",
    "\n",
    "print(math.pow(2,3))\n",
    "print(math.sqrt(49))\n",
    "print(math.ceil(4.1))\n",
    "print(math.floor(-4.9))\n",
    "print(math.fabs(-4.4))"
   ]
  },
  {
   "cell_type": "code",
   "execution_count": null,
   "id": "b3a46cbd-d6a5-4d55-b9f3-7e5d2e061c7b",
   "metadata": {},
   "outputs": [],
   "source": []
  }
 ],
 "metadata": {
  "kernelspec": {
   "display_name": "Python 3 (ipykernel)",
   "language": "python",
   "name": "python3"
  },
  "language_info": {
   "codemirror_mode": {
    "name": "ipython",
    "version": 3
   },
   "file_extension": ".py",
   "mimetype": "text/x-python",
   "name": "python",
   "nbconvert_exporter": "python",
   "pygments_lexer": "ipython3",
   "version": "3.12.3"
  }
 },
 "nbformat": 4,
 "nbformat_minor": 5
}
