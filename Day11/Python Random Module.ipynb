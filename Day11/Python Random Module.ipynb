{
 "cells": [
  {
   "cell_type": "code",
   "execution_count": 1,
   "id": "1e94bdda-84b3-4d9f-974c-8cde68054887",
   "metadata": {},
   "outputs": [
    {
     "name": "stdout",
     "output_type": "stream",
     "text": [
      "0.17844828636368404\n"
     ]
    }
   ],
   "source": [
    "import random\n",
    "\n",
    "print(random.random())"
   ]
  },
  {
   "cell_type": "code",
   "execution_count": 2,
   "id": "9a6b75c9-2252-4ec0-825a-8bb0eebd8449",
   "metadata": {},
   "outputs": [
    {
     "name": "stdout",
     "output_type": "stream",
     "text": [
      "1.6345423947416098\n"
     ]
    }
   ],
   "source": [
    "print(random.uniform(-1,2))"
   ]
  },
  {
   "cell_type": "code",
   "execution_count": 3,
   "id": "daa031da-ddca-4e5d-9bab-5ad936d52890",
   "metadata": {},
   "outputs": [
    {
     "name": "stdout",
     "output_type": "stream",
     "text": [
      "5\n"
     ]
    }
   ],
   "source": [
    "print(random.randint(-1,5))"
   ]
  },
  {
   "cell_type": "code",
   "execution_count": 5,
   "id": "f2358128-3492-4199-bd88-acd553eee3b2",
   "metadata": {},
   "outputs": [
    {
     "name": "stdout",
     "output_type": "stream",
     "text": [
      "1\n"
     ]
    }
   ],
   "source": [
    "print(random.randrange(5))"
   ]
  },
  {
   "cell_type": "code",
   "execution_count": 6,
   "id": "2d25a71b-5da7-48e9-9afb-07f78b768bfb",
   "metadata": {},
   "outputs": [
    {
     "name": "stdout",
     "output_type": "stream",
     "text": [
      "0\n"
     ]
    }
   ],
   "source": [
    "print(random.randrange(-1,5))"
   ]
  },
  {
   "cell_type": "code",
   "execution_count": 7,
   "id": "f8268975-049e-42b2-acfa-9fc2b337d6ec",
   "metadata": {},
   "outputs": [
    {
     "name": "stdout",
     "output_type": "stream",
     "text": [
      "3\n"
     ]
    }
   ],
   "source": [
    "print(random.randrange(-1,5,2))"
   ]
  },
  {
   "cell_type": "code",
   "execution_count": 8,
   "id": "54036caa-4a29-47e2-841a-77ce254d1ab5",
   "metadata": {},
   "outputs": [
    {
     "name": "stdout",
     "output_type": "stream",
     "text": [
      "jack\n",
      "['king', 'ten', 'nine']\n"
     ]
    }
   ],
   "source": [
    "# \n",
    "\n",
    "import random\n",
    "\n",
    "cards = ['ace','king','queen','jack','ten','nine']\n",
    "\n",
    "print(random.choice(cards))\n",
    "print(random.sample(cards,3))"
   ]
  },
  {
   "cell_type": "code",
   "execution_count": 9,
   "id": "a3db8565-eb10-47d0-a77d-5595f225326a",
   "metadata": {},
   "outputs": [
    {
     "name": "stdout",
     "output_type": "stream",
     "text": [
      "['king', 'queen', 'jack', 'ten', 'ace', 'nine']\n"
     ]
    }
   ],
   "source": [
    "random.shuffle(cards)\n",
    "print(cards)"
   ]
  },
  {
   "cell_type": "code",
   "execution_count": 13,
   "id": "489472e6-a36d-4485-b38a-a98a97258c0c",
   "metadata": {},
   "outputs": [
    {
     "name": "stdout",
     "output_type": "stream",
     "text": [
      "1 2 5\n"
     ]
    }
   ],
   "source": [
    "state = random.getstate()\n",
    "\n",
    "a = random.randint(1,10)\n",
    "b = random.randint(1,10)\n",
    "c = random.randint(1,10)\n",
    "\n",
    "print(a,b,c)"
   ]
  },
  {
   "cell_type": "code",
   "execution_count": 14,
   "id": "c507bd09-fbe5-4e0f-8923-ca70d821896f",
   "metadata": {},
   "outputs": [
    {
     "name": "stdout",
     "output_type": "stream",
     "text": [
      "1 2 5\n"
     ]
    }
   ],
   "source": [
    "random.setstate(state)\n",
    "\n",
    "e = random.randint(1,10)\n",
    "f = random.randint(1,10)\n",
    "g = random.randint(1,10)\n",
    "\n",
    "print(e,f,g)"
   ]
  },
  {
   "cell_type": "code",
   "execution_count": 15,
   "id": "28220c81-2d3d-4737-a29a-72303359ef6c",
   "metadata": {},
   "outputs": [
    {
     "data": {
      "text/plain": [
       "0.6192959927491157"
      ]
     },
     "execution_count": 15,
     "metadata": {},
     "output_type": "execute_result"
    }
   ],
   "source": [
    "random.gauss(1,1)"
   ]
  },
  {
   "cell_type": "code",
   "execution_count": null,
   "id": "d4563fac-720b-4a0c-9c35-63ca3f8ec1e4",
   "metadata": {},
   "outputs": [],
   "source": [
    "    "
   ]
  }
 ],
 "metadata": {
  "kernelspec": {
   "display_name": "Python 3 (ipykernel)",
   "language": "python",
   "name": "python3"
  },
  "language_info": {
   "codemirror_mode": {
    "name": "ipython",
    "version": 3
   },
   "file_extension": ".py",
   "mimetype": "text/x-python",
   "name": "python",
   "nbconvert_exporter": "python",
   "pygments_lexer": "ipython3",
   "version": "3.12.3"
  }
 },
 "nbformat": 4,
 "nbformat_minor": 5
}
