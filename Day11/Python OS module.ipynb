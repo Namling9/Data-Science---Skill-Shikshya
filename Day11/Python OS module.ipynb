{
 "cells": [
  {
   "cell_type": "code",
   "execution_count": 1,
   "id": "8258d456-c75b-42ca-afa6-a4b54ccb35eb",
   "metadata": {},
   "outputs": [
    {
     "name": "stdout",
     "output_type": "stream",
     "text": [
      "Current Working Directory:  /home/namling/My_programs/Data-Science---Skill-Shikshya/Day11\n"
     ]
    }
   ],
   "source": [
    "import os\n",
    "\n",
    "cwd = os.getcwd()\n",
    "print(\"Current Working Directory: \", cwd)"
   ]
  },
  {
   "cell_type": "code",
   "execution_count": 2,
   "id": "2794e077-3b35-4862-97f8-281202b3f0c2",
   "metadata": {},
   "outputs": [
    {
     "data": {
      "text/plain": [
       "False"
      ]
     },
     "execution_count": 2,
     "metadata": {},
     "output_type": "execute_result"
    }
   ],
   "source": [
    "os.path.exists(\"New_directory\")"
   ]
  },
  {
   "cell_type": "code",
   "execution_count": 5,
   "id": "037cce9d-b621-4267-b77f-b670f7a05907",
   "metadata": {},
   "outputs": [
    {
     "name": "stdout",
     "output_type": "stream",
     "text": [
      "New_directory not found, Created directory named New_directory\n"
     ]
    }
   ],
   "source": [
    "if not os.path.exists(\"New_directory\"):\n",
    "    os.mkdir(\"New_directory\")\n",
    "    print(\"New_directory not found, Created directory named New_directory\")"
   ]
  },
  {
   "cell_type": "code",
   "execution_count": 14,
   "id": "0cea0891-a157-4097-8d8a-ef9f296f1831",
   "metadata": {},
   "outputs": [
    {
     "name": "stdout",
     "output_type": "stream",
     "text": [
      "Working directory:  /home/namling/My_programs\n"
     ]
    }
   ],
   "source": [
    "os.chdir('..')\n",
    "print(\"Working directory: \", os.getcwd())"
   ]
  },
  {
   "cell_type": "code",
   "execution_count": 15,
   "id": "43159aa3-0bff-4135-929c-b2b81c1bcfd8",
   "metadata": {},
   "outputs": [
    {
     "data": {
      "text/plain": [
       "['Data-Science-and-ML-Batch-05',\n",
       " 'Data-Science---Skill-Shikshya',\n",
       " 'Python-Django',\n",
       " 'python-exercise']"
      ]
     },
     "execution_count": 15,
     "metadata": {},
     "output_type": "execute_result"
    }
   ],
   "source": [
    "os.listdir(\".\")"
   ]
  },
  {
   "cell_type": "code",
   "execution_count": 16,
   "id": "09a87e1b-b18a-4218-9508-1a7158c993d3",
   "metadata": {},
   "outputs": [
    {
     "name": "stdout",
     "output_type": "stream",
     "text": [
      "/home/namling/My_programs/Data-Science---Skill-Shikshya\n"
     ]
    }
   ],
   "source": [
    "os.chdir(\"Data-Science---Skill-Shikshya\")\n",
    "print(os.getcwd())"
   ]
  },
  {
   "cell_type": "markdown",
   "id": "d59fcc4f-323c-49e9-b5e6-f71effe50513",
   "metadata": {},
   "source": [
    "Working with Environment Variables"
   ]
  },
  {
   "cell_type": "code",
   "execution_count": 18,
   "id": "227f2627-c2c2-4953-887e-a0e6ae6fd375",
   "metadata": {},
   "outputs": [
    {
     "name": "stdout",
     "output_type": "stream",
     "text": [
      "/home/namling\n"
     ]
    }
   ],
   "source": [
    "import os\n",
    "\n",
    "value = os.getenv('HOME')\n",
    "print(value)"
   ]
  },
  {
   "cell_type": "code",
   "execution_count": null,
   "id": "3827a657-9364-4cdc-8cdb-5d67bae2c7fa",
   "metadata": {},
   "outputs": [],
   "source": []
  }
 ],
 "metadata": {
  "kernelspec": {
   "display_name": "Python 3 (ipykernel)",
   "language": "python",
   "name": "python3"
  },
  "language_info": {
   "codemirror_mode": {
    "name": "ipython",
    "version": 3
   },
   "file_extension": ".py",
   "mimetype": "text/x-python",
   "name": "python",
   "nbconvert_exporter": "python",
   "pygments_lexer": "ipython3",
   "version": "3.12.3"
  }
 },
 "nbformat": 4,
 "nbformat_minor": 5
}
