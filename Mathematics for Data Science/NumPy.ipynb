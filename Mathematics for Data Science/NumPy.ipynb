{
 "cells": [
  {
   "cell_type": "code",
   "execution_count": 1,
   "id": "d2b6dfd8-3be5-4cc9-801f-690845dd1f70",
   "metadata": {},
   "outputs": [
    {
     "name": "stdout",
     "output_type": "stream",
     "text": [
      "Collecting numpy\n",
      "  Downloading numpy-2.1.1-cp312-cp312-manylinux_2_17_x86_64.manylinux2014_x86_64.whl.metadata (60 kB)\n",
      "\u001b[2K     \u001b[38;2;114;156;31m━━━━━━━━━━━━━━━━━━━━━━━━━━━━━━━━━━━━━━━\u001b[0m \u001b[32m60.9/60.9 kB\u001b[0m \u001b[31m551.6 kB/s\u001b[0m eta \u001b[36m0:00:00\u001b[0m kB/s\u001b[0m eta \u001b[36m0:00:01\u001b[0m:01\u001b[0m\n",
      "\u001b[?25hDownloading numpy-2.1.1-cp312-cp312-manylinux_2_17_x86_64.manylinux2014_x86_64.whl (16.0 MB)\n",
      "\u001b[2K   \u001b[38;2;114;156;31m━━━━━━━━━━━━━━━━━━━━━━━━━━━━━━━━━━━━━━━━\u001b[0m \u001b[32m16.0/16.0 MB\u001b[0m \u001b[31m1.2 MB/s\u001b[0m eta \u001b[36m0:00:00\u001b[0mm eta \u001b[36m0:00:01\u001b[0m[36m0:00:01\u001b[0m0m\n",
      "\u001b[?25hInstalling collected packages: numpy\n",
      "Successfully installed numpy-2.1.1\n"
     ]
    }
   ],
   "source": [
    "!pip install numpy"
   ]
  },
  {
   "cell_type": "code",
   "execution_count": 4,
   "id": "14659f2a-05cb-45f8-b565-0d7dd0701fe7",
   "metadata": {},
   "outputs": [
    {
     "data": {
      "text/plain": [
       "[12, 12, 3, 1]"
      ]
     },
     "execution_count": 4,
     "metadata": {},
     "output_type": "execute_result"
    }
   ],
   "source": [
    "import numpy as np\n",
    "\n",
    "#list\n",
    "\n",
    "list1 = [11,12,4]\n",
    "list((12,12,3,1))\n"
   ]
  },
  {
   "cell_type": "code",
   "execution_count": 6,
   "id": "e4e4ca6e-4062-4381-bb18-bc1a83cbc63f",
   "metadata": {},
   "outputs": [
    {
     "data": {
      "text/plain": [
       "array([1, 4, 7])"
      ]
     },
     "execution_count": 6,
     "metadata": {},
     "output_type": "execute_result"
    }
   ],
   "source": [
    "# numpy array\n",
    "\n",
    "array = np.array([1,4,7])\n",
    "array"
   ]
  },
  {
   "cell_type": "code",
   "execution_count": 7,
   "id": "2b4adca9-a9f2-4a83-bf34-76a55bc1ab24",
   "metadata": {},
   "outputs": [
    {
     "data": {
      "text/plain": [
       "numpy.ndarray"
      ]
     },
     "execution_count": 7,
     "metadata": {},
     "output_type": "execute_result"
    }
   ],
   "source": [
    "type(array)"
   ]
  },
  {
   "cell_type": "code",
   "execution_count": 10,
   "id": "bfe8926b-4f92-415f-bfac-5a35847cbf49",
   "metadata": {},
   "outputs": [
    {
     "name": "stdout",
     "output_type": "stream",
     "text": [
      "(3,)\n"
     ]
    }
   ],
   "source": [
    "print(array.shape)"
   ]
  },
  {
   "cell_type": "code",
   "execution_count": 11,
   "id": "47edb0a5-76fd-4795-827a-ce7fd39dfba2",
   "metadata": {},
   "outputs": [
    {
     "name": "stdout",
     "output_type": "stream",
     "text": [
      "1\n"
     ]
    }
   ],
   "source": [
    "print(array.ndim)"
   ]
  },
  {
   "cell_type": "code",
   "execution_count": 13,
   "id": "e9a5dcd3-357e-4e5b-9fc1-8343767c4cb6",
   "metadata": {},
   "outputs": [],
   "source": [
    "list2 = [[12,2,3],\n",
    "         [23,12,42]]\n",
    "\n",
    "array2 = np.array(list2)"
   ]
  },
  {
   "cell_type": "code",
   "execution_count": 14,
   "id": "fdd50541-5836-4ecd-8a9d-b99f1e39e49d",
   "metadata": {},
   "outputs": [
    {
     "name": "stdout",
     "output_type": "stream",
     "text": [
      "[[12  2  3]\n",
      " [23 12 42]]\n",
      "2\n",
      "(2, 3)\n"
     ]
    }
   ],
   "source": [
    "print(array2)\n",
    "print(array2.ndim)\n",
    "print(array2.shape)"
   ]
  },
  {
   "cell_type": "code",
   "execution_count": 34,
   "id": "b5b6e4bc-a63e-472f-9b5d-a552ab53306f",
   "metadata": {},
   "outputs": [
    {
     "data": {
      "text/plain": [
       "dtype('int64')"
      ]
     },
     "execution_count": 34,
     "metadata": {},
     "output_type": "execute_result"
    }
   ],
   "source": [
    "array2.dtype"
   ]
  },
  {
   "cell_type": "markdown",
   "id": "c6c663e3-b8e7-42d7-bc30-037d33197845",
   "metadata": {},
   "source": [
    "#### numpy takes 1 vector or 1 array as 1 dimension "
   ]
  },
  {
   "cell_type": "markdown",
   "id": "78b6f70a-5551-42a0-b699-122815104b97",
   "metadata": {},
   "source": [
    "## Zeros matrix"
   ]
  },
  {
   "cell_type": "code",
   "execution_count": 16,
   "id": "0e15f211-5581-4492-843b-a8d4d9b6aa9f",
   "metadata": {},
   "outputs": [
    {
     "name": "stdout",
     "output_type": "stream",
     "text": [
      "[0. 0. 0. 0. 0.]\n"
     ]
    }
   ],
   "source": [
    "print(np.zeros(5))"
   ]
  },
  {
   "cell_type": "code",
   "execution_count": 19,
   "id": "23c6d2d8-1343-4618-8610-3bdde443a736",
   "metadata": {},
   "outputs": [
    {
     "name": "stdout",
     "output_type": "stream",
     "text": [
      "[[0. 0. 0. 0. 0.]\n",
      " [0. 0. 0. 0. 0.]\n",
      " [0. 0. 0. 0. 0.]\n",
      " [0. 0. 0. 0. 0.]\n",
      " [0. 0. 0. 0. 0.]]\n"
     ]
    }
   ],
   "source": [
    "print(np.zeros((5,5)))"
   ]
  },
  {
   "cell_type": "markdown",
   "id": "e752d6c1-237c-46f6-b2b0-09d141c2a00a",
   "metadata": {},
   "source": [
    "## Ones Matrix"
   ]
  },
  {
   "cell_type": "code",
   "execution_count": 20,
   "id": "eac65e87-9f65-4fca-9b0f-abacc482a246",
   "metadata": {},
   "outputs": [
    {
     "name": "stdout",
     "output_type": "stream",
     "text": [
      "[1. 1. 1. 1. 1.]\n"
     ]
    }
   ],
   "source": [
    "print(np.ones(5))"
   ]
  },
  {
   "cell_type": "code",
   "execution_count": 21,
   "id": "350d2323-5e1f-41bb-8d61-95448b3b17eb",
   "metadata": {},
   "outputs": [
    {
     "name": "stdout",
     "output_type": "stream",
     "text": [
      "[[1. 1. 1. 1. 1.]\n",
      " [1. 1. 1. 1. 1.]\n",
      " [1. 1. 1. 1. 1.]\n",
      " [1. 1. 1. 1. 1.]\n",
      " [1. 1. 1. 1. 1.]]\n"
     ]
    }
   ],
   "source": [
    "print(np.ones((5,5)))"
   ]
  },
  {
   "cell_type": "markdown",
   "id": "dff73ae2-e04e-4817-a98f-f5297484e38d",
   "metadata": {},
   "source": [
    "# Identity matrix"
   ]
  },
  {
   "cell_type": "code",
   "execution_count": 47,
   "id": "74d9f00f-f2ba-468f-8665-50406b317887",
   "metadata": {},
   "outputs": [
    {
     "name": "stdout",
     "output_type": "stream",
     "text": [
      "[[1. 0. 0. 0. 0.]\n",
      " [0. 1. 0. 0. 0.]\n",
      " [0. 0. 1. 0. 0.]\n",
      " [0. 0. 0. 1. 0.]\n",
      " [0. 0. 0. 0. 1.]]\n"
     ]
    }
   ],
   "source": [
    "print(np.identity(5))"
   ]
  },
  {
   "cell_type": "code",
   "execution_count": 32,
   "id": "5b4e5ce9-f1d7-4588-9824-ddeab00140b1",
   "metadata": {},
   "outputs": [
    {
     "name": "stdout",
     "output_type": "stream",
     "text": [
      "[[1. 0. 0. 0.]\n",
      " [0. 1. 0. 0.]\n",
      " [0. 0. 1. 0.]\n",
      " [0. 0. 0. 1.]]\n"
     ]
    }
   ],
   "source": [
    "print(np.identity(4))"
   ]
  },
  {
   "cell_type": "markdown",
   "id": "548debbc-72f7-4c3b-8190-54e4d3c731d1",
   "metadata": {},
   "source": [
    "# Random Matrix"
   ]
  },
  {
   "cell_type": "code",
   "execution_count": 35,
   "id": "b6a654e9-401c-44a3-a7e7-bdf3e0af8842",
   "metadata": {},
   "outputs": [
    {
     "name": "stdout",
     "output_type": "stream",
     "text": [
      "[[0.73230097 0.38666672 0.19492481]\n",
      " [0.72452537 0.4892127  0.94220368]]\n"
     ]
    }
   ],
   "source": [
    "print(np.random.rand(2,3))"
   ]
  },
  {
   "cell_type": "code",
   "execution_count": 37,
   "id": "48d82a1e-d9f8-4be9-a7b1-7aa0b8771a7d",
   "metadata": {},
   "outputs": [
    {
     "data": {
      "text/plain": [
       "[5, 10, 15, 20, 25, 30, 35, 40, 45, 50]"
      ]
     },
     "execution_count": 37,
     "metadata": {},
     "output_type": "execute_result"
    }
   ],
   "source": [
    "list(range(5,55,5))"
   ]
  },
  {
   "cell_type": "code",
   "execution_count": 38,
   "id": "7e1ddd6d-7b20-4d99-9011-4050737b5d21",
   "metadata": {},
   "outputs": [
    {
     "data": {
      "text/plain": [
       "array([1, 3, 5, 7, 9])"
      ]
     },
     "execution_count": 38,
     "metadata": {},
     "output_type": "execute_result"
    }
   ],
   "source": [
    "np.arange(1,10,2)"
   ]
  },
  {
   "cell_type": "code",
   "execution_count": 39,
   "id": "1199e546-209d-40eb-b7cf-6ba71397624b",
   "metadata": {},
   "outputs": [
    {
     "data": {
      "text/plain": [
       "array([-6.4 , -4.28, -2.16, -0.04,  2.08,  4.2 ,  6.32,  8.44, 10.56,\n",
       "       12.68, 14.8 ])"
      ]
     },
     "execution_count": 39,
     "metadata": {},
     "output_type": "execute_result"
    }
   ],
   "source": [
    "np.arange(-6.4,15.5,2.12)"
   ]
  },
  {
   "cell_type": "code",
   "execution_count": 42,
   "id": "46061923-0392-4a11-b9da-1b94de6f3914",
   "metadata": {},
   "outputs": [
    {
     "name": "stdout",
     "output_type": "stream",
     "text": [
      "[ 0.   2.5  5.   7.5 10. ]\n"
     ]
    }
   ],
   "source": [
    "# np.linspace(start, stop, no_element) > linear space\n",
    "\n",
    "array_linspace1 = np.linspace(start = 0, stop = 10, num = 5)\n",
    "print(array_linspace1)"
   ]
  },
  {
   "cell_type": "code",
   "execution_count": 43,
   "id": "bbf05b7d-6865-4cb4-b4cc-3d9278c04eb7",
   "metadata": {},
   "outputs": [
    {
     "name": "stdout",
     "output_type": "stream",
     "text": [
      "[[ 0.   2.5  5.   7.5 10. ]\n",
      " [ 0.   5.  10.  15.  20. ]\n",
      " [ 0.   7.5 15.  22.5 30. ]]\n"
     ]
    }
   ],
   "source": [
    "array_linspace2 = np.linspace(start = (0,0,0),stop = (10,20,30), num=5, axis = 1) # Axis = 1 means start with \n",
    "print(array_linspace2)"
   ]
  },
  {
   "cell_type": "code",
   "execution_count": 44,
   "id": "2806e348-961d-4696-a204-ff3317a60302",
   "metadata": {},
   "outputs": [
    {
     "name": "stdout",
     "output_type": "stream",
     "text": [
      "[[ 0.   0.   0. ]\n",
      " [ 2.5  5.   7.5]\n",
      " [ 5.  10.  15. ]\n",
      " [ 7.5 15.  22.5]\n",
      " [10.  20.  30. ]]\n"
     ]
    }
   ],
   "source": [
    "array_linspace2 = np.linspace(start = (0,0,0),stop = (10,20,30), num=5, axis = 0) # Axis = 0 means complete 1 rows and while making multiple column\n",
    "print(array_linspace2)"
   ]
  },
  {
   "cell_type": "code",
   "execution_count": 46,
   "id": "f50167c9-6978-4504-8fa7-0a4e3e70bf1a",
   "metadata": {},
   "outputs": [
    {
     "data": {
      "text/plain": [
       "array([[1., 0., 0., 0.],\n",
       "       [0., 1., 0., 0.],\n",
       "       [0., 0., 1., 0.],\n",
       "       [0., 0., 0., 1.],\n",
       "       [0., 0., 0., 0.]])"
      ]
     },
     "execution_count": 46,
     "metadata": {},
     "output_type": "execute_result"
    }
   ],
   "source": [
    "np.eye(5,4) # np.eye doesn't take tuple as input"
   ]
  },
  {
   "cell_type": "code",
   "execution_count": 49,
   "id": "1469ee67-8905-4b82-9dcd-760ea1c381e6",
   "metadata": {},
   "outputs": [
    {
     "data": {
      "text/plain": [
       "array([[3, 0, 0, 0],\n",
       "       [0, 6, 0, 0],\n",
       "       [0, 0, 3, 0],\n",
       "       [0, 0, 0, 6]])"
      ]
     },
     "execution_count": 49,
     "metadata": {},
     "output_type": "execute_result"
    }
   ],
   "source": [
    "np.diag([3,6,3,6])"
   ]
  },
  {
   "cell_type": "code",
   "execution_count": 54,
   "id": "e89176f7-e314-44c6-87ed-c17768a33fcc",
   "metadata": {},
   "outputs": [
    {
     "data": {
      "text/plain": [
       "array([[[5, 2, 1, 2],\n",
       "        [8, 8, 9, 3],\n",
       "        [1, 7, 6, 2]],\n",
       "\n",
       "       [[1, 3, 8, 6],\n",
       "        [9, 4, 0, 9],\n",
       "        [2, 4, 1, 1]]])"
      ]
     },
     "execution_count": 54,
     "metadata": {},
     "output_type": "execute_result"
    }
   ],
   "source": [
    "np.random.randint(low = 0, high = 10,size = (2,3,4)) # size = (2,3,4P) means 2 matrices of 3X4"
   ]
  },
  {
   "cell_type": "code",
   "execution_count": 62,
   "id": "ac569e6b-7e16-47a7-91a3-9a4fbd69cf0f",
   "metadata": {},
   "outputs": [
    {
     "data": {
      "text/plain": [
       "array([[[[6, 7, 8, 6, 7],\n",
       "         [6, 7, 6, 0, 0],\n",
       "         [1, 4, 3, 8, 5],\n",
       "         [3, 6, 7, 1, 9]],\n",
       "\n",
       "        [[4, 3, 0, 8, 8],\n",
       "         [7, 1, 6, 4, 5],\n",
       "         [7, 8, 0, 1, 0],\n",
       "         [1, 1, 5, 3, 2]],\n",
       "\n",
       "        [[0, 0, 6, 1, 0],\n",
       "         [3, 8, 7, 1, 7],\n",
       "         [6, 0, 9, 8, 9],\n",
       "         [4, 4, 1, 5, 2]]],\n",
       "\n",
       "\n",
       "       [[[8, 1, 2, 0, 3],\n",
       "         [1, 6, 6, 5, 7],\n",
       "         [0, 4, 9, 1, 0],\n",
       "         [2, 9, 6, 2, 1]],\n",
       "\n",
       "        [[0, 1, 4, 3, 1],\n",
       "         [8, 5, 2, 7, 2],\n",
       "         [9, 2, 6, 9, 4],\n",
       "         [3, 0, 8, 7, 1]],\n",
       "\n",
       "        [[9, 6, 2, 1, 6],\n",
       "         [7, 6, 5, 3, 4],\n",
       "         [2, 5, 7, 7, 3],\n",
       "         [5, 4, 3, 3, 6]]]])"
      ]
     },
     "execution_count": 62,
     "metadata": {},
     "output_type": "execute_result"
    }
   ],
   "source": [
    "# Generating a 4D array with random integers between 0 and 9 (high=10 is exclusive)\n",
    "\n",
    "nDarray = np.random.randint(low = 0, high = 10,size = (2,3,4,5)) \n",
    "\n",
    "# Explanation of size=(2, 2, 3, 4):\n",
    "# This creates a 4D array, where:\n",
    "# - The outermost level has 2 blocks (first 2 in size tuple) --> shape: (2)\n",
    "# - Each block contains 2 matrices (second 2 in size tuple) --> shape: (2, 2)\n",
    "# - Each matrix has 3 rows (third 3 in size tuple) --> shape: (2, 2, 3)\n",
    "# - Each row has 4 columns (fourth 4 in size tuple) --> shape: (2, 2, 3, 4)\n",
    "#\n",
    "# Overall, this generates a 4D array with the shape (2, 2, 3, 4).\n",
    "# For example, you can think of it as:\n",
    "# - 2 blocks\n",
    "# - Each block has 2 matrices\n",
    "# - Each matrix has 3 rows and 4 columns of random integers\n",
    "\n",
    "nDarray"
   ]
  },
  {
   "cell_type": "code",
   "execution_count": 61,
   "id": "214327d4-0234-4f91-84ed-8203b05762a9",
   "metadata": {},
   "outputs": [
    {
     "data": {
      "text/plain": [
       "(2, 2, 3, 4)"
      ]
     },
     "execution_count": 61,
     "metadata": {},
     "output_type": "execute_result"
    }
   ],
   "source": [
    "nDarray.shape"
   ]
  },
  {
   "cell_type": "code",
   "execution_count": null,
   "id": "87dab8ab-4c19-4a5e-ac93-f8a4bb905036",
   "metadata": {},
   "outputs": [],
   "source": []
  }
 ],
 "metadata": {
  "kernelspec": {
   "display_name": "Python 3 (ipykernel)",
   "language": "python",
   "name": "python3"
  },
  "language_info": {
   "codemirror_mode": {
    "name": "ipython",
    "version": 3
   },
   "file_extension": ".py",
   "mimetype": "text/x-python",
   "name": "python",
   "nbconvert_exporter": "python",
   "pygments_lexer": "ipython3",
   "version": "3.12.3"
  }
 },
 "nbformat": 4,
 "nbformat_minor": 5
}
