{
 "cells": [
  {
   "cell_type": "code",
   "execution_count": 6,
   "id": "f0df6aa2-9adc-4a1a-86ce-1aeb5f64ce7f",
   "metadata": {},
   "outputs": [
    {
     "name": "stdout",
     "output_type": "stream",
     "text": [
      "{'Dictionary': 10, 'comprehensions': 14, 'nested,': 7, 'allowing': 8, 'create': 6, 'complex': 7, 'dictionaries.': 13, 'example': 7, 'creates': 7, 'dictionary': 10, 'letter': 6, 'counts': 6}\n"
     ]
    }
   ],
   "source": [
    "#WAP to get count of words. Only show those which have length greater than 5. \n",
    "'''['Dictionary', 'comprehensions', 'can', 'also', 'be', 'nested,', 'allowing', 'you', 'to', 'create', 'more', 'complex',\n",
    "'dictionaries.', 'Here', 'is', 'an', 'example', 'that', 'creates', 'a', 'dictionary', 'of', 'letter','counts']'''\n",
    "\n",
    "lst= ['Dictionary', 'comprehensions', 'can', 'also', 'be', 'nested,', 'allowing', 'you', 'to', 'create', 'more','complex', 'dictionaries.', 'Here', 'is', 'an', 'example', 'that', 'creates', 'a', 'dictionary', 'of', 'letter','counts']\n",
    "\n",
    "result = {each:len(each) for each in lst if len(each) >= 5}\n",
    "print(result)"
   ]
  },
  {
   "cell_type": "code",
   "execution_count": null,
   "id": "5bdc7dcb-6ce8-4adb-a750-a22e527cb383",
   "metadata": {},
   "outputs": [],
   "source": []
  }
 ],
 "metadata": {
  "kernelspec": {
   "display_name": "Python 3 (ipykernel)",
   "language": "python",
   "name": "python3"
  },
  "language_info": {
   "codemirror_mode": {
    "name": "ipython",
    "version": 3
   },
   "file_extension": ".py",
   "mimetype": "text/x-python",
   "name": "python",
   "nbconvert_exporter": "python",
   "pygments_lexer": "ipython3",
   "version": "3.12.3"
  }
 },
 "nbformat": 4,
 "nbformat_minor": 5
}
