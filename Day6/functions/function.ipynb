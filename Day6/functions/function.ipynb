{
 "cells": [
  {
   "cell_type": "raw",
   "id": "952fd990-c8d4-495a-a9ac-7d711b2f622e",
   "metadata": {},
   "source": [
    "Python Function\n",
    "\n",
    "A function is a blood of code "
   ]
  },
  {
   "cell_type": "code",
   "execution_count": 2,
   "id": "e1fa5d85-5903-4cf9-a5c6-1e5d35296dd0",
   "metadata": {},
   "outputs": [
    {
     "name": "stdout",
     "output_type": "stream",
     "text": [
      "17.5\n"
     ]
    }
   ],
   "source": [
    "def calculate_mean(x):\n",
    "    all_sum = sum(x)\n",
    "    mean = all_sum/len(x)\n",
    "    return mean\n",
    "\n",
    "x = [1,2,43,54,2,3]\n",
    "print(calculate_mean(x))"
   ]
  },
  {
   "cell_type": "code",
   "execution_count": 3,
   "id": "7b0e5e8d-3f96-4adb-b8a5-d08f407e58bb",
   "metadata": {},
   "outputs": [
    {
     "name": "stdout",
     "output_type": "stream",
     "text": [
      "9\n"
     ]
    }
   ],
   "source": [
    "def addNumber(num1,num2):\n",
    "    _sum = num1+num2\n",
    "    return _sum\n",
    "\n",
    "print(addNumber(5,4))"
   ]
  },
  {
   "cell_type": "code",
   "execution_count": 8,
   "id": "f68fc587-3fef-40f3-965b-51424dc11d59",
   "metadata": {},
   "outputs": [
    {
     "name": "stdout",
     "output_type": "stream",
     "text": [
      "('namling', 21, 'BCA', 'AI')\n"
     ]
    }
   ],
   "source": [
    "# Function with any numbers of arguements\n",
    "\n",
    "def my_print(*args):\n",
    "\n",
    "    print(args)\n",
    "\n",
    "result = my_print(\"namling\", 10+11, \"BCA\", \"AI\")\n",
    "      "
   ]
  },
  {
   "cell_type": "code",
   "execution_count": 12,
   "id": "1353bf3e-cda6-4ee2-ab68-1f9f0ddbd3fc",
   "metadata": {},
   "outputs": [
    {
     "name": "stdout",
     "output_type": "stream",
     "text": [
      "Positional Arguements: \n",
      "1\n",
      "hello\n",
      "ram\n",
      "--------------------\n",
      "Keyword arguements\n",
      "{'age': 22, 'address': 'sankhamul'}\n"
     ]
    }
   ],
   "source": [
    "def my_printer(*args, **kwargs):\n",
    "    print(\"Positional Arguements: \")\n",
    "    for arg in args:\n",
    "        print(arg)\n",
    "\n",
    "    print(\"-\"*20)\n",
    "    \n",
    "    print(\"Keyword arguements\")\n",
    "    print(kwargs)\n",
    "    # for key, value in kwargs.items():\n",
    "    #     print(key,\"=\",value)\n",
    "\n",
    "\n",
    "result = my_printer(1,'hello','ram', age = 22, address = \"sankhamul\")\n"
   ]
  },
  {
   "cell_type": "code",
   "execution_count": 20,
   "id": "0f1d7d53-cf71-4941-8b11-2a34a6f68266",
   "metadata": {},
   "outputs": [
    {
     "name": "stdout",
     "output_type": "stream",
     "text": [
      "102.0\n",
      "38.7\n",
      "38.7\n",
      "102.0\n"
     ]
    }
   ],
   "source": [
    "def mean_sq_error(*error):\n",
    "\n",
    "    total = sum(error)\n",
    "    mean = total/len(error)\n",
    "    return mean\n",
    "\n",
    "print(mean_sq_error(50,120,12,323,42,12,3,324,32)) #102.0\n",
    "print(mean_sq_error(*[1,2,3,4,5,2,23,12,323,12])) #38.7\n",
    "\n",
    "lst = [1,2,3,4,5,2,23,12,323,12]\n",
    "lst2 = [50,120,12,323,42,12,3,324,32]\n",
    "print(mean_sq_error(*lst)) #38.7\n",
    "print(mean_sq_error(*lst2)) #102.0\n"
   ]
  },
  {
   "cell_type": "code",
   "execution_count": 25,
   "id": "d847063a-b1de-4d08-a94e-d96e2c8058ba",
   "metadata": {},
   "outputs": [
    {
     "data": {
      "text/plain": [
       "{'LR': 'type: linear, Size: 60000'}"
      ]
     },
     "execution_count": 25,
     "metadata": {},
     "output_type": "execute_result"
    }
   ],
   "source": [
    "def create_model(name,**kwargs):\n",
    "    model_name = name \n",
    "    model_size = kwargs['size']\n",
    "    model_type = kwargs.get('type', 'linear') # If key is not define or have no value it's gives default value in dictionary\n",
    "\n",
    "    return {model_name : f\"type: {model_type}, Size: {model_size}\"}\n",
    "\n",
    "create_model(\"LR\", size = 60000, shape = [12,23,421,1])"
   ]
  },
  {
   "cell_type": "markdown",
   "id": "dbeb4059-bd28-404c-9d20-3ada3598ab28",
   "metadata": {},
   "source": [
    "Documentation in Function"
   ]
  },
  {
   "cell_type": "code",
   "execution_count": 40,
   "id": "8c7353c0-578f-4bff-9fe0-564c3fcbe68e",
   "metadata": {},
   "outputs": [
    {
     "name": "stdout",
     "output_type": "stream",
     "text": [
      "\n",
      "    Calculate the square of a given number.\n",
      "\n",
      "    Parameters:\n",
      "    -----------------------------\n",
      "    n : int or float, optional\n",
      "        The number to be squared. By default, n is 4.\n",
      "\n",
      "    Returns:\n",
      "    -----------------------------\n",
      "    int or float\n",
      "        The square of the input number.\n",
      "\n",
      "    Example:\n",
      "    -----------------------------\n",
      "    >>> square(5)\n",
      "    25\n",
      "    >>> square(3.5)\n",
      "    12.25\n",
      "    >>> square()  # Uses default value of n=4\n",
      "    16\n",
      "     \n"
     ]
    }
   ],
   "source": [
    "def square(n = 4):\n",
    "    \n",
    "     \n",
    "    \"\"\"\n",
    "    Calculate the square of a given number.\n",
    "\n",
    "    Parameters:\n",
    "    -----------------------------\n",
    "    n : int or float, optional\n",
    "        The number to be squared. By default, n is 4.\n",
    "\n",
    "    Returns:\n",
    "    -----------------------------\n",
    "    int or float\n",
    "        The square of the input number.\n",
    "\n",
    "    Example:\n",
    "    -----------------------------\n",
    "    >>> square(5)\n",
    "    25\n",
    "    >>> square(3.5)\n",
    "    12.25\n",
    "    >>> square()  # Uses default value of n=4\n",
    "    16\n",
    "     \"\"\"\n",
    "    return n**2\n",
    "\n",
    "print(square.__doc__)"
   ]
  },
  {
   "cell_type": "code",
   "execution_count": 41,
   "id": "8108ea24-e705-49f0-8f51-95ce4aca3a73",
   "metadata": {},
   "outputs": [
    {
     "data": {
      "text/plain": [
       "16"
      ]
     },
     "execution_count": 41,
     "metadata": {},
     "output_type": "execute_result"
    }
   ],
   "source": [
    "square()"
   ]
  },
  {
   "cell_type": "markdown",
   "id": "5be24df6-5031-43da-a628-fefd3edf9a65",
   "metadata": {},
   "source": [
    "Question: Default Parameter Values\n",
    "**Write a Program to Define a Function `power`** that takes two arguments, `base` and `exp`. The function should return `base` raised to the power of `exp`.\n",
    " \n",
    "If `exp` is not provided, it should default to 2. Call this function with and without the second argument and print the results.\n",
    " "
   ]
  },
  {
   "cell_type": "code",
   "execution_count": 49,
   "id": "405b391f-128e-432c-81b4-7dc0f025428c",
   "metadata": {},
   "outputs": [
    {
     "name": "stdout",
     "output_type": "stream",
     "text": [
      "25.0\n",
      "32.0\n"
     ]
    }
   ],
   "source": [
    "# def power(base,exp = 2):\n",
    "#     power = base ** exp\n",
    "#     return power\n",
    "\n",
    "# print(power(2,4))\n",
    "\n",
    "import math\n",
    "\n",
    "def power(base,exp = 2) -> int : #( ->  int ) this shows the expected result of return data type (it does not do anything specific)\n",
    "    \"\"\"\n",
    "    Calculate the result of raising the base to the power of the exponent.\n",
    "\n",
    "    Parameters:\n",
    "    -----------------------------\n",
    "    base : int or float\n",
    "        The base number to be raised to a power.\n",
    "    \n",
    "    exp : int or float, optional\n",
    "        The exponent to which the base is raised. Default is 2 (square of the base).\n",
    "\n",
    "    Returns:\n",
    "    -----------------------------\n",
    "    float\n",
    "        The result of base raised to the power of exp.\n",
    "\n",
    "    Example:\n",
    "    -----------------------------\n",
    "    >>> power(5)\n",
    "    25.0\n",
    "    >>> power(2, 5)\n",
    "    32.0\n",
    "    >>> power(3, 3)\n",
    "    27.0\n",
    "    >>> power(9)\n",
    "    81.0\n",
    "    \n",
    "    \"\"\"\n",
    "\n",
    "    result = math.pow(base,exp)\n",
    "    return result\n",
    "\n",
    "print(power(5))\n",
    "print(power(2,5))\n",
    "\n"
   ]
  },
  {
   "cell_type": "code",
   "execution_count": 48,
   "id": "cfc7e0fc-c26d-499a-8b5f-c182ec7773b3",
   "metadata": {},
   "outputs": [
    {
     "name": "stdout",
     "output_type": "stream",
     "text": [
      "\n",
      "    Calculate the result of raising the base to the power of the exponent.\n",
      "\n",
      "    Parameters:\n",
      "    -----------------------------\n",
      "    base : int or float\n",
      "        The base number to be raised to a power.\n",
      "    \n",
      "    exp : int or float, optional\n",
      "        The exponent to which the base is raised. Default is 2 (square of the base).\n",
      "\n",
      "    Returns:\n",
      "    -----------------------------\n",
      "    float\n",
      "        The result of base raised to the power of exp.\n",
      "\n",
      "    Example:\n",
      "    -----------------------------\n",
      "    >>> power(5)\n",
      "    25.0\n",
      "    >>> power(2, 5)\n",
      "    32.0\n",
      "    >>> power(3, 3)\n",
      "    27.0\n",
      "    >>> power(9)\n",
      "    81.0\n",
      "    \n",
      "    \n"
     ]
    }
   ],
   "source": [
    "print(power.__doc__)"
   ]
  },
  {
   "cell_type": "code",
   "execution_count": null,
   "id": "06710384-73de-44a8-86c1-9cb476c35f92",
   "metadata": {},
   "outputs": [],
   "source": [
    "Calculate the standard deviation of given list"
   ]
  }
 ],
 "metadata": {
  "kernelspec": {
   "display_name": "Python 3 (ipykernel)",
   "language": "python",
   "name": "python3"
  },
  "language_info": {
   "codemirror_mode": {
    "name": "ipython",
    "version": 3
   },
   "file_extension": ".py",
   "mimetype": "text/x-python",
   "name": "python",
   "nbconvert_exporter": "python",
   "pygments_lexer": "ipython3",
   "version": "3.12.3"
  }
 },
 "nbformat": 4,
 "nbformat_minor": 5
}
