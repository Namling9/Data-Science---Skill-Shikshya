{
 "cells": [
  {
   "cell_type": "code",
   "execution_count": 1,
   "id": "e97a8c3c-4008-408d-935b-a4195a3ba949",
   "metadata": {},
   "outputs": [],
   "source": [
    "#def read_file(path):\n",
    "\n",
    "  #  file = read(path)\n",
    "  #  return file\n",
    "\n",
    "\n"
   ]
  },
  {
   "cell_type": "code",
   "execution_count": 2,
   "id": "7ccbcbbb-7640-4bed-bd2b-e22e0601f7ac",
   "metadata": {},
   "outputs": [
    {
     "name": "stdout",
     "output_type": "stream",
     "text": [
      "Hello, World!\n",
      "\n"
     ]
    }
   ],
   "source": [
    "file = open(\"Message.txt\", \"w+\")\n",
    "\n",
    "# Write to the file\n",
    "file.write(\"Hello, World!\\n\")\n",
    "\n",
    "# Move the cursor to the beginning of the file to read\n",
    "file.seek(0)\n",
    "\n",
    "# Read the file content\n",
    "content = file.read()\n",
    "print(content)\n",
    "\n",
    "# Close the file\n",
    "file.close()\n",
    "\n"
   ]
  },
  {
   "cell_type": "code",
   "execution_count": 9,
   "id": "42eb225d-3976-4685-b9ef-365d2ad65d5c",
   "metadata": {},
   "outputs": [
    {
     "name": "stdout",
     "output_type": "stream",
     "text": [
      "1 : Alice\n",
      "2 : Bob\n",
      "3 : Charlie\n"
     ]
    }
   ],
   "source": [
    "# enumerate()\n",
    "\n",
    "names = ['Alice','Bob','Charlie']\n",
    "\n",
    "for i, name in enumerate(names,1):\n",
    "    print(i,name, sep=' : ')"
   ]
  },
  {
   "cell_type": "code",
   "execution_count": 10,
   "id": "e8bd8a7f-f5c2-4c12-8e4d-91b1402f871b",
   "metadata": {},
   "outputs": [
    {
     "data": {
      "text/plain": [
       "[(1, 'a'), (2, 'b'), (3, 'c')]"
      ]
     },
     "execution_count": 10,
     "metadata": {},
     "output_type": "execute_result"
    }
   ],
   "source": [
    "#zip()\n",
    "\n",
    "list1 = [1,2,3,4]\n",
    "list2 = ['a','b','c']\n",
    "\n",
    "list(zip(list1,list2))"
   ]
  },
  {
   "cell_type": "code",
   "execution_count": 11,
   "id": "25cbef42-1dd4-4ffd-bc98-d3051f6c6646",
   "metadata": {},
   "outputs": [
    {
     "data": {
      "text/plain": [
       "[(1, 'a', 'x'), (2, 'b', 'y'), (3, 'c', 'z')]"
      ]
     },
     "execution_count": 11,
     "metadata": {},
     "output_type": "execute_result"
    }
   ],
   "source": [
    "#zip()\n",
    "\n",
    "list1 = [1,2,3,4]\n",
    "list2 = ['a','b','c']\n",
    "list3 = ['x','y','z']\n",
    "list(zip(list1,list2,list3))"
   ]
  },
  {
   "cell_type": "code",
   "execution_count": null,
   "id": "a18c426a-319c-44c2-a8ba-56ebb4224fec",
   "metadata": {},
   "outputs": [],
   "source": []
  }
 ],
 "metadata": {
  "kernelspec": {
   "display_name": "Python 3 (ipykernel)",
   "language": "python",
   "name": "python3"
  },
  "language_info": {
   "codemirror_mode": {
    "name": "ipython",
    "version": 3
   },
   "file_extension": ".py",
   "mimetype": "text/x-python",
   "name": "python",
   "nbconvert_exporter": "python",
   "pygments_lexer": "ipython3",
   "version": "3.12.3"
  }
 },
 "nbformat": 4,
 "nbformat_minor": 5
}
