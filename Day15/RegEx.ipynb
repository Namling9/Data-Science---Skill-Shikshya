{
 "cells": [
  {
   "cell_type": "code",
   "execution_count": 6,
   "id": "6c5bb1a5-5a8e-4066-9afd-639cb55bb0d4",
   "metadata": {},
   "outputs": [
    {
     "name": "stdout",
     "output_type": "stream",
     "text": [
      "<re.Match object; span=(1, 3), match='he'>\n",
      "True\n"
     ]
    }
   ],
   "source": [
    "# Regular Expression\n",
    "\n",
    "import re\n",
    "\n",
    "# re.search()\n",
    "\n",
    "string = \"The quick brown fox jumps over the lazy dog.\"\n",
    "pattern = r'he'\n",
    "\n",
    "match = re.search(pattern,string)\n",
    "print(match)\n",
    "print(pattern in string)"
   ]
  },
  {
   "cell_type": "code",
   "execution_count": 5,
   "id": "65812bc1-4b0b-4c01-b8af-13a5d540191f",
   "metadata": {},
   "outputs": [
    {
     "name": "stdout",
     "output_type": "stream",
     "text": [
      "['The']\n"
     ]
    }
   ],
   "source": [
    "# re.findall()\n",
    "\n",
    "import re\n",
    "\n",
    "# re.search()\n",
    "\n",
    "string = \"The quick brown fox jumps over the lazy dog.\"\n",
    "pattern = r'[A-Z]he'\n",
    "\n",
    "match = re.findall(pattern,string)\n",
    "print(match)"
   ]
  },
  {
   "cell_type": "code",
   "execution_count": null,
   "id": "eac37174-cfd6-4dd3-8c83-8312dc257fce",
   "metadata": {},
   "outputs": [],
   "source": [
    "#re.match()\n",
    "\n"
   ]
  }
 ],
 "metadata": {
  "kernelspec": {
   "display_name": "Python 3 (ipykernel)",
   "language": "python",
   "name": "python3"
  },
  "language_info": {
   "codemirror_mode": {
    "name": "ipython",
    "version": 3
   },
   "file_extension": ".py",
   "mimetype": "text/x-python",
   "name": "python",
   "nbconvert_exporter": "python",
   "pygments_lexer": "ipython3",
   "version": "3.12.3"
  }
 },
 "nbformat": 4,
 "nbformat_minor": 5
}
