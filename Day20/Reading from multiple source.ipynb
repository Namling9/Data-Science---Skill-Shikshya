{
 "cells": [
  {
   "cell_type": "code",
   "execution_count": 1,
   "id": "4833a6bc-3829-4cbe-862d-52a37230be1c",
   "metadata": {},
   "outputs": [],
   "source": [
    "import pandas as pd"
   ]
  },
  {
   "cell_type": "code",
   "execution_count": null,
   "id": "4df6412e-743c-4d80-a3be-2df2f5f1d8ca",
   "metadata": {},
   "outputs": [],
   "source": [
    "# From csv\n",
    "\n",
    "df = pd.read_csv(#data_path)"
   ]
  },
  {
   "cell_type": "code",
   "execution_count": 3,
   "id": "dd6d2b59-92e4-4f5a-9b64-b872b056d712",
   "metadata": {},
   "outputs": [],
   "source": [
    "# From Web (json)\n",
    "\n",
    "import requests\n",
    "\n",
    "df_api = requests.get(\"https://fakerapi.it/api/v2/addresses?_quantity=1\")"
   ]
  },
  {
   "cell_type": "code",
   "execution_count": 4,
   "id": "83d7e9e4-c580-4bbc-892b-4bb44871b619",
   "metadata": {},
   "outputs": [
    {
     "data": {
      "text/plain": [
       "<Response [200]>"
      ]
     },
     "execution_count": 4,
     "metadata": {},
     "output_type": "execute_result"
    }
   ],
   "source": []
  },
  {
   "cell_type": "code",
   "execution_count": null,
   "id": "fa64112c-f63c-444a-bc23-5ddd1afc00cf",
   "metadata": {},
   "outputs": [],
   "source": [
    "# From database\n",
    "\n",
    "import sqlite3\n",
    "\n",
    "conn = sqlite3.connect(\"\")"
   ]
  }
 ],
 "metadata": {
  "kernelspec": {
   "display_name": "Python 3 (ipykernel)",
   "language": "python",
   "name": "python3"
  },
  "language_info": {
   "codemirror_mode": {
    "name": "ipython",
    "version": 3
   },
   "file_extension": ".py",
   "mimetype": "text/x-python",
   "name": "python",
   "nbconvert_exporter": "python",
   "pygments_lexer": "ipython3",
   "version": "3.12.3"
  }
 },
 "nbformat": 4,
 "nbformat_minor": 5
}
