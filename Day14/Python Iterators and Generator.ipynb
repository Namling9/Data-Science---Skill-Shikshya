{
 "cells": [
  {
   "cell_type": "markdown",
   "id": "0ab3fcf9-b9a9-460d-9905-1b7595a901ec",
   "metadata": {},
   "source": [
    "# Python Iterator"
   ]
  },
  {
   "cell_type": "code",
   "execution_count": null,
   "id": "f1ed88c3-b2b1-4a42-b0bd-cebac6814cb4",
   "metadata": {},
   "outputs": [],
   "source": [
    "class Fibonacci:\n",
    "    def __init__(self,limit):\n",
    "        self.limit = limit\n",
    "        \n",
    "    def __iter__(self):\n",
    "        return self\n",
    "        \n",
    "    def __next__(self):\n",
    "        if any_condition:\n",
    "            raise StopIteration"
   ]
  },
  {
   "cell_type": "markdown",
   "id": "ea2d66a3-6048-4900-b88d-bbaccb3f2db8",
   "metadata": {},
   "source": [
    "# Generator"
   ]
  },
  {
   "cell_type": "code",
   "execution_count": 7,
   "id": "04ff87c0-03b3-4f6e-9c18-75e371ca42b5",
   "metadata": {},
   "outputs": [
    {
     "name": "stdout",
     "output_type": "stream",
     "text": [
      "1\n",
      "2\n",
      "3\n",
      "4\n",
      "5\n"
     ]
    }
   ],
   "source": [
    "def number_generator(start,end):\n",
    "    for num in range(start,end+1):\n",
    "        yield num\n",
    "\n",
    "number = number_generator(1,5)\n",
    "for num in number:\n",
    "    print(num)"
   ]
  },
  {
   "cell_type": "code",
   "execution_count": 10,
   "id": "fafab9b3-d701-4fbd-9bff-6695554310fb",
   "metadata": {},
   "outputs": [
    {
     "name": "stdout",
     "output_type": "stream",
     "text": [
      "1\n",
      "2\n",
      "3\n",
      "4\n"
     ]
    }
   ],
   "source": [
    "gen = (i for i in range(1,5))\n",
    "\n",
    "for num in gen:\n",
    "    print(num)"
   ]
  },
  {
   "cell_type": "code",
   "execution_count": 1,
   "id": "67791a05-41a0-4c71-8ad2-f0a532431c13",
   "metadata": {},
   "outputs": [
    {
     "name": "stdout",
     "output_type": "stream",
     "text": [
      "11\n",
      "13\n",
      "17\n",
      "19\n",
      "23\n",
      "29\n",
      "31\n",
      "37\n",
      "41\n"
     ]
    }
   ],
   "source": [
    "def is_prime(n):\n",
    "    if n <= 1:\n",
    "        return False\n",
    "        \n",
    "    for i in range(2, int(n**0.5)+1):\n",
    "        if n % i == 0:\n",
    "            return False\n",
    "    return True\n",
    "    \n",
    "def prime_number():\n",
    "    num = 9\n",
    "    while True:\n",
    "        if is_prime(num):\n",
    "            yield num\n",
    "        num+=1\n",
    "\n",
    "prime_nums = prime_number()\n",
    "for _ in range(1,10):\n",
    "    print(next(prime_nums))"
   ]
  },
  {
   "cell_type": "code",
   "execution_count": null,
   "id": "7c0b567d-6ea0-43cc-9081-20685b5e4370",
   "metadata": {},
   "outputs": [],
   "source": []
  }
 ],
 "metadata": {
  "kernelspec": {
   "display_name": "Python 3 (ipykernel)",
   "language": "python",
   "name": "python3"
  },
  "language_info": {
   "codemirror_mode": {
    "name": "ipython",
    "version": 3
   },
   "file_extension": ".py",
   "mimetype": "text/x-python",
   "name": "python",
   "nbconvert_exporter": "python",
   "pygments_lexer": "ipython3",
   "version": "3.12.3"
  }
 },
 "nbformat": 4,
 "nbformat_minor": 5
}
