{
 "cells": [
  {
   "cell_type": "markdown",
   "id": "2e506b18-c87c-4f42-91c5-873f94154975",
   "metadata": {},
   "source": [
    "## Getter"
   ]
  },
  {
   "cell_type": "code",
   "execution_count": 6,
   "id": "03abb43e-5609-43bd-a088-0d98ed65a25b",
   "metadata": {},
   "outputs": [
    {
     "name": "stdout",
     "output_type": "stream",
     "text": [
      "Getting Name.....\n",
      "Alice\n"
     ]
    }
   ],
   "source": []
  },
  {
   "cell_type": "markdown",
   "id": "351021ac-2ac7-4821-9b65-a111966ac997",
   "metadata": {},
   "source": [
    "## Setter"
   ]
  },
  {
   "cell_type": "code",
   "execution_count": 12,
   "id": "9471c429-111b-4959-a078-a943770b925f",
   "metadata": {},
   "outputs": [
    {
     "name": "stdout",
     "output_type": "stream",
     "text": [
      "Getting Name.....\n",
      "Alice\n",
      "Setting Name .....\n",
      "Getting Name.....\n",
      "Bob\n"
     ]
    }
   ],
   "source": [
    "class Person:\n",
    "    def __init__(self,name):\n",
    "        self.__name = name\n",
    "    @property\n",
    "    def name(self):\n",
    "        print(\"Getting Name.....\")\n",
    "        return self.__name\n",
    "\n",
    "    @name.setter\n",
    "    def name(self,value):\n",
    "        print(\"Setting Name .....\")\n",
    "        self.__name = value\n",
    "        \n",
    "p1 = Person(\"Alice\")\n",
    "print(p1.name)\n",
    "p1.name = \"Bob\"\n",
    "print(p1.name)"
   ]
  },
  {
   "cell_type": "markdown",
   "id": "08983c36-cf35-4252-b916-9a532d4f42b5",
   "metadata": {},
   "source": [
    "## Deleter"
   ]
  },
  {
   "cell_type": "code",
   "execution_count": null,
   "id": "b1d9dcf2-528f-4191-9b91-a21675c6e0d6",
   "metadata": {},
   "outputs": [],
   "source": []
  }
 ],
 "metadata": {
  "kernelspec": {
   "display_name": "Python 3 (ipykernel)",
   "language": "python",
   "name": "python3"
  },
  "language_info": {
   "codemirror_mode": {
    "name": "ipython",
    "version": 3
   },
   "file_extension": ".py",
   "mimetype": "text/x-python",
   "name": "python",
   "nbconvert_exporter": "python",
   "pygments_lexer": "ipython3",
   "version": "3.12.3"
  }
 },
 "nbformat": 4,
 "nbformat_minor": 5
}
