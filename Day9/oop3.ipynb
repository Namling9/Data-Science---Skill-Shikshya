{
 "cells": [
  {
   "cell_type": "code",
   "execution_count": null,
   "id": "61a48eab-e77a-4850-b74c-856c755807e3",
   "metadata": {},
   "outputs": [],
   "source": [
    "# hierarchial inheritance\n",
    "\n"
   ]
  },
  {
   "cell_type": "code",
   "execution_count": null,
   "id": "914d25e6-16b0-4441-959d-a901c819380b",
   "metadata": {},
   "outputs": [],
   "source": [
    "# Hybrid inheritance\n"
   ]
  },
  {
   "cell_type": "code",
   "execution_count": 3,
   "id": "def9a81e-e6a7-4e42-a75e-125c03ae8166",
   "metadata": {},
   "outputs": [
    {
     "name": "stdout",
     "output_type": "stream",
     "text": [
      "Meow Meow\n",
      "Barking oughffffffff\n"
     ]
    }
   ],
   "source": [
    "# Method overridding in python\n",
    "\n",
    "class Animal:\n",
    "\n",
    "    def sound(self):\n",
    "        print(\"Making some sound....\")\n",
    "\n",
    "class dog:\n",
    "    def sound(self,sound):\n",
    "        print(\"Barking\",sound)\n",
    "\n",
    "class cat: \n",
    "    def sound(self):\n",
    "        print(\"Meow Meow\")\n",
    "\n",
    "my_cat = cat()\n",
    "my_cat.sound()\n",
    "\n",
    "my_dog = dog()\n",
    "my_dog.sound(\"oughffffffff\")"
   ]
  },
  {
   "cell_type": "code",
   "execution_count": 7,
   "id": "105d2547-6201-4491-8ec0-476b4705d18c",
   "metadata": {},
   "outputs": [
    {
     "name": "stdout",
     "output_type": "stream",
     "text": [
      "Hello from the child\n",
      "Hello from the parent\n"
     ]
    }
   ],
   "source": [
    "class Parent:\n",
    "    def __init__(self):\n",
    "        print(\"Hello from the parent\")\n",
    "\n",
    "class Child(Parent):\n",
    "    def __init__(self):\n",
    "        print(\"Hello from the child\")\n",
    "        super().__init__()\n",
    "\n",
    "my_child = Child()"
   ]
  },
  {
   "cell_type": "code",
   "execution_count": 12,
   "id": "f20b3061-5146-4825-9d26-c837966addb6",
   "metadata": {},
   "outputs": [
    {
     "data": {
      "text/plain": [
       "1"
      ]
     },
     "execution_count": 12,
     "metadata": {},
     "output_type": "execute_result"
    }
   ],
   "source": [
    "# Encapsulation\n",
    "\n",
    "class Example:\n",
    "\n",
    "    def __init__(self):\n",
    "        self.public_var = 1\n",
    "        self._protectedvar = 2\n",
    "        self.__private_var = 3\n",
    "    def public_func(self):\n",
    "        print(\"This is public function and public variable:\",self.public_var)\n",
    "    def _protected_func(self):\n",
    "        print(\"This is protected function and protected variable: \", self._protectedvar)\n",
    "    def __private_funct(self):\n",
    "        print(\"This is private function and private variable: \", self.__private_var)\n",
    "\n",
    "public = Example()\n",
    "public.public_var\n",
    "\n",
    "        "
   ]
  },
  {
   "cell_type": "code",
   "execution_count": null,
   "id": "63bb9ef0-270d-48f1-bc53-8142f230fdd3",
   "metadata": {},
   "outputs": [],
   "source": [
    "# Polymorphism\n",
    "\n"
   ]
  },
  {
   "cell_type": "code",
   "execution_count": null,
   "id": "5e83fb62-302f-4f0f-9d88-32db80049405",
   "metadata": {},
   "outputs": [],
   "source": [
    "# Abstraction\n",
    "\n",
    "from abc import ABC, abstractmethod\n",
    "\n",
    "class Shape(ABC):\n",
    "\n",
    "    @abstractmethod\n",
    "    def area(self):\n",
    "        pass\n",
    "        \n",
    "    @abstractmethod\n",
    "    def parameter(self):\n",
    "        pass\n",
    "        \n",
    "    @abstractmethod\n",
    "    def volume(self):\n",
    "        pass\n",
    "\n",
    "class rectangle(Shape):\n",
    "    "
   ]
  },
  {
   "cell_type": "code",
   "execution_count": 21,
   "id": "28fdd941-aff5-45bf-b26a-3889876f6c4e",
   "metadata": {},
   "outputs": [
    {
     "data": {
      "text/plain": [
       "Person(Namling, 21)"
      ]
     },
     "execution_count": 21,
     "metadata": {},
     "output_type": "execute_result"
    }
   ],
   "source": [
    "# Magic Method\n",
    "\n",
    "class Person :\n",
    "    def __init__(self,name,age):\n",
    "        self.name = name\n",
    "        self.age = age\n",
    "    def __str__(self): # overloading print() \n",
    "        return f\"Name: {self.name} and Age: {self.age}\"\n",
    "        \n",
    "    def __repr__(self): #overloading class representation\n",
    "        return f\"Person({self.name}, {self.age})\"\n",
    "        \n",
    "    def __len__(self):\n",
    "        return self.age # overloading len() function for this class\n",
    "         \n",
    "    def __call__(self): # callable method : obj() (eg. person())\n",
    "        return f\"{self.name} is being called\"\n",
    "\n",
    "person1 = Person(\"Namling\", 21)\n",
    "\n",
    "person1 # __repr"
   ]
  },
  {
   "cell_type": "code",
   "execution_count": 23,
   "id": "57ccca2d-0ff2-4898-8eb6-d811685fbb4e",
   "metadata": {},
   "outputs": [
    {
     "name": "stdout",
     "output_type": "stream",
     "text": [
      "Name: Namling and Age: 21\n"
     ]
    }
   ],
   "source": [
    "print(person1) # __str__"
   ]
  },
  {
   "cell_type": "code",
   "execution_count": 24,
   "id": "d0725315-f41f-4f91-a12c-13a34891b1ad",
   "metadata": {},
   "outputs": [
    {
     "data": {
      "text/plain": [
       "21"
      ]
     },
     "execution_count": 24,
     "metadata": {},
     "output_type": "execute_result"
    }
   ],
   "source": [
    "len(person1) # __len__"
   ]
  },
  {
   "cell_type": "code",
   "execution_count": 26,
   "id": "44a09af3-6869-49b4-b56c-6e84d6968bf2",
   "metadata": {},
   "outputs": [
    {
     "data": {
      "text/plain": [
       "'Namling is being called'"
      ]
     },
     "execution_count": 26,
     "metadata": {},
     "output_type": "execute_result"
    }
   ],
   "source": [
    "person1() # __call__"
   ]
  },
  {
   "cell_type": "code",
   "execution_count": null,
   "id": "c941a678-db78-4b57-87da-439c82fafbb5",
   "metadata": {},
   "outputs": [],
   "source": []
  },
  {
   "cell_type": "code",
   "execution_count": 32,
   "id": "acfe4d04-1a60-496c-9009-035ba7b56e4e",
   "metadata": {},
   "outputs": [
    {
     "name": "stdout",
     "output_type": "stream",
     "text": [
      "Additon: (6, 9)\n",
      "Subtraction:  (-2, -3)\n"
     ]
    }
   ],
   "source": [
    "class Point:\n",
    "    \"\"\"\n",
    "    This is documentation of Point class\n",
    "    and This is magic method in python with oop\n",
    "    \"\"\"\n",
    "\n",
    "    def __init__(self,x,y):\n",
    "        self.x = x\n",
    "        self.y = y\n",
    "        \n",
    "    def __str__(self):\n",
    "        return f\"({self.x}, {self.y})\"\n",
    "        \n",
    "    def __add__(self,other):\n",
    "        x = self.x + other.x\n",
    "        y = self.y + other.y\n",
    "        return Point(x,y)\n",
    "        \n",
    "    def __sub__(self,other):\n",
    "        x = self.x - other.x\n",
    "        y = self.y - other.y\n",
    "        return Point(x,y)\n",
    "\n",
    "p1 = Point(2,3)\n",
    "p2 = Point(4,6)\n",
    "\n",
    "print(\"Additon:\",p1+p2)\n",
    "print(\"Subtraction: \",p1-p2)"
   ]
  },
  {
   "cell_type": "code",
   "execution_count": 33,
   "id": "99be766d-aa69-44b1-8f9c-ec6b96f2efad",
   "metadata": {},
   "outputs": [
    {
     "name": "stdout",
     "output_type": "stream",
     "text": [
      "\n",
      "    This is documentation of Point class\n",
      "    and This is magic method in python with oop\n",
      "    \n"
     ]
    }
   ],
   "source": [
    "print(Point.__doc__)"
   ]
  },
  {
   "cell_type": "code",
   "execution_count": 2,
   "id": "56a3b419-5d09-4a81-9803-234ec50bf5aa",
   "metadata": {},
   "outputs": [
    {
     "name": "stdout",
     "output_type": "stream",
     "text": [
      "Namling borrowed The 48 laws of power\n",
      "\n",
      "        Name: Namling\n",
      "        Member ID: 101\n",
      "        Borrowed Books: ['The 48 laws of power']\n",
      "\n",
      "        Name: Namling\n",
      "        Member ID: 101, \n",
      "        Position: Receptionist\n",
      "Librarian John added The 48 laws of power to the library collection.\n"
     ]
    },
    {
     "data": {
      "text/plain": [
       "['The 48 laws of power']"
      ]
     },
     "execution_count": 2,
     "metadata": {},
     "output_type": "execute_result"
    }
   ],
   "source": [
    "# Scenario:  You are tasked with designing a simplified library management system in Python for a local library.\n",
    "# The system needs to manage books, library members, and their borrowings. Implement the following classes based on the requirements:\n",
    "\n",
    "# Class: Book - Properties: title, author, ISBN, is_available. - Methods:\n",
    "# __init__(self, title, author, ISBN): Initializes the book with the title, author, and ISBN.\n",
    "# borrow(self): Marks the book as borrowed (is_available = False) if it is available.\n",
    "# return_book(self): Marks the book as available (is_available = True).\n",
    "\n",
    "# Encapsulate the properties to prevent direct modification from outside the class.\n",
    "\n",
    "# Class: Member - Properties: name, member_id, and borrowed_books (a list of borrowed book instances). - Methods:\n",
    "# __init__(self, name, member_id): Initializes the member with a name and ID.\n",
    "\n",
    "# borrow_book(self, book: Book): Allows the member to borrow a book. Adds the book to borrowed_books if the book is available.\n",
    "# return_book(self, book: Book): Allows the member to return a borrowed book and remove it from their borrowed list.\n",
    "\n",
    "# Class: Staff (Inherits from Member) - Additional Property: position. - Additional Method:\n",
    "# __init__(self, name, member_id, position): Initializes the staff member with a name, member ID, and position.\n",
    "# Class: Librarian (Inherits from Staff) - Additional Method:\n",
    "# add_book(self, book: Book): Allows the librarian to add new books to the library collection.\n",
    "# Polymorphism Requirement: - Implement a method get_details(self) in both Member and Staff classes to return information specific to that class.\n",
    "# - For Member, it should return the member's name and ID. - For Staff, it should additionally return the staff's position.\n",
    "# Abstraction Requirement: - Create an abstract base class LibraryUser with abstract methods borrow_book and return_book.\n",
    "# Both Member and Staff should inherit from LibraryUser and implement these methods.\n",
    "# Task:\n",
    "# Write the code to implement the scenario above, demonstrating the following OOP concepts: 1. Encapsulation: Use private attributes \n",
    "# and provide getters and setters if needed. 2. Inheritance: Show the use of inheritance with Staff and Librarian classes. \n",
    "# 3. Polymorphism: Demonstrate how get_details behaves differently for Member and Staff.\n",
    "# 4. Abstraction: Use the abstract base class LibraryUser to enforce the interface for borrowing and returning books.\n",
    "\n",
    "from abc import ABC,abstractmethod\n",
    "\n",
    "class LibraryUser(ABC):\n",
    "    @abstractmethod\n",
    "    def borrow_book(self, book):\n",
    "        pass\n",
    "        \n",
    "    @abstractmethod\n",
    "    def return_book(self,book):\n",
    "        pass\n",
    "        \n",
    "class Book:\n",
    "    Library_collection= []\n",
    "    def __init__(self,title,author,ISBN):\n",
    "\n",
    "        self.title = title\n",
    "        self.author = author\n",
    "        self.ISBN = ISBN\n",
    "        self.is_available = True\n",
    "        \n",
    "    def borrow(self):\n",
    "            if self.is_available:\n",
    "                self.is_available = False\n",
    "                return True\n",
    "            return False\n",
    "        \n",
    "    def return_book(self):\n",
    "        self.__is_available = True\n",
    "    \n",
    "class members(LibraryUser):\n",
    "    \n",
    "    def __init__(self,name,member_id):\n",
    "        self.__name = name\n",
    "        self.__member_id = member_id\n",
    "        self.__borrowed_books = []\n",
    "        \n",
    "    @property\n",
    "    def name(self):\n",
    "        return self.__name\n",
    "    @property\n",
    "    def member_id(self):\n",
    "        return self.__member_id\n",
    "\n",
    "    def borrow_book(self, book:Book):\n",
    "        if book.borrow():\n",
    "            self.__borrowed_books.append(book.title)\n",
    "            print(f\"{self.__name} borrowed {book.title}\")\n",
    "        else:\n",
    "            print(f\"{book.title} is not available\")\n",
    "        \n",
    "    def return_book(self,book:Book):\n",
    "\n",
    "        if book.title in self.borrowed_book :\n",
    "            book.return_book()\n",
    "            self.__borrowed_books.remove(book.title)\n",
    "            \n",
    "            print(f\"{self.__name} returned {book.title}\")\n",
    "            \n",
    "        else:\n",
    "            print(f\"{self.__name} hasn't borrowed {book.title}.\")\n",
    "        \n",
    "        \n",
    "    def get_details(self):\n",
    "        print(f'''\n",
    "        Name: {self.__name}\n",
    "        Member ID: {self.__member_id}\n",
    "        Borrowed Books: {self.__borrowed_books}''')\n",
    "        \n",
    "class staff(members):\n",
    "\n",
    "    def __init__(self,name, member_id, position):\n",
    "        super().__init__(name,member_id)\n",
    "        self.__position = position\n",
    "        \n",
    "    def get_details(self):\n",
    "        print(f'''\n",
    "        Name: {self.name}\n",
    "        Member ID: {self.member_id}, \n",
    "        Position: {self.__position}''')\n",
    "\n",
    "class librarian(staff):\n",
    "    \n",
    "    def add_book(self, book:Book):\n",
    "        \n",
    "        Book.Library_collection.append(book.title)\n",
    "        print(f\"Librarian {self.name} added {book.title} to the library collection.\")\n",
    "\n",
    "book1 = Book(\"The 48 laws of power\", \"Robert Green\", \"621890-1312-12\")\n",
    "\n",
    "member1 = members(\"Namling\",101)\n",
    "member1.borrow_book(book1)\n",
    "member1.get_details()\n",
    "\n",
    "staff1 = staff('Namling',101,\"Receptionist\")\n",
    "staff1.get_details()\n",
    "\n",
    "librarian1 = librarian(\"John\", 102,\"Librarian\")\n",
    "librarian1.add_book(book1)\n",
    "\n",
    "Book.Library_collection"
   ]
  },
  {
   "cell_type": "code",
   "execution_count": 3,
   "id": "18893f78-34e2-4111-958c-bb5d1077e761",
   "metadata": {},
   "outputs": [
    {
     "name": "stdout",
     "output_type": "stream",
     "text": [
      "Getting name\n",
      "John\n",
      "Setting name\n",
      "Getting name\n",
      "Jane\n",
      "Deleting name\n"
     ]
    }
   ],
   "source": [
    "class Person:\n",
    "    def __init__(self, name):\n",
    "        self._name = name  # Using underscore to indicate a \"protected\" variable\n",
    "\n",
    "    # Getter method\n",
    "    @property\n",
    "    def name(self):\n",
    "        print(\"Getting name\")\n",
    "        return self._name\n",
    "\n",
    "    # Setter method\n",
    "    @name.setter\n",
    "    def name(self, value):\n",
    "        print(\"Setting name\")\n",
    "        if isinstance(value, str):\n",
    "            self._name = value\n",
    "        else:\n",
    "            raise ValueError(\"Name must be a string\")\n",
    "\n",
    "    # Deleter method\n",
    "    @name.deleter\n",
    "    def name(self):\n",
    "        print(\"Deleting name\")\n",
    "        del self._name\n",
    "\n",
    "# Usage\n",
    "p = Person(\"John\")\n",
    "print(p.name)  # Accessing the getter method\n",
    "\n",
    "p.name = \"Jane\"  # Accessing the setter method\n",
    "print(p.name)\n",
    "\n",
    "del p.name  # Accessing the deleter method"
   ]
  },
  {
   "cell_type": "code",
   "execution_count": null,
   "id": "45d732cd-24fc-4984-bf45-6ca3ad1b5f89",
   "metadata": {},
   "outputs": [],
   "source": []
  }
 ],
 "metadata": {
  "kernelspec": {
   "display_name": "Python 3 (ipykernel)",
   "language": "python",
   "name": "python3"
  },
  "language_info": {
   "codemirror_mode": {
    "name": "ipython",
    "version": 3
   },
   "file_extension": ".py",
   "mimetype": "text/x-python",
   "name": "python",
   "nbconvert_exporter": "python",
   "pygments_lexer": "ipython3",
   "version": "3.12.3"
  }
 },
 "nbformat": 4,
 "nbformat_minor": 5
}
