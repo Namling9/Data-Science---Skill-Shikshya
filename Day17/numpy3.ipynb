{
 "cells": [
  {
   "cell_type": "code",
   "execution_count": 2,
   "id": "2eabeaa9-c3e5-4c4e-97a6-e46899a473e3",
   "metadata": {},
   "outputs": [],
   "source": [
    "import numpy as np"
   ]
  },
  {
   "cell_type": "code",
   "execution_count": 3,
   "id": "603b5ded-0fc4-4e94-ad24-46c2121e631f",
   "metadata": {},
   "outputs": [
    {
     "data": {
      "text/plain": [
       "array([[ 1,  2,  3,  4,  5],\n",
       "       [ 6,  7,  8,  9, 10]])"
      ]
     },
     "execution_count": 3,
     "metadata": {},
     "output_type": "execute_result"
    }
   ],
   "source": [
    "arr = np.arange(1,11).reshape(2,5)\n",
    "arr"
   ]
  },
  {
   "cell_type": "code",
   "execution_count": 4,
   "id": "af87be55-b74e-4605-8d9a-b1b5f97304a1",
   "metadata": {},
   "outputs": [
    {
     "data": {
      "text/plain": [
       "array([4, 4])"
      ]
     },
     "execution_count": 4,
     "metadata": {},
     "output_type": "execute_result"
    }
   ],
   "source": [
    "arr.argmax(axis = 1) # gives the index of largest number in a row"
   ]
  },
  {
   "cell_type": "code",
   "execution_count": 5,
   "id": "64676431-4100-4e7c-a9aa-4e13143ace12",
   "metadata": {},
   "outputs": [
    {
     "data": {
      "text/plain": [
       "array([1, 1, 1, 1, 1])"
      ]
     },
     "execution_count": 5,
     "metadata": {},
     "output_type": "execute_result"
    }
   ],
   "source": [
    "arr.argmax(axis=0) # gives the index of largest number in a coloumn"
   ]
  },
  {
   "cell_type": "code",
   "execution_count": 6,
   "id": "86883467-0f13-48f4-9329-3c4c100b30e5",
   "metadata": {},
   "outputs": [
    {
     "data": {
      "text/plain": [
       "np.int64(9)"
      ]
     },
     "execution_count": 6,
     "metadata": {},
     "output_type": "execute_result"
    }
   ],
   "source": [
    "arr.argmax() # gives the index of largest number in array or matrix"
   ]
  },
  {
   "cell_type": "code",
   "execution_count": 7,
   "id": "c986e205-2bed-4336-901b-84f8d0b8f3df",
   "metadata": {},
   "outputs": [
    {
     "data": {
      "text/plain": [
       "array([[ 1,  3,  6, 10, 15],\n",
       "       [ 6, 13, 21, 30, 40]])"
      ]
     },
     "execution_count": 7,
     "metadata": {},
     "output_type": "execute_result"
    }
   ],
   "source": [
    "arr.cumsum(axis = 1)"
   ]
  },
  {
   "cell_type": "code",
   "execution_count": 8,
   "id": "0db8a029-25c0-424c-a2f1-bdd9c4c86e8a",
   "metadata": {},
   "outputs": [
    {
     "data": {
      "text/plain": [
       "array([[ 1,  2,  3,  4,  5],\n",
       "       [ 7,  9, 11, 13, 15]])"
      ]
     },
     "execution_count": 8,
     "metadata": {},
     "output_type": "execute_result"
    }
   ],
   "source": [
    "arr.cumsum(axis = 0)"
   ]
  },
  {
   "cell_type": "code",
   "execution_count": 9,
   "id": "65c6db0f-bec8-4c3e-8ec4-c1b73077e383",
   "metadata": {},
   "outputs": [
    {
     "data": {
      "text/plain": [
       "array([ 1,  3,  6, 10, 15, 21, 28, 36, 45, 55])"
      ]
     },
     "execution_count": 9,
     "metadata": {},
     "output_type": "execute_result"
    }
   ],
   "source": [
    "arr.cumsum()"
   ]
  },
  {
   "cell_type": "code",
   "execution_count": 19,
   "id": "6841db39-e231-4ce2-a124-28df9220ac70",
   "metadata": {},
   "outputs": [
    {
     "name": "stdout",
     "output_type": "stream",
     "text": [
      "[[27 14 47 15 17]\n",
      " [38 22 38 35 29]\n",
      " [27 49 28 26 25]]\n",
      "[[37 17 45 16 19]\n",
      " [12 23 29 36 30]\n",
      " [46 28 28 39 45]]\n"
     ]
    }
   ],
   "source": [
    "arr1 = np.random.randint(low = 10, high = 50, size = (3,5) )\n",
    "arr2 = np.random.randint(low = 10, high =50, size = (3,5))\n",
    "print(arr1)\n",
    "print(arr2)"
   ]
  },
  {
   "cell_type": "code",
   "execution_count": 20,
   "id": "9398eb3b-4056-4b3c-9152-d717fa44fb47",
   "metadata": {},
   "outputs": [
    {
     "name": "stdout",
     "output_type": "stream",
     "text": [
      "[[27 14 47 15 17]\n",
      " [38 22 38 35 29]\n",
      " [27 49 28 26 25]\n",
      " [37 17 45 16 19]\n",
      " [12 23 29 36 30]\n",
      " [46 28 28 39 45]]\n"
     ]
    }
   ],
   "source": [
    "result = np.vstack((arr1, arr2))\n",
    "print(result)"
   ]
  },
  {
   "cell_type": "code",
   "execution_count": 22,
   "id": "de56ad29-f59b-43ac-8366-62e987839874",
   "metadata": {},
   "outputs": [
    {
     "data": {
      "text/plain": [
       "array([[27, 14, 47, 15, 17, 37, 17, 45, 16, 19],\n",
       "       [38, 22, 38, 35, 29, 12, 23, 29, 36, 30],\n",
       "       [27, 49, 28, 26, 25, 46, 28, 28, 39, 45]])"
      ]
     },
     "execution_count": 22,
     "metadata": {},
     "output_type": "execute_result"
    }
   ],
   "source": [
    "result2 = np.hstack((arr1,arr2))\n",
    "result2"
   ]
  },
  {
   "cell_type": "code",
   "execution_count": null,
   "id": "159fd3b8-e010-43de-b661-8a306cfabc1e",
   "metadata": {},
   "outputs": [],
   "source": []
  }
 ],
 "metadata": {
  "kernelspec": {
   "display_name": "Python 3 (ipykernel)",
   "language": "python",
   "name": "python3"
  },
  "language_info": {
   "codemirror_mode": {
    "name": "ipython",
    "version": 3
   },
   "file_extension": ".py",
   "mimetype": "text/x-python",
   "name": "python",
   "nbconvert_exporter": "python",
   "pygments_lexer": "ipython3",
   "version": "3.12.3"
  }
 },
 "nbformat": 4,
 "nbformat_minor": 5
}
