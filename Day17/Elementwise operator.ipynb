{
 "cells": [
  {
   "cell_type": "markdown",
   "id": "6f16e553-6a1d-4443-b6e5-6d0ef05d5039",
   "metadata": {},
   "source": [
    "## Elementwise Operator"
   ]
  },
  {
   "cell_type": "code",
   "execution_count": 1,
   "id": "38edfdfb-4f30-4bb1-a133-d463f64e99af",
   "metadata": {},
   "outputs": [],
   "source": [
    "import numpy as np"
   ]
  },
  {
   "cell_type": "code",
   "execution_count": 3,
   "id": "f8981767-f736-43d5-8150-bed938b33840",
   "metadata": {},
   "outputs": [
    {
     "name": "stdout",
     "output_type": "stream",
     "text": [
      "[[1 2 3]\n",
      " [4 5 6]]\n",
      "[[ 7  8  9]\n",
      " [10 11 12]]\n"
     ]
    }
   ],
   "source": [
    "a = np.array([[1,2,3], [4,5,6]])\n",
    "b = np.array([[7,8,9], [10,11,12]])\n",
    "\n",
    "print(a)\n",
    "print(b)"
   ]
  },
  {
   "cell_type": "code",
   "execution_count": 4,
   "id": "cc5c55ef-93b3-4fe6-8995-052f22b90efe",
   "metadata": {},
   "outputs": [
    {
     "data": {
      "text/plain": [
       "array([[ 8, 10, 12],\n",
       "       [14, 16, 18]])"
      ]
     },
     "execution_count": 4,
     "metadata": {},
     "output_type": "execute_result"
    }
   ],
   "source": [
    "a+b # np.add()"
   ]
  },
  {
   "cell_type": "code",
   "execution_count": 11,
   "id": "55f628b8-2ba5-49eb-9fc1-4813b26845ea",
   "metadata": {},
   "outputs": [
    {
     "data": {
      "text/plain": [
       "array([[ 8, 10, 12],\n",
       "       [14, 16, 18]])"
      ]
     },
     "execution_count": 11,
     "metadata": {},
     "output_type": "execute_result"
    }
   ],
   "source": [
    "np.add(a,b)"
   ]
  },
  {
   "cell_type": "code",
   "execution_count": 5,
   "id": "6fd9ea2b-b173-43d8-a0e5-0ecd4ae3e676",
   "metadata": {},
   "outputs": [
    {
     "data": {
      "text/plain": [
       "array([[-6, -6, -6],\n",
       "       [-6, -6, -6]])"
      ]
     },
     "execution_count": 5,
     "metadata": {},
     "output_type": "execute_result"
    }
   ],
   "source": [
    "a-b # np.subtract()"
   ]
  },
  {
   "cell_type": "code",
   "execution_count": 12,
   "id": "e6442019-4303-465f-a3c1-66108b890f96",
   "metadata": {},
   "outputs": [
    {
     "data": {
      "text/plain": [
       "array([[-6, -6, -6],\n",
       "       [-6, -6, -6]])"
      ]
     },
     "execution_count": 12,
     "metadata": {},
     "output_type": "execute_result"
    }
   ],
   "source": [
    "np.subtract(a,b)"
   ]
  },
  {
   "cell_type": "code",
   "execution_count": 6,
   "id": "f7b8ce8a-f76c-4eb0-837b-7217ac43c326",
   "metadata": {},
   "outputs": [
    {
     "data": {
      "text/plain": [
       "array([[ 7, 16, 27],\n",
       "       [40, 55, 72]])"
      ]
     },
     "execution_count": 6,
     "metadata": {},
     "output_type": "execute_result"
    }
   ],
   "source": [
    "a*b # np.multiply()"
   ]
  },
  {
   "cell_type": "code",
   "execution_count": 14,
   "id": "9ebb5e6b-ce77-4d3e-af3c-45df75c23382",
   "metadata": {},
   "outputs": [
    {
     "data": {
      "text/plain": [
       "array([[ 7, 16, 27],\n",
       "       [40, 55, 72]])"
      ]
     },
     "execution_count": 14,
     "metadata": {},
     "output_type": "execute_result"
    }
   ],
   "source": [
    "np.multiply(a,b)"
   ]
  },
  {
   "cell_type": "code",
   "execution_count": 7,
   "id": "2a25cac5-0108-4d4e-8d80-772f1d2b1f9c",
   "metadata": {},
   "outputs": [
    {
     "data": {
      "text/plain": [
       "array([[0.14285714, 0.25      , 0.33333333],\n",
       "       [0.4       , 0.45454545, 0.5       ]])"
      ]
     },
     "execution_count": 7,
     "metadata": {},
     "output_type": "execute_result"
    }
   ],
   "source": [
    "a/b # np.divide()"
   ]
  },
  {
   "cell_type": "code",
   "execution_count": 15,
   "id": "a9f480a6-26b6-47e5-8f9f-9b8ea3985df7",
   "metadata": {},
   "outputs": [
    {
     "data": {
      "text/plain": [
       "array([[0.14285714, 0.25      , 0.33333333],\n",
       "       [0.4       , 0.45454545, 0.5       ]])"
      ]
     },
     "execution_count": 15,
     "metadata": {},
     "output_type": "execute_result"
    }
   ],
   "source": [
    "np.divide(a,b)"
   ]
  },
  {
   "cell_type": "code",
   "execution_count": 16,
   "id": "cceb0fa0-0e5d-4aed-aece-56d208b78870",
   "metadata": {},
   "outputs": [
    {
     "data": {
      "text/plain": [
       "array([[1, 2, 3],\n",
       "       [4, 5, 6]])"
      ]
     },
     "execution_count": 16,
     "metadata": {},
     "output_type": "execute_result"
    }
   ],
   "source": [
    "a%b # np.divmod()"
   ]
  },
  {
   "cell_type": "code",
   "execution_count": 17,
   "id": "7dc733af-1023-4ebb-a7b2-57af675179e4",
   "metadata": {},
   "outputs": [
    {
     "data": {
      "text/plain": [
       "(array([[0, 0, 0],\n",
       "        [0, 0, 0]]),\n",
       " array([[1, 2, 3],\n",
       "        [4, 5, 6]]))"
      ]
     },
     "execution_count": 17,
     "metadata": {},
     "output_type": "execute_result"
    }
   ],
   "source": [
    "np.divmod(a,b)"
   ]
  },
  {
   "cell_type": "code",
   "execution_count": 18,
   "id": "344ed35e-6705-467a-b950-719c097ab64e",
   "metadata": {},
   "outputs": [
    {
     "data": {
      "text/plain": [
       "array([[         1,        256,      19683],\n",
       "       [   1048576,   48828125, 2176782336]])"
      ]
     },
     "execution_count": 18,
     "metadata": {},
     "output_type": "execute_result"
    }
   ],
   "source": [
    "a**b"
   ]
  },
  {
   "cell_type": "code",
   "execution_count": 19,
   "id": "3e7a9c4a-0e6b-4b4e-8a8b-051519c31a2a",
   "metadata": {},
   "outputs": [
    {
     "data": {
      "text/plain": [
       "array([[1.        , 1.41421356, 1.73205081],\n",
       "       [2.        , 2.23606798, 2.44948974]])"
      ]
     },
     "execution_count": 19,
     "metadata": {},
     "output_type": "execute_result"
    }
   ],
   "source": [
    "np.sqrt(a) # square root"
   ]
  },
  {
   "cell_type": "markdown",
   "id": "0dcb7d5f-db89-497e-910c-269789616586",
   "metadata": {},
   "source": [
    "# Trognometric"
   ]
  },
  {
   "cell_type": "code",
   "execution_count": 23,
   "id": "d846b139-f863-43e6-9678-bb1d4c9e9092",
   "metadata": {},
   "outputs": [
    {
     "data": {
      "text/plain": [
       "array([[ 1.18839511,  1.09975017,  7.0861674 ],\n",
       "       [-1.32134871, -1.04283521, -3.57889955]])"
      ]
     },
     "execution_count": 23,
     "metadata": {},
     "output_type": "execute_result"
    }
   ],
   "source": [
    "new = 1/np.sin(a)\n",
    "new"
   ]
  },
  {
   "cell_type": "code",
   "execution_count": 22,
   "id": "1cdf5306-f18e-42f3-94b4-1404ea09e2ce",
   "metadata": {},
   "outputs": [
    {
     "data": {
      "text/plain": [
       "array([[ 1.14751542, -0.14706506, -2.21084541],\n",
       "       [ 1.54235105, -0.00442574, -1.57267341]])"
      ]
     },
     "execution_count": 22,
     "metadata": {},
     "output_type": "execute_result"
    }
   ],
   "source": [
    "1/np.tan(b)"
   ]
  },
  {
   "cell_type": "markdown",
   "id": "6a387453-3cbb-4577-8f81-cf50d3fb50b8",
   "metadata": {},
   "source": [
    "# Rounding Operations"
   ]
  },
  {
   "cell_type": "code",
   "execution_count": 24,
   "id": "1d9a14de-63c7-4d3c-94d5-97e93c784942",
   "metadata": {},
   "outputs": [
    {
     "data": {
      "text/plain": [
       "array([[ 1.,  1.,  7.],\n",
       "       [-1., -1., -4.]])"
      ]
     },
     "execution_count": 24,
     "metadata": {},
     "output_type": "execute_result"
    }
   ],
   "source": [
    "np.round(new)"
   ]
  },
  {
   "cell_type": "code",
   "execution_count": 25,
   "id": "14ab8647-7e36-454b-9e2a-81825790a0a5",
   "metadata": {},
   "outputs": [
    {
     "data": {
      "text/plain": [
       "array([[ 1.19,  1.1 ,  7.09],\n",
       "       [-1.32, -1.04, -3.58]])"
      ]
     },
     "execution_count": 25,
     "metadata": {},
     "output_type": "execute_result"
    }
   ],
   "source": [
    "np.around(new,2)"
   ]
  },
  {
   "cell_type": "code",
   "execution_count": 26,
   "id": "77404f08-4433-49c0-b2dc-cfd3b0333036",
   "metadata": {},
   "outputs": [
    {
     "data": {
      "text/plain": [
       "array([[ 1.,  1.,  7.],\n",
       "       [-1., -1., -3.]])"
      ]
     },
     "execution_count": 26,
     "metadata": {},
     "output_type": "execute_result"
    }
   ],
   "source": [
    "np.fix(new)"
   ]
  },
  {
   "cell_type": "code",
   "execution_count": 27,
   "id": "3ef7b659-da78-4693-b6ea-e21fbc7b9d2a",
   "metadata": {},
   "outputs": [
    {
     "data": {
      "text/plain": [
       "array([[ 1.,  1.,  7.],\n",
       "       [-2., -2., -4.]])"
      ]
     },
     "execution_count": 27,
     "metadata": {},
     "output_type": "execute_result"
    }
   ],
   "source": [
    "np.floor(new)"
   ]
  },
  {
   "cell_type": "markdown",
   "id": "8db07bfe-12a4-4473-957d-9047be19c5f9",
   "metadata": {},
   "source": [
    "# Exponential Functions"
   ]
  },
  {
   "cell_type": "code",
   "execution_count": 28,
   "id": "2320851e-eb25-465d-82a2-af4e7533e86b",
   "metadata": {},
   "outputs": [
    {
     "data": {
      "text/plain": [
       "array([[  2.71828183,   7.3890561 ,  20.08553692],\n",
       "       [ 54.59815003, 148.4131591 , 403.42879349]])"
      ]
     },
     "execution_count": 28,
     "metadata": {},
     "output_type": "execute_result"
    }
   ],
   "source": [
    "np.exp(a)"
   ]
  },
  {
   "cell_type": "code",
   "execution_count": 29,
   "id": "e722e968-bc34-4af0-89f9-3cdb316c04d5",
   "metadata": {},
   "outputs": [
    {
     "data": {
      "text/plain": [
       "array([[0.        , 0.69314718, 1.09861229],\n",
       "       [1.38629436, 1.60943791, 1.79175947]])"
      ]
     },
     "execution_count": 29,
     "metadata": {},
     "output_type": "execute_result"
    }
   ],
   "source": [
    "np.log(a)"
   ]
  },
  {
   "cell_type": "markdown",
   "id": "84a83b49-cdda-4e80-b029-efdaf45dd8c1",
   "metadata": {},
   "source": [
    "# 2. Matrix Operations"
   ]
  },
  {
   "cell_type": "code",
   "execution_count": 40,
   "id": "40796ef7-26f6-46d8-adf8-6eda8b9091d6",
   "metadata": {},
   "outputs": [
    {
     "name": "stdout",
     "output_type": "stream",
     "text": [
      "[[1 2]\n",
      " [3 4]]\n",
      "[[ 5  6]\n",
      " [17  8]]\n"
     ]
    }
   ],
   "source": [
    "a = np.array([[1,2], [3,4]])\n",
    "b = np.array([[5,6], [17,8]])\n",
    "\n",
    "print(a)\n",
    "print(b)"
   ]
  },
  {
   "cell_type": "code",
   "execution_count": 41,
   "id": "464fe749-be78-4687-a1a5-953d4b6a5519",
   "metadata": {},
   "outputs": [
    {
     "data": {
      "text/plain": [
       "array([[39, 22],\n",
       "       [83, 50]])"
      ]
     },
     "execution_count": 41,
     "metadata": {},
     "output_type": "execute_result"
    }
   ],
   "source": [
    "np.dot(a,b)"
   ]
  },
  {
   "cell_type": "code",
   "execution_count": 42,
   "id": "aa9508dd-d949-4524-bdf1-4842262c2ab4",
   "metadata": {},
   "outputs": [
    {
     "data": {
      "text/plain": [
       "array([[ 5, 17],\n",
       "       [ 6,  8]])"
      ]
     },
     "execution_count": 42,
     "metadata": {},
     "output_type": "execute_result"
    }
   ],
   "source": [
    "np.transpose(b)"
   ]
  },
  {
   "cell_type": "code",
   "execution_count": 43,
   "id": "5d3f23e9-30ab-4f50-8121-8efaea9b8db1",
   "metadata": {},
   "outputs": [
    {
     "data": {
      "text/plain": [
       "array([[1, 3],\n",
       "       [2, 4]])"
      ]
     },
     "execution_count": 43,
     "metadata": {},
     "output_type": "execute_result"
    }
   ],
   "source": [
    "a.transpose()"
   ]
  },
  {
   "cell_type": "code",
   "execution_count": 44,
   "id": "347b2046-b2f3-47ec-a14f-e2be178c9c48",
   "metadata": {},
   "outputs": [
    {
     "data": {
      "text/plain": [
       "np.int64(5)"
      ]
     },
     "execution_count": 44,
     "metadata": {},
     "output_type": "execute_result"
    }
   ],
   "source": [
    "np.trace(a) # sum diagonally in 2D matrix"
   ]
  },
  {
   "cell_type": "code",
   "execution_count": 45,
   "id": "dd3fdcd8-5851-4d7a-8330-bdbe6dabd916",
   "metadata": {},
   "outputs": [
    {
     "data": {
      "text/plain": [
       "np.float64(-2.0000000000000004)"
      ]
     },
     "execution_count": 45,
     "metadata": {},
     "output_type": "execute_result"
    }
   ],
   "source": [
    "np.linalg.det(a)"
   ]
  },
  {
   "cell_type": "code",
   "execution_count": 4,
   "id": "494e8bfe-256f-4bea-8a8d-e854d0f8b0b1",
   "metadata": {},
   "outputs": [],
   "source": [
    "import numpy as np"
   ]
  },
  {
   "cell_type": "code",
   "execution_count": 13,
   "id": "8b01d106-213f-4d63-8029-9589f8589d2f",
   "metadata": {},
   "outputs": [
    {
     "data": {
      "text/plain": [
       "array([[1., 0.],\n",
       "       [0., 1.]])"
      ]
     },
     "execution_count": 13,
     "metadata": {},
     "output_type": "execute_result"
    }
   ],
   "source": [
    "a = np.array([[1,2], [3,4]])\n",
    "np.dot(a, np.linalg.inv(a)).round()"
   ]
  },
  {
   "cell_type": "code",
   "execution_count": 10,
   "id": "4adb4ac2-9188-4cd5-a49d-ff6175323b04",
   "metadata": {},
   "outputs": [
    {
     "data": {
      "text/plain": [
       "EigResult(eigenvalues=array([-0.37228132,  5.37228132]), eigenvectors=array([[-0.82456484, -0.41597356],\n",
       "       [ 0.56576746, -0.90937671]]))"
      ]
     },
     "execution_count": 10,
     "metadata": {},
     "output_type": "execute_result"
    }
   ],
   "source": [
    "np.linalg.eig(a)"
   ]
  },
  {
   "cell_type": "code",
   "execution_count": 14,
   "id": "8976ff8c-c0e5-400b-bbfe-050e11018d0d",
   "metadata": {},
   "outputs": [
    {
     "data": {
      "text/plain": [
       "array([[-2. ,  1. ],\n",
       "       [ 1.5, -0.5]])"
      ]
     },
     "execution_count": 14,
     "metadata": {},
     "output_type": "execute_result"
    }
   ],
   "source": [
    "np.linalg.inv(a)"
   ]
  },
  {
   "cell_type": "code",
   "execution_count": 15,
   "id": "b3f71a6c-4611-4e0a-b5e5-854cc84ad9d5",
   "metadata": {},
   "outputs": [
    {
     "name": "stdout",
     "output_type": "stream",
     "text": [
      "Eigenvalues:\n",
      "[3. 2.]\n",
      "Eigenvectors:\n",
      "[[0.89442719 0.70710678]\n",
      " [0.4472136  0.70710678]]\n"
     ]
    }
   ],
   "source": [
    "import numpy as np\n",
    "\n",
    "# Example square matrix\n",
    "A = np.array([[4, -2],\n",
    "              [1, 1]])\n",
    "\n",
    "# Compute eigenvalues and eigenvectors\n",
    "eigenvalues, eigenvectors = np.linalg.eig(A)\n",
    "\n",
    "print(\"Eigenvalues:\")\n",
    "print(eigenvalues)\n",
    "print(\"Eigenvectors:\")\n",
    "print(eigenvectors)\n"
   ]
  },
  {
   "cell_type": "markdown",
   "id": "6903bb50-e83a-4067-b8cb-07b00b2b7efe",
   "metadata": {},
   "source": [
    "### Explanation\n",
    "`Eigenvalues`: These are the scalars that indicate how much the eigenvectors are stretched or compressed during a transformation represented by the matrix \n",
    "𝐴\n",
    "A.\n",
    "`Eigenvectors`: These are the vectors that, when transformed by \n",
    "𝐴\n",
    "A, do not change their direction. They can be thought of as the \"axes\" along which the transformation acts."
   ]
  },
  {
   "cell_type": "code",
   "execution_count": null,
   "id": "84d7eaf1-ea67-4999-b120-18f014c9fbfe",
   "metadata": {},
   "outputs": [],
   "source": []
  }
 ],
 "metadata": {
  "kernelspec": {
   "display_name": "Python 3 (ipykernel)",
   "language": "python",
   "name": "python3"
  },
  "language_info": {
   "codemirror_mode": {
    "name": "ipython",
    "version": 3
   },
   "file_extension": ".py",
   "mimetype": "text/x-python",
   "name": "python",
   "nbconvert_exporter": "python",
   "pygments_lexer": "ipython3",
   "version": "3.12.3"
  }
 },
 "nbformat": 4,
 "nbformat_minor": 5
}
