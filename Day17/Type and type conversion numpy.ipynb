{
 "cells": [
  {
   "cell_type": "markdown",
   "id": "192c7648-1d7a-475b-89e0-45d689b946e4",
   "metadata": {},
   "source": [
    "## type and type conversion"
   ]
  },
  {
   "cell_type": "code",
   "execution_count": 1,
   "id": "98cd2ad1-3adb-4f5b-bc71-b7ff0b7550af",
   "metadata": {},
   "outputs": [],
   "source": [
    "import numpy as np"
   ]
  },
  {
   "cell_type": "code",
   "execution_count": 2,
   "id": "ac41bf8e-f319-42ab-92d2-c1e3ed754a46",
   "metadata": {},
   "outputs": [],
   "source": [
    "a = np.array([1,22,5,3], dtype = np.int16)"
   ]
  },
  {
   "cell_type": "code",
   "execution_count": 3,
   "id": "31662e3d-ed79-4d90-a9ec-ff86fe50c02b",
   "metadata": {},
   "outputs": [
    {
     "data": {
      "text/plain": [
       "dtype('int16')"
      ]
     },
     "execution_count": 3,
     "metadata": {},
     "output_type": "execute_result"
    }
   ],
   "source": [
    "a.dtype"
   ]
  },
  {
   "cell_type": "code",
   "execution_count": 12,
   "id": "fd639fa1-9ada-43d7-a6e9-09be085a8182",
   "metadata": {},
   "outputs": [
    {
     "name": "stdout",
     "output_type": "stream",
     "text": [
      "[[17 12 12]\n",
      " [20 14 49]]\n"
     ]
    }
   ],
   "source": [
    "arr11 = np.random.randint(low = 10,high = 50, size = (2,3),dtype = np.int16)\n",
    "print(arr11)"
   ]
  },
  {
   "cell_type": "code",
   "execution_count": 13,
   "id": "271b9a78-177c-4208-96d9-d2f1e588c235",
   "metadata": {},
   "outputs": [
    {
     "data": {
      "text/plain": [
       "dtype('int16')"
      ]
     },
     "execution_count": 13,
     "metadata": {},
     "output_type": "execute_result"
    }
   ],
   "source": [
    "arr11.dtype"
   ]
  },
  {
   "cell_type": "code",
   "execution_count": 14,
   "id": "3ccf3a8a-857f-4786-bfd8-6103bf019036",
   "metadata": {},
   "outputs": [
    {
     "data": {
      "text/plain": [
       "array([[17., 12., 12.],\n",
       "       [20., 14., 49.]], dtype=float32)"
      ]
     },
     "execution_count": 14,
     "metadata": {},
     "output_type": "execute_result"
    }
   ],
   "source": [
    "arr11.astype(np.float32)"
   ]
  },
  {
   "cell_type": "code",
   "execution_count": 15,
   "id": "4b575af9-56f8-4f79-ac2c-6d1772e64ea7",
   "metadata": {},
   "outputs": [
    {
     "data": {
      "text/plain": [
       "array([[ True,  True,  True],\n",
       "       [ True,  True,  True]])"
      ]
     },
     "execution_count": 15,
     "metadata": {},
     "output_type": "execute_result"
    }
   ],
   "source": [
    "arr11.astype(np.bool)"
   ]
  },
  {
   "cell_type": "code",
   "execution_count": 16,
   "id": "8c3a13dc-469b-41f9-8dce-23efe600927c",
   "metadata": {},
   "outputs": [
    {
     "data": {
      "text/plain": [
       "array([ 1, 22,  5,  3], dtype=int16)"
      ]
     },
     "execution_count": 16,
     "metadata": {},
     "output_type": "execute_result"
    }
   ],
   "source": [
    "a"
   ]
  },
  {
   "cell_type": "code",
   "execution_count": 17,
   "id": "527f56d9-bebc-4473-91a3-4721d779d892",
   "metadata": {},
   "outputs": [
    {
     "name": "stdout",
     "output_type": "stream",
     "text": [
      "[ True False  True False]\n"
     ]
    }
   ],
   "source": [
    "bool_array = np.array([True, False, True, False], dtype=bool)\n",
    "print(bool_array)"
   ]
  },
  {
   "cell_type": "code",
   "execution_count": null,
   "id": "36654a3d-516d-45a5-9f53-ecca90c0750b",
   "metadata": {},
   "outputs": [],
   "source": []
  }
 ],
 "metadata": {
  "kernelspec": {
   "display_name": "Python 3 (ipykernel)",
   "language": "python",
   "name": "python3"
  },
  "language_info": {
   "codemirror_mode": {
    "name": "ipython",
    "version": 3
   },
   "file_extension": ".py",
   "mimetype": "text/x-python",
   "name": "python",
   "nbconvert_exporter": "python",
   "pygments_lexer": "ipython3",
   "version": "3.12.3"
  }
 },
 "nbformat": 4,
 "nbformat_minor": 5
}
