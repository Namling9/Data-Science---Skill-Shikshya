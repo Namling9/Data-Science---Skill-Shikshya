{
 "cells": [
  {
   "cell_type": "code",
   "execution_count": 1,
   "id": "988a4d9c-90f3-4db2-b56e-c25a2bb1946c",
   "metadata": {},
   "outputs": [
    {
     "name": "stdout",
     "output_type": "stream",
     "text": [
      "Hello world\n"
     ]
    }
   ],
   "source": [
    "print(\"Hello world\")"
   ]
  },
  {
   "cell_type": "code",
   "execution_count": 2,
   "id": "ddf8e273-ad45-4d31-a34c-a3d433b9d37b",
   "metadata": {},
   "outputs": [
    {
     "data": {
      "text/plain": [
       "int"
      ]
     },
     "execution_count": 2,
     "metadata": {},
     "output_type": "execute_result"
    }
   ],
   "source": [
    "# Type conversion\n",
    "x = 5\n",
    "type(x)"
   ]
  },
  {
   "cell_type": "code",
   "execution_count": 5,
   "id": "0f907d9a-be29-46a8-8631-896c5ec72bce",
   "metadata": {
    "scrolled": true
   },
   "outputs": [
    {
     "data": {
      "text/plain": [
       "5.0"
      ]
     },
     "execution_count": 5,
     "metadata": {},
     "output_type": "execute_result"
    }
   ],
   "source": [
    "float(x)"
   ]
  },
  {
   "cell_type": "code",
   "execution_count": 6,
   "id": "a33a8585-273d-4139-a2c1-6561be9c1691",
   "metadata": {},
   "outputs": [
    {
     "data": {
      "text/plain": [
       "4"
      ]
     },
     "execution_count": 6,
     "metadata": {},
     "output_type": "execute_result"
    }
   ],
   "source": [
    "# Round up float number\n",
    "z = 3.9\n",
    "round(z)"
   ]
  },
  {
   "cell_type": "code",
   "execution_count": 7,
   "id": "1537e1d7-90ef-434c-ae0c-05496a9c9fd7",
   "metadata": {},
   "outputs": [
    {
     "data": {
      "text/plain": [
       "complex"
      ]
     },
     "execution_count": 7,
     "metadata": {},
     "output_type": "execute_result"
    }
   ],
   "source": [
    "y = 4j\n",
    "type(y)"
   ]
  },
  {
   "cell_type": "code",
   "execution_count": 8,
   "id": "beae3ce0-c4bf-4936-88d0-46edf069f1bd",
   "metadata": {},
   "outputs": [
    {
     "data": {
      "text/plain": [
       "(22+4j)"
      ]
     },
     "execution_count": 8,
     "metadata": {},
     "output_type": "execute_result"
    }
   ],
   "source": [
    "complex(22,4)\n"
   ]
  },
  {
   "cell_type": "code",
   "execution_count": 9,
   "id": "44b8da35-b747-4e9c-a6e7-c08ffb0a17c5",
   "metadata": {},
   "outputs": [
    {
     "data": {
      "text/plain": [
       "0"
      ]
     },
     "execution_count": 9,
     "metadata": {},
     "output_type": "execute_result"
    }
   ],
   "source": [
    "5//10\n"
   ]
  },
  {
   "cell_type": "code",
   "execution_count": 10,
   "id": "c0778f42-44ee-45a7-83b7-a0df88c05602",
   "metadata": {},
   "outputs": [
    {
     "data": {
      "text/plain": [
       "1"
      ]
     },
     "execution_count": 10,
     "metadata": {},
     "output_type": "execute_result"
    }
   ],
   "source": [
    "6//4\n"
   ]
  },
  {
   "cell_type": "code",
   "execution_count": 11,
   "id": "027b3a34-7695-4961-826e-1752a2098fed",
   "metadata": {},
   "outputs": [
    {
     "data": {
      "text/plain": [
       "1"
      ]
     },
     "execution_count": 11,
     "metadata": {},
     "output_type": "execute_result"
    }
   ],
   "source": [
    "130248 // 122324"
   ]
  },
  {
   "cell_type": "code",
   "execution_count": 12,
   "id": "f1095879-8b03-4384-a93e-2be9008eca6b",
   "metadata": {},
   "outputs": [
    {
     "data": {
      "text/plain": [
       "58916"
      ]
     },
     "execution_count": 12,
     "metadata": {},
     "output_type": "execute_result"
    }
   ],
   "source": [
    "294581//5"
   ]
  },
  {
   "cell_type": "code",
   "execution_count": 13,
   "id": "2b21161c-670d-4884-83b8-c364bf60e2e6",
   "metadata": {},
   "outputs": [
    {
     "name": "stdout",
     "output_type": "stream",
     "text": [
      "14.5\n"
     ]
    }
   ],
   "source": [
    "x = 10 \n",
    "y = 4.5\n",
    "\n",
    "print(x+y)"
   ]
  },
  {
   "cell_type": "code",
   "execution_count": 14,
   "id": "df3d2550-7ad8-4ca9-86d7-d3d8413e53c8",
   "metadata": {},
   "outputs": [],
   "source": [
    "import math \n"
   ]
  },
  {
   "cell_type": "code",
   "execution_count": 16,
   "id": "a34653ac-13dd-4d64-baf1-dca8151a155c",
   "metadata": {},
   "outputs": [
    {
     "data": {
      "text/plain": [
       "6"
      ]
     },
     "execution_count": 16,
     "metadata": {},
     "output_type": "execute_result"
    }
   ],
   "source": [
    "n = 3\n",
    "math.factorial(n)"
   ]
  },
  {
   "cell_type": "code",
   "execution_count": 17,
   "id": "b27fb2b6-7517-401e-9773-392d918f60ed",
   "metadata": {},
   "outputs": [
    {
     "name": "stdout",
     "output_type": "stream",
     "text": [
      "6\n"
     ]
    }
   ],
   "source": [
    "from math import factorial\n",
    "print(factorial(n))"
   ]
  },
  {
   "cell_type": "code",
   "execution_count": 19,
   "id": "d4f9e644-2848-4441-bf3a-c01f54ea1013",
   "metadata": {},
   "outputs": [
    {
     "data": {
      "text/plain": [
       "3"
      ]
     },
     "execution_count": 19,
     "metadata": {},
     "output_type": "execute_result"
    }
   ],
   "source": [
    "math.pow(n,2)\n",
    "math.ceil(n)"
   ]
  },
  {
   "cell_type": "code",
   "execution_count": 20,
   "id": "e33dca4f-f078-4201-9f77-a2a5e8c586e3",
   "metadata": {},
   "outputs": [
    {
     "data": {
      "text/plain": [
       "7.0710678118654755"
      ]
     },
     "execution_count": 20,
     "metadata": {},
     "output_type": "execute_result"
    }
   ],
   "source": [
    "math.sqrt(50)"
   ]
  },
  {
   "cell_type": "code",
   "execution_count": 21,
   "id": "d5d4bbdf-fa9b-47c5-84f9-d2beb03924e8",
   "metadata": {},
   "outputs": [
    {
     "data": {
      "text/plain": [
       "3.142"
      ]
     },
     "execution_count": 21,
     "metadata": {},
     "output_type": "execute_result"
    }
   ],
   "source": [
    "round(math.pi,3)"
   ]
  },
  {
   "cell_type": "code",
   "execution_count": 22,
   "id": "d9d7eb0e-119c-4978-a31d-d45bb6044b01",
   "metadata": {},
   "outputs": [
    {
     "data": {
      "text/plain": [
       "3"
      ]
     },
     "execution_count": 22,
     "metadata": {},
     "output_type": "execute_result"
    }
   ],
   "source": [
    "round(math.pi)"
   ]
  },
  {
   "cell_type": "code",
   "execution_count": null,
   "id": "8f6f9d48-aec2-4eb7-ac83-4bd0d83c0ef7",
   "metadata": {},
   "outputs": [],
   "source": []
  }
 ],
 "metadata": {
  "kernelspec": {
   "display_name": "Python 3 (ipykernel)",
   "language": "python",
   "name": "python3"
  },
  "language_info": {
   "codemirror_mode": {
    "name": "ipython",
    "version": 3
   },
   "file_extension": ".py",
   "mimetype": "text/x-python",
   "name": "python",
   "nbconvert_exporter": "python",
   "pygments_lexer": "ipython3",
   "version": "3.12.3"
  }
 },
 "nbformat": 4,
 "nbformat_minor": 5
}
