{
 "cells": [
  {
   "cell_type": "code",
   "execution_count": 9,
   "id": "5688f1b2-84d3-409a-9f2e-34b0fc0e9a86",
   "metadata": {},
   "outputs": [
    {
     "name": "stdout",
     "output_type": "stream",
     "text": [
      "            This is a string\n"
     ]
    }
   ],
   "source": [
    "x = \"            This is a string\"\n",
    "y = \"Hello world\"\n",
    "print(x)"
   ]
  },
  {
   "cell_type": "code",
   "execution_count": 3,
   "id": "04650f46-2ffe-4fc7-86ed-183075e6385c",
   "metadata": {},
   "outputs": [
    {
     "name": "stdout",
     "output_type": "stream",
     "text": [
      "Hello world\n"
     ]
    }
   ],
   "source": [
    "print(y)"
   ]
  },
  {
   "cell_type": "code",
   "execution_count": 10,
   "id": "938a0a24-77b1-4be1-ba59-c1e4bdf39f7c",
   "metadata": {},
   "outputs": [
    {
     "name": "stdout",
     "output_type": "stream",
     "text": [
      "Lower string method:             this is a string\n",
      "Upper string method:              THIS IS A STRING\n",
      "Strip string method (removes whitespace before and after string): This is a string\n",
      "remove string method:             This is a string\n"
     ]
    }
   ],
   "source": [
    "#String methods\n",
    "\n",
    "print(f\"Lower string method: {x.lower()}\")\n",
    "print(\"Upper string method: \",x.upper())\n",
    "print(f\"Strip string method (removes whitespace before and after string): {x.strip()}\")\n",
    "print(f\"remove string method: {x.replace(\"o\", \"a\")}\")"
   ]
  },
  {
   "cell_type": "code",
   "execution_count": 13,
   "id": "43feb184-244b-449c-ad9a-76788129b2ae",
   "metadata": {},
   "outputs": [
    {
     "name": "stdout",
     "output_type": "stream",
     "text": [
      "Format string method: akjrnfoahfniohaqeriofjakefnoairhf\n",
      "ioahqfpoajainfaknfakdfnlak\u0007mflemf\n"
     ]
    }
   ],
   "source": [
    "letter = '''akjrnfoahfniohaqeriofjakefnoairhf\n",
    "ioahqfpoajainfaknfakdfnlak\\amflemf'''\n",
    "\n",
    "print(f\"Format string method: {letter.format()}\")"
   ]
  },
  {
   "cell_type": "code",
   "execution_count": 15,
   "id": "560fcf31-f948-44ff-89b7-de1a7bf1a8ac",
   "metadata": {},
   "outputs": [
    {
     "name": "stdout",
     "output_type": "stream",
     "text": [
      "split string method:  ['namlinglimbu', 'gmail.com']\n"
     ]
    }
   ],
   "source": [
    "email = \"namlinglimbu@gmail.com\"\n",
    "print(\"split string method: \", email.split(\"@\"))"
   ]
  },
  {
   "cell_type": "code",
   "execution_count": 17,
   "id": "630cf544-cf67-4d3d-85d1-ff0a93944ae5",
   "metadata": {},
   "outputs": [
    {
     "name": "stdout",
     "output_type": "stream",
     "text": [
      "True\n"
     ]
    }
   ],
   "source": [
    "print(email.endswith(\"@gmail.com\"))"
   ]
  },
  {
   "cell_type": "code",
   "execution_count": 18,
   "id": "9b93b5f8-1534-4498-9a5d-5948565a475b",
   "metadata": {},
   "outputs": [
    {
     "data": {
      "text/plain": [
       "'e'"
      ]
     },
     "execution_count": 18,
     "metadata": {},
     "output_type": "execute_result"
    }
   ],
   "source": [
    "# String index\n",
    "\n",
    "x = \"Hello World\"\n",
    "\n",
    "x[1]"
   ]
  },
  {
   "cell_type": "code",
   "execution_count": 19,
   "id": "2b3d05fc-54a7-44a2-b6c8-6bcd61519be2",
   "metadata": {},
   "outputs": [
    {
     "data": {
      "text/plain": [
       "'Hello'"
      ]
     },
     "execution_count": 19,
     "metadata": {},
     "output_type": "execute_result"
    }
   ],
   "source": [
    "x[0:5]"
   ]
  },
  {
   "cell_type": "code",
   "execution_count": 20,
   "id": "806bfd17-abc2-4648-ad95-7ab2477c9c7b",
   "metadata": {},
   "outputs": [
    {
     "data": {
      "text/plain": [
       "''"
      ]
     },
     "execution_count": 20,
     "metadata": {},
     "output_type": "execute_result"
    }
   ],
   "source": [
    "x[-1:-4]"
   ]
  },
  {
   "cell_type": "code",
   "execution_count": 21,
   "id": "b37b0e87-2a8e-4f84-938e-d4c6bb9790f9",
   "metadata": {},
   "outputs": [
    {
     "data": {
      "text/plain": [
       "' World'"
      ]
     },
     "execution_count": 21,
     "metadata": {},
     "output_type": "execute_result"
    }
   ],
   "source": [
    "x[5:]\n"
   ]
  },
  {
   "cell_type": "code",
   "execution_count": 22,
   "id": "f9356ef6-81eb-4873-847c-ec228e909fcc",
   "metadata": {},
   "outputs": [
    {
     "data": {
      "text/plain": [
       "'Hello'"
      ]
     },
     "execution_count": 22,
     "metadata": {},
     "output_type": "execute_result"
    }
   ],
   "source": [
    "x[:5]\n"
   ]
  },
  {
   "cell_type": "code",
   "execution_count": 23,
   "id": "41e8c53e-9a3b-4be5-b792-024be54c5042",
   "metadata": {},
   "outputs": [
    {
     "data": {
      "text/plain": [
       "'Wor'"
      ]
     },
     "execution_count": 23,
     "metadata": {},
     "output_type": "execute_result"
    }
   ],
   "source": [
    "x[-5:-2]"
   ]
  },
  {
   "cell_type": "code",
   "execution_count": 24,
   "id": "3ad94a90-bac3-49ca-9ebc-4d685995f22d",
   "metadata": {},
   "outputs": [
    {
     "data": {
      "text/plain": [
       "'llo World'"
      ]
     },
     "execution_count": 24,
     "metadata": {},
     "output_type": "execute_result"
    }
   ],
   "source": [
    "x[-9:]"
   ]
  },
  {
   "cell_type": "code",
   "execution_count": 25,
   "id": "0ba7eae7-762a-406c-a2df-0481d8a09f73",
   "metadata": {},
   "outputs": [
    {
     "data": {
      "text/plain": [
       "'HloWrd'"
      ]
     },
     "execution_count": 25,
     "metadata": {},
     "output_type": "execute_result"
    }
   ],
   "source": [
    "x[::2]\n"
   ]
  },
  {
   "cell_type": "code",
   "execution_count": 26,
   "id": "7baf0ee2-a3b1-480c-bcdd-d7c27dce0249",
   "metadata": {},
   "outputs": [
    {
     "data": {
      "text/plain": [
       "'dlroW olleH'"
      ]
     },
     "execution_count": 26,
     "metadata": {},
     "output_type": "execute_result"
    }
   ],
   "source": [
    "x[::-1] # Reversing string"
   ]
  },
  {
   "cell_type": "code",
   "execution_count": 34,
   "id": "e583983a-7f02-4e46-8026-ce713ef6a37e",
   "metadata": {},
   "outputs": [],
   "source": [
    "# String Formatting\n",
    "\n",
    "name = \"John\"\n",
    "age = 30\n"
   ]
  },
  {
   "cell_type": "code",
   "execution_count": 35,
   "id": "49c49c76-d767-4222-b91a-b64a11ccc580",
   "metadata": {},
   "outputs": [
    {
     "name": "stdout",
     "output_type": "stream",
     "text": [
      "My name is John and I am 30 years old\n"
     ]
    }
   ],
   "source": [
    "print(\"My name is %s and I am %d years old\" % (name,age)) # % formatting operator"
   ]
  },
  {
   "cell_type": "code",
   "execution_count": 36,
   "id": "a7a85878-bdb4-4d11-9486-fd2a60f99aeb",
   "metadata": {},
   "outputs": [
    {
     "name": "stdout",
     "output_type": "stream",
     "text": [
      "My name is John and I am 30 years old\n"
     ]
    }
   ],
   "source": [
    "print(f\"My name is {name} and I am {age} years old\") # f string formatting operator"
   ]
  },
  {
   "cell_type": "code",
   "execution_count": null,
   "id": "91663dea-829b-4dec-ae15-bb501cbe22a1",
   "metadata": {},
   "outputs": [],
   "source": []
  }
 ],
 "metadata": {
  "kernelspec": {
   "display_name": "Python 3 (ipykernel)",
   "language": "python",
   "name": "python3"
  },
  "language_info": {
   "codemirror_mode": {
    "name": "ipython",
    "version": 3
   },
   "file_extension": ".py",
   "mimetype": "text/x-python",
   "name": "python",
   "nbconvert_exporter": "python",
   "pygments_lexer": "ipython3",
   "version": "3.12.3"
  }
 },
 "nbformat": 4,
 "nbformat_minor": 5
}
