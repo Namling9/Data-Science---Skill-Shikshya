{
 "cells": [
  {
   "cell_type": "markdown",
   "id": "1b2f267d-2ed9-4f33-84bf-f5f8fb00d3ad",
   "metadata": {},
   "source": [
    "#"
   ]
  },
  {
   "cell_type": "code",
   "execution_count": 23,
   "id": "a300ac84-6370-42db-a2d1-7536c15592f2",
   "metadata": {},
   "outputs": [
    {
     "name": "stdin",
     "output_type": "stream",
     "text": [
      "Enter the book name you want to lend: The Alchemist\n",
      "Enter the book name you want to lend: The Da Vinci Code\n",
      "Enter the book name you want to lend: The 48 laws of power\n"
     ]
    },
    {
     "name": "stdout",
     "output_type": "stream",
     "text": [
      "You can lend The Alchemist book\n",
      "You can lend The Da Vinci Code book\n",
      "\n",
      "         Name : Namling \n",
      "         Department: BCA\n",
      "         Books : ['The Alchemist', 'The Da Vinci Code']\n",
      "         \n"
     ]
    },
    {
     "name": "stdin",
     "output_type": "stream",
     "text": [
      "Enter the book name you want to lend: A Brief History of Time\n",
      "Enter the book name you want to lend: 1984\n",
      "Enter the book name you want to lend: Angels & Demons\n"
     ]
    },
    {
     "name": "stdout",
     "output_type": "stream",
     "text": [
      "You can lend A Brief History of Time book\n",
      "You cannot lend Angels & Demons book\n",
      "You can lend 1984 book\n",
      "\n",
      "         Name : Shailesh \n",
      "         Department: Data Science\n",
      "         Books : ['The Alchemist', 'The Da Vinci Code', 'A Brief History of Time', '1984']\n",
      "         \n"
     ]
    }
   ],
   "source": [
    "# Create a class : \n",
    "# 1. Create class LIbrary \n",
    "\n",
    "# 2. constructor , student name and dept\n",
    "\n",
    "# 3. Class attribute , total student count\n",
    "\n",
    "# 4. book lend, input book name , if he/she caqn lend it or not\n",
    "# books = [ \n",
    "#     (\"The Alchemist\", 25),\n",
    "#     (\"The Da Vinci Code\", 30),\n",
    "#     (\"A Brief History of Time\", 15),\n",
    "#     (\"Angels & Demons\", 0),\n",
    "#     (\"The Grand Design\", 0),\n",
    "#     (\"1984\", 19)\n",
    "# ]\n",
    "\n",
    "class Library:\n",
    "    count = 0\n",
    "    booklended = []\n",
    "    \n",
    "    def __init__(self, stName, dept):\n",
    "        self.stName = stName\n",
    "        self.dept = dept\n",
    "        Library.count+=1\n",
    "    \n",
    "    def bookLend(self):\n",
    "\n",
    "        bookName = [input(f\"Enter the book name you want to lend {i):\" ) for i in range(3)]\n",
    "\n",
    "        books = [  (\"The Alchemist\", 25), (\"The Da Vinci Code\", 30), (\"A Brief History of Time\", 15),(\"Angels & Demons\", 0),\n",
    "        (\"The Grand Design\", 0), (\"1984\", 19)]\n",
    "    \n",
    "        for book, number in books:\n",
    "            for lendbook in bookName:\n",
    "                if lendbook == book:\n",
    "                    if number >=1:\n",
    "                        print(f\"You can lend {lendbook} book\")\n",
    "                        Library.booklended.append(book)\n",
    "                    \n",
    "                    else: print(f\"You cannot lend {lendbook} book\")\n",
    "\n",
    "    def details(self):\n",
    "         print(f'''\n",
    "         Name : {self.stName} \n",
    "         Department: {self.dept}\n",
    "         Books : {Library.booklended}\n",
    "         ''')\n",
    "                    \n",
    "         \n",
    "\n",
    "      \n",
    "\n",
    "\n",
    "student1= Library(\"Namling\",\"BCA\")\n",
    "student1.bookLend()\n",
    "student1.details()\n",
    "\n",
    "student2 = Library(\"mlon eusk\", \"Data Science\")\n",
    "student2.bookLend()\n",
    "student2.details()\n",
    " "
   ]
  },
  {
   "cell_type": "code",
   "execution_count": 32,
   "id": "9a52fa83-97de-4abb-94a0-8c2876d3634e",
   "metadata": {},
   "outputs": [
    {
     "name": "stdout",
     "output_type": "stream",
     "text": [
      "The Alchemist : Book is available\n"
     ]
    },
    {
     "data": {
      "text/plain": [
       "1"
      ]
     },
     "execution_count": 32,
     "metadata": {},
     "output_type": "execute_result"
    }
   ],
   "source": [
    "class Library:\n",
    "\n",
    "    st_count = 0\n",
    "\n",
    "    def __init__(self, name, dept = \"Computer Science\"):\n",
    "        self.name = name\n",
    "        self.dept = dept\n",
    "\n",
    "        Library.st_count += 1\n",
    "\n",
    "    def can_borrow(self, book_name):\n",
    "        \n",
    "        books = [  (\"The Alchemist\", 25), (\"The Da Vinci Code\", 30), (\"A Brief History of Time\", 15),(\"Angels & Demons\", 0),\n",
    "        (\"The Grand Design\", 0), (\"1984\", 19)]\n",
    "        \n",
    "        book_found = False\n",
    "        for b_name, b_qt in books:\n",
    "            if (book_name == b_name) and (b_qt > 0):\n",
    "                book_found = True\n",
    "                if book_found:\n",
    "                    return f\"{book_name} : Book is available\"\n",
    "                    \n",
    "                else: return f\"{book_name} : Book is not available\" \n",
    "        \n",
    "\n",
    "    @classmethod\n",
    "    def get_student_count(cls):\n",
    "        return cls.st_count\n",
    "\n",
    "student1= Library(\"Namling\", \"BCA\")\n",
    "print(student1.can_borrow(\"The Alchemist\"))\n",
    "student1.get_student_count()\n"
   ]
  },
  {
   "cell_type": "code",
   "execution_count": null,
   "id": "524c0709-d685-4568-ad9a-66ca9135e6af",
   "metadata": {},
   "outputs": [],
   "source": [
    "# Method OVerloading in python\n",
    "\n"
   ]
  },
  {
   "cell_type": "code",
   "execution_count": 35,
   "id": "05a6a232-278a-4236-94dc-7cbd47657c32",
   "metadata": {},
   "outputs": [
    {
     "name": "stdout",
     "output_type": "stream",
     "text": [
      "My name is flufffy\n",
      "Meow meow !!! flufffy\n"
     ]
    }
   ],
   "source": [
    "# Inheritance \n",
    "\n",
    "class Animal :\n",
    "\n",
    "    def __init__(self,name,age):\n",
    "        self.name = name\n",
    "        self.age = age\n",
    "        \n",
    "    def intro(self):\n",
    "        print(f\"My name is {self.name}\")\n",
    "        \n",
    "class Cat(Animal): \n",
    "    def __init__(self,name,age,color):\n",
    "        super().__init__(name,age)\n",
    "        self.color = color\n",
    "    def speak(self):\n",
    "        print(\"Meow meow !!!\", self.name)\n",
    "\n",
    "my_cat = Cat(\"flufffy\", 6, \"Orange\")\n",
    "my_cat.intro()\n",
    "my_cat.speak()\n",
    "    \n"
   ]
  },
  {
   "cell_type": "code",
   "execution_count": null,
   "id": "f96e565f-009d-4053-951a-c47292eff4bc",
   "metadata": {},
   "outputs": [],
   "source": [
    "# Multiple Inheritance\n",
    "\n",
    "# class Myclass(class1,class2,class3,......):\n",
    "\n"
   ]
  },
  {
   "cell_type": "code",
   "execution_count": null,
   "id": "faecbf46-55f7-41de-ad6c-be9798965201",
   "metadata": {},
   "outputs": [],
   "source": [
    "# Multi-level inheritance\n",
    "\n",
    "class A :\n",
    "    pass\n",
    "\n",
    "class B (A) :\n",
    "    pass\n",
    "\n",
    "class C (B): \n",
    "    pass\n",
    "\n"
   ]
  }
 ],
 "metadata": {
  "kernelspec": {
   "display_name": "Python 3 (ipykernel)",
   "language": "python",
   "name": "python3"
  },
  "language_info": {
   "codemirror_mode": {
    "name": "ipython",
    "version": 3
   },
   "file_extension": ".py",
   "mimetype": "text/x-python",
   "name": "python",
   "nbconvert_exporter": "python",
   "pygments_lexer": "ipython3",
   "version": "3.12.3"
  }
 },
 "nbformat": 4,
 "nbformat_minor": 5
}
