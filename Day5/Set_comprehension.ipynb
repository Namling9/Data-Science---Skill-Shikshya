{
 "cells": [
  {
   "cell_type": "code",
   "execution_count": 8,
   "id": "3a57d240-b885-41d3-8f45-66185dea8368",
   "metadata": {},
   "outputs": [
    {
     "data": {
      "text/plain": [
       "{'a', 'e', 'i', 'o'}"
      ]
     },
     "execution_count": 8,
     "metadata": {},
     "output_type": "execute_result"
    }
   ],
   "source": [
    "# Set comprehension\n",
    "\n",
    "sentence = \"This quick brown fox jump over a lazy dog\"\n",
    "vowels = \"aeiou\"\n",
    "\n",
    "output = {char for char in sentence.lower() if char in vowels}\n",
    "output"
   ]
  },
  {
   "cell_type": "code",
   "execution_count": 9,
   "id": "27d085b4-c76d-4b92-8119-6b01120b42c3",
   "metadata": {},
   "outputs": [
    {
     "data": {
      "text/plain": [
       "{'a', 'e', 'i', 'o'}"
      ]
     },
     "execution_count": 9,
     "metadata": {},
     "output_type": "execute_result"
    }
   ],
   "source": [
    "sentence = \"I love machine learning\"\n",
    "vowels = \"aeiou\"\n",
    "\n",
    "output = {char for char in sentence.lower() if char in vowels}\n",
    "output"
   ]
  },
  {
   "cell_type": "code",
   "execution_count": null,
   "id": "2b09945f-f3f7-4feb-acad-52277d86d89c",
   "metadata": {},
   "outputs": [],
   "source": []
  }
 ],
 "metadata": {
  "kernelspec": {
   "display_name": "Python 3 (ipykernel)",
   "language": "python",
   "name": "python3"
  },
  "language_info": {
   "codemirror_mode": {
    "name": "ipython",
    "version": 3
   },
   "file_extension": ".py",
   "mimetype": "text/x-python",
   "name": "python",
   "nbconvert_exporter": "python",
   "pygments_lexer": "ipython3",
   "version": "3.12.3"
  }
 },
 "nbformat": 4,
 "nbformat_minor": 5
}
