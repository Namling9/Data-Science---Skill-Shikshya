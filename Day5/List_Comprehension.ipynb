{
 "cells": [
  {
   "cell_type": "code",
   "execution_count": null,
   "id": "a02c4dfe-dc93-422f-958f-2be3ee76cf91",
   "metadata": {
    "scrolled": true
   },
   "outputs": [],
   "source": [
    "# List comprehension\n",
    "# Dictionary comprehension\n",
    "# set comprehension"
   ]
  },
  {
   "cell_type": "code",
   "execution_count": 2,
   "id": "74a8b54c-1729-4752-989e-6604e95dd47f",
   "metadata": {},
   "outputs": [
    {
     "name": "stdout",
     "output_type": "stream",
     "text": [
      "[1, 4, 9, 16, 25]\n"
     ]
    }
   ],
   "source": [
    "# List comprehension\n",
    "\n",
    "\n",
    "#output = [item+1 for items in sequence if condition]\n",
    "\n",
    "# Square the whole list\n",
    "# usual way\n",
    "\n",
    "numbers = [1,2,3,4,5]\n",
    "squared = []\n",
    "\n",
    "for each in numbers: \n",
    "    squared.append(each**2)\n",
    "\n",
    "print(squared)"
   ]
  },
  {
   "cell_type": "code",
   "execution_count": 3,
   "id": "23d70ea0-8187-49c8-8335-506e0379d66f",
   "metadata": {},
   "outputs": [
    {
     "name": "stdout",
     "output_type": "stream",
     "text": [
      "[1, 4, 9, 16, 25]\n"
     ]
    }
   ],
   "source": [
    "# List comprehension \n",
    "# Square whole list\n",
    "numbers = [1,2,3,4,5]\n",
    "sqaured = [each**2 for each in numbers]\n",
    "print(squared)"
   ]
  },
  {
   "cell_type": "code",
   "execution_count": 10,
   "id": "7a2c5daa-448f-4bfc-be2a-fe1641956329",
   "metadata": {},
   "outputs": [
    {
     "name": "stdout",
     "output_type": "stream",
     "text": [
      "['odd:1', 4, 'odd:3', 16, 'odd:5', 36, 'odd:7', 64, 'odd:9', 100, 'odd:11', 144, 'odd:13', 196, 'odd:15', 256, 'odd:17', 324, 'odd:19', 400, 'odd:21', 484, 'odd:23', 576, 'odd:25', 676, 'odd:27', 784, 'odd:29', 900, 'odd:31', 1024, 'odd:33', 1156, 'odd:35', 1296, 'odd:37', 1444, 'odd:39', 1600, 'odd:41', 1764, 'odd:43', 1936, 'odd:45', 2116, 'odd:47', 2304, 'odd:49', 2500, 'odd:51', 2704, 'odd:53', 2916, 'odd:55', 3136, 'odd:57', 3364, 'odd:59', 3600, 'odd:61', 3844, 'odd:63', 4096, 'odd:65', 4356, 'odd:67', 4624, 'odd:69', 4900, 'odd:71', 5184, 'odd:73', 5476, 'odd:75', 5776, 'odd:77', 6084, 'odd:79', 6400, 'odd:81', 6724, 'odd:83', 7056, 'odd:85', 7396, 'odd:87', 7744, 'odd:89', 8100, 'odd:91', 8464, 'odd:93', 8836, 'odd:95', 9216, 'odd:97', 9604, 'odd:99', 10000]\n"
     ]
    }
   ],
   "source": [
    "# List comprehension with if condition\n",
    "# print even number in list\n",
    "\n",
    "number = [i**2 if i%2==0 else f\"odd:{i}\" for i in range(1,101) ]\n",
    "print(number)"
   ]
  },
  {
   "cell_type": "code",
   "execution_count": 13,
   "id": "0645455e-0fef-4bce-ae04-c47eceb5b614",
   "metadata": {},
   "outputs": [
    {
     "name": "stdout",
     "output_type": "stream",
     "text": [
      "[('apple', 1), ('apple', 2), ('apple', 3), ('banana', 1), ('banana', 2), ('banana', 3), ('cherry', 1), ('cherry', 2), ('cherry', 3)]\n"
     ]
    }
   ],
   "source": [
    "fruits = ['apple','banana','cherry']\n",
    "numbers = [1,2,3,]\n",
    "\n",
    "pairs = [(i,j) for i in fruits for j in numbers]\n",
    "print(pairs)"
   ]
  },
  {
   "cell_type": "markdown",
   "id": "b500d162-ba61-4221-8f26-8272ae585e76",
   "metadata": {},
   "source": [
    "# Find the length of unique letter in word"
   ]
  },
  {
   "cell_type": "code",
   "execution_count": 17,
   "id": "020d1f2f-6096-495d-87c5-b1dd787baddd",
   "metadata": {},
   "outputs": [
    {
     "name": "stdout",
     "output_type": "stream",
     "text": [
      "[3, 5, 7, 7]\n"
     ]
    }
   ],
   "source": [
    "words = [\"data\",\"Science\",\"machine\",\"Learning\"]\n",
    "\n",
    "length = [ len(set(word)) for word in words ]\n",
    "print(length)\n"
   ]
  },
  {
   "cell_type": "code",
   "execution_count": null,
   "id": "93190a9a-7b17-48d8-9702-9ac839415913",
   "metadata": {},
   "outputs": [],
   "source": []
  }
 ],
 "metadata": {
  "kernelspec": {
   "display_name": "Python 3 (ipykernel)",
   "language": "python",
   "name": "python3"
  },
  "language_info": {
   "codemirror_mode": {
    "name": "ipython",
    "version": 3
   },
   "file_extension": ".py",
   "mimetype": "text/x-python",
   "name": "python",
   "nbconvert_exporter": "python",
   "pygments_lexer": "ipython3",
   "version": "3.12.3"
  }
 },
 "nbformat": 4,
 "nbformat_minor": 5
}
