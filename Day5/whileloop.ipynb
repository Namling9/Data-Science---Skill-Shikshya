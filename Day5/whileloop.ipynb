{
 "cells": [
  {
   "cell_type": "code",
   "execution_count": 3,
   "id": "b4230ca4-f84d-43ef-aef5-d520057d0387",
   "metadata": {},
   "outputs": [
    {
     "name": "stdout",
     "output_type": "stream",
     "text": [
      "1\n",
      "2\n",
      "3\n",
      "4\n"
     ]
    }
   ],
   "source": [
    "# While loop\n",
    "\n",
    "i = 1\n",
    "while i<5:\n",
    "    print(i)\n",
    "    i+=1\n"
   ]
  },
  {
   "cell_type": "code",
   "execution_count": 15,
   "id": "8707ba1f-37d8-49f0-8b90-b7366dcd073c",
   "metadata": {},
   "outputs": [
    {
     "name": "stdin",
     "output_type": "stream",
     "text": [
      "enter the number:  5\n"
     ]
    },
    {
     "name": "stdout",
     "output_type": "stream",
     "text": [
      "5x1=5\n",
      "5x2=10\n",
      "5x3=15\n",
      "5x4=20\n",
      "5x5=25\n",
      "5x6=30\n",
      "5x7=35\n",
      "5x8=40\n",
      "5x9=45\n",
      "5x10=50\n"
     ]
    }
   ],
   "source": [
    "# Question 2 : Write a Program to Calculate the multiplication\n",
    "\n",
    "n = int(input(\"enter the number: \"))\n",
    "i = 1\n",
    "while i < 11:\n",
    "    print(f\"{n}x{i}={n*i}\")\n",
    "    i+=1\n"
   ]
  },
  {
   "cell_type": "code",
   "execution_count": 1,
   "id": "83a2a4db-d62f-4146-88a8-4e86792a26fe",
   "metadata": {},
   "outputs": [
    {
     "name": "stdin",
     "output_type": "stream",
     "text": [
      "enter the number:  5\n"
     ]
    },
    {
     "name": "stdout",
     "output_type": "stream",
     "text": [
      "5x1=5\n",
      "5x2=10\n",
      "5x3=15\n",
      "5x4=20\n",
      "5x5=25\n",
      "5x6=30\n",
      "5x7=35\n",
      "5x8=40\n",
      "5x9=45\n",
      "5x10=50\n",
      "5x11=55\n",
      "5x12=60\n",
      "5x13=65\n",
      "5x14=70\n",
      "5x15=75\n",
      "5x16=80\n",
      "5x17=85\n",
      "5x18=90\n",
      "5x19=95\n",
      "5x20=100\n",
      "5x21=105\n"
     ]
    }
   ],
   "source": [
    "# Break statement\n",
    "\n",
    "n = int(input(\"enter the number: \"))\n",
    "i = 1\n",
    "while True:\n",
    "    result = n*i\n",
    "    print(f\"{n}x{i}={result}\")\n",
    "    i+=1\n",
    "\n",
    "    if result > 100:\n",
    "        break\n",
    "\n"
   ]
  },
  {
   "cell_type": "code",
   "execution_count": 1,
   "id": "6fb2a02d-3ed7-4f9b-9722-03625dbbb18c",
   "metadata": {},
   "outputs": [
    {
     "name": "stdin",
     "output_type": "stream",
     "text": [
      "enter the number:  10\n"
     ]
    },
    {
     "name": "stdout",
     "output_type": "stream",
     "text": [
      "Even: 2\n",
      "Even: 4\n",
      "Even: 6\n",
      "Even: 8\n",
      "Even: 10\n"
     ]
    }
   ],
   "source": [
    "n = int(input(\"enter the number: \"))\n",
    "i = 1\n",
    "while i <= n:\n",
    "    if i%2 == 0:\n",
    "        print(f\"Even: {i}\")\n",
    "    i+=1\n"
   ]
  },
  {
   "cell_type": "code",
   "execution_count": null,
   "id": "3fa501c0-9a03-4095-a5e8-5bdbd406e1f0",
   "metadata": {},
   "outputs": [],
   "source": []
  }
 ],
 "metadata": {
  "kernelspec": {
   "display_name": "Python 3 (ipykernel)",
   "language": "python",
   "name": "python3"
  },
  "language_info": {
   "codemirror_mode": {
    "name": "ipython",
    "version": 3
   },
   "file_extension": ".py",
   "mimetype": "text/x-python",
   "name": "python",
   "nbconvert_exporter": "python",
   "pygments_lexer": "ipython3",
   "version": "3.12.3"
  }
 },
 "nbformat": 4,
 "nbformat_minor": 5
}
