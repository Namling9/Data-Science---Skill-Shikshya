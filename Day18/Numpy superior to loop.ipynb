{
 "cells": [
  {
   "cell_type": "markdown",
   "id": "ea5d4a39-8795-4bf4-81e7-bfd5d275be25",
   "metadata": {},
   "source": [
    "# Why numpy over python for loop"
   ]
  },
  {
   "cell_type": "code",
   "execution_count": 4,
   "id": "5b2c76f1-a6ae-4cd9-95aa-3f0691add5c6",
   "metadata": {},
   "outputs": [],
   "source": [
    "import numpy as np\n",
    "import time\n",
    "a = np.random.rand(5000000)\n",
    "b = np.random.rand(5000000)"
   ]
  },
  {
   "cell_type": "code",
   "execution_count": 5,
   "id": "eaecd6f3-3143-4eb4-bb7b-a893cca59e16",
   "metadata": {},
   "outputs": [
    {
     "name": "stdout",
     "output_type": "stream",
     "text": [
      "Time:  0.6093015670776367\n"
     ]
    }
   ],
   "source": [
    "# using pure python for loop\n",
    "\n",
    "lsa = list(a)\n",
    "lsb = list(b)\n",
    "res = []\n",
    "\n",
    "start = time.time()\n",
    "for i in range(len(lsa)):\n",
    "    res.append(lsa[i] * lsb[i])\n",
    "\n",
    "end = time.time()\n",
    "print(\"Time: \", end-start)\n"
   ]
  },
  {
   "cell_type": "code",
   "execution_count": 6,
   "id": "3cbc42c5-734c-421a-a7c2-3be3e9530c34",
   "metadata": {},
   "outputs": [
    {
     "name": "stdout",
     "output_type": "stream",
     "text": [
      "Time:  0.4618191719055176\n"
     ]
    }
   ],
   "source": [
    "\n",
    "lsa = list(a)\n",
    "lsb = list(b)\n",
    "start = time.time()\n",
    "res = [ lsa[i]*lsb[i] for i in range(len(lsa))]\n",
    "end = time.time()\n",
    "\n",
    "print(\"Time: \", end-start)\n"
   ]
  },
  {
   "cell_type": "code",
   "execution_count": 9,
   "id": "69a0a1c8-9d1d-43fc-b9cb-2a6db963c037",
   "metadata": {},
   "outputs": [
    {
     "name": "stdout",
     "output_type": "stream",
     "text": [
      "Time:  7.009506225585938e-05\n"
     ]
    }
   ],
   "source": [
    "# using map function\n",
    "start = time.time()\n",
    "result = map(lambda x, y: x*y, lsa,lsb)\n",
    "end = time.time()\n",
    "\n",
    "print(\"Time: \", end-start)"
   ]
  },
  {
   "cell_type": "code",
   "execution_count": 10,
   "id": "586a33a0-ff72-40ec-8847-f74a3bac8a79",
   "metadata": {},
   "outputs": [
    {
     "name": "stdout",
     "output_type": "stream",
     "text": [
      "Time:  0.011471033096313477\n"
     ]
    }
   ],
   "source": [
    "# Using Numpy element-wise operation\n",
    "\n",
    "start = time.time()\n",
    "res = a*b\n",
    "end = time.time()\n",
    "\n",
    "print(\"Time: \", end-start)"
   ]
  },
  {
   "cell_type": "code",
   "execution_count": null,
   "id": "3ef2234f-6d85-4cdb-9ec7-bf1c223b06fe",
   "metadata": {},
   "outputs": [],
   "source": []
  },
  {
   "cell_type": "code",
   "execution_count": null,
   "id": "983b3545-2d11-48cb-bb11-c2fc2097d044",
   "metadata": {},
   "outputs": [],
   "source": []
  }
 ],
 "metadata": {
  "kernelspec": {
   "display_name": "Python 3 (ipykernel)",
   "language": "python",
   "name": "python3"
  },
  "language_info": {
   "codemirror_mode": {
    "name": "ipython",
    "version": 3
   },
   "file_extension": ".py",
   "mimetype": "text/x-python",
   "name": "python",
   "nbconvert_exporter": "python",
   "pygments_lexer": "ipython3",
   "version": "3.12.3"
  }
 },
 "nbformat": 4,
 "nbformat_minor": 5
}
