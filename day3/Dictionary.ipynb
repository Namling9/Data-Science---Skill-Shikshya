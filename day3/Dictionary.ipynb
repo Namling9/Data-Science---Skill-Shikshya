{
 "cells": [
  {
   "cell_type": "code",
   "execution_count": 1,
   "id": "bca9ca1a-4fac-43f2-9b96-615736cbf630",
   "metadata": {},
   "outputs": [
    {
     "name": "stdout",
     "output_type": "stream",
     "text": [
      "{'name': 'John', 'age': 30, 'city': 'New York', 'Gender': 'Male'}\n"
     ]
    }
   ],
   "source": [
    "# Creating Dictionary\n",
    "\n",
    "person = {\n",
    "    \"name\": \"John\",\n",
    "    \"age\": 30,\n",
    "    \"city\": \"New York\",\n",
    "    \"Gender\": \"Male\"\n",
    "}\n",
    "\n",
    "print(person)"
   ]
  },
  {
   "cell_type": "code",
   "execution_count": 2,
   "id": "a84693ce-0cf1-4b2d-90e1-c6dd29546f77",
   "metadata": {},
   "outputs": [
    {
     "name": "stdout",
     "output_type": "stream",
     "text": [
      "John\n",
      "30\n"
     ]
    }
   ],
   "source": [
    "print(person[\"name\"])\n",
    "print(person[\"age\"])"
   ]
  },
  {
   "cell_type": "code",
   "execution_count": 3,
   "id": "9ebe8697-b0f7-4ec3-b9de-577c57862c5d",
   "metadata": {},
   "outputs": [
    {
     "data": {
      "text/plain": [
       "'unknown'"
      ]
     },
     "execution_count": 3,
     "metadata": {},
     "output_type": "execute_result"
    }
   ],
   "source": [
    "person.get(\"Lastname\", \"unknown\")"
   ]
  },
  {
   "cell_type": "code",
   "execution_count": 4,
   "id": "6940b812-0767-47a8-afa6-b2c14b827969",
   "metadata": {},
   "outputs": [
    {
     "data": {
      "text/plain": [
       "'BCA'"
      ]
     },
     "execution_count": 4,
     "metadata": {},
     "output_type": "execute_result"
    }
   ],
   "source": [
    "person.get(\"Faculty\", \"BCA\")"
   ]
  },
  {
   "cell_type": "code",
   "execution_count": 5,
   "id": "5b3e16cf-92a7-4bcb-b906-660f85455d60",
   "metadata": {},
   "outputs": [
    {
     "data": {
      "text/plain": [
       "'howward'"
      ]
     },
     "execution_count": 5,
     "metadata": {},
     "output_type": "execute_result"
    }
   ],
   "source": [
    "person.get(\"School\", \"howward\")"
   ]
  },
  {
   "cell_type": "code",
   "execution_count": 6,
   "id": "104c732f-85d9-4139-8f1c-5b8bd808eca9",
   "metadata": {},
   "outputs": [
    {
     "name": "stdout",
     "output_type": "stream",
     "text": [
      "{'name': 'John', 'age': 30, 'city': 'New York', 'Gender': 'Male'}\n"
     ]
    }
   ],
   "source": [
    "print(person)"
   ]
  },
  {
   "cell_type": "code",
   "execution_count": 9,
   "id": "8b443d1b-3027-443b-815b-9456ef23e3db",
   "metadata": {},
   "outputs": [
    {
     "name": "stdout",
     "output_type": "stream",
     "text": [
      "{'name': 'John', 'age': 40, 'city': 'New York', 'Gender': 'Male', 'school': \"GoldenGate Int'l college\"}\n"
     ]
    }
   ],
   "source": [
    "# Modifying dictionary\n",
    "\n",
    "person[\"age\"] = 40\n",
    "person[\"school\"] = \"GoldenGate Int'l college\"\n",
    "\n",
    "print(person)"
   ]
  },
  {
   "cell_type": "code",
   "execution_count": 10,
   "id": "c2ca3c55-112b-4e55-9630-b9ef9025ecc0",
   "metadata": {},
   "outputs": [
    {
     "name": "stdout",
     "output_type": "stream",
     "text": [
      "{'name': 'John', 'age': 40, 'city': 'New York', 'Gender': 'Male'}\n"
     ]
    }
   ],
   "source": [
    "del person[\"school\"] # Deleting Element city\n",
    "print(person)"
   ]
  },
  {
   "cell_type": "code",
   "execution_count": 11,
   "id": "4a86de19-1771-4a4c-aba5-72624df50bf8",
   "metadata": {},
   "outputs": [
    {
     "name": "stdout",
     "output_type": "stream",
     "text": [
      "dict_keys(['name', 'age', 'city', 'Gender'])\n",
      "dict_values(['John', 40, 'New York', 'Male'])\n"
     ]
    }
   ],
   "source": [
    "# Dictionary Method\n",
    "\n",
    "print(person.keys()) # Returns a view object that contains keys of the dictionary\n",
    "print(person.values()) # Returns a view object that contains vlaues of the dictionary"
   ]
  },
  {
   "cell_type": "code",
   "execution_count": 12,
   "id": "6402fd99-8352-412d-9d51-e35f8794900d",
   "metadata": {},
   "outputs": [
    {
     "name": "stdout",
     "output_type": "stream",
     "text": [
      "dict_items([('name', 'John'), ('age', 40), ('city', 'New York'), ('Gender', 'Male')])\n"
     ]
    }
   ],
   "source": [
    "print(person.items()) "
   ]
  },
  {
   "cell_type": "code",
   "execution_count": 13,
   "id": "4b2499bf-d25d-421b-b2f8-86009026fc07",
   "metadata": {},
   "outputs": [
    {
     "name": "stdout",
     "output_type": "stream",
     "text": [
      "New York\n"
     ]
    }
   ],
   "source": [
    "# pop\n",
    "\n",
    "city = person.pop(\"city\",\"default\")\n",
    "print(city)"
   ]
  },
  {
   "cell_type": "code",
   "execution_count": 14,
   "id": "6d885447-0b98-4c6a-bfeb-409f76540b67",
   "metadata": {},
   "outputs": [
    {
     "name": "stdout",
     "output_type": "stream",
     "text": [
      "{'name': 'John', 'age': 40, 'Gender': 'Male'}\n"
     ]
    }
   ],
   "source": [
    "print(person)"
   ]
  },
  {
   "cell_type": "code",
   "execution_count": 15,
   "id": "080619bf-f45d-424a-a668-b85b9b1d2662",
   "metadata": {},
   "outputs": [
    {
     "name": "stdout",
     "output_type": "stream",
     "text": [
      "default\n"
     ]
    }
   ],
   "source": [
    "city = person.pop(\"city\",\"default\")\n",
    "print(city)\n"
   ]
  },
  {
   "cell_type": "code",
   "execution_count": null,
   "id": "d9674052-9a82-4003-bc55-917677d0b4c1",
   "metadata": {},
   "outputs": [],
   "source": []
  }
 ],
 "metadata": {
  "kernelspec": {
   "display_name": "Python 3 (ipykernel)",
   "language": "python",
   "name": "python3"
  },
  "language_info": {
   "codemirror_mode": {
    "name": "ipython",
    "version": 3
   },
   "file_extension": ".py",
   "mimetype": "text/x-python",
   "name": "python",
   "nbconvert_exporter": "python",
   "pygments_lexer": "ipython3",
   "version": "3.12.3"
  }
 },
 "nbformat": 4,
 "nbformat_minor": 5
}
