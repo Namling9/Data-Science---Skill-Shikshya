{
 "cells": [
  {
   "cell_type": "code",
   "execution_count": 25,
   "id": "83c551a6-d958-4bd9-a30f-2ccc77cd8eae",
   "metadata": {},
   "outputs": [
    {
     "name": "stdout",
     "output_type": "stream",
     "text": [
      "{1, 2, 3, 4, 5}\n"
     ]
    }
   ],
   "source": [
    "my_set = {1,2,3,4,5}\n",
    "print(my_set)"
   ]
  },
  {
   "cell_type": "code",
   "execution_count": 26,
   "id": "005f0e1e-ebfe-4d59-9333-8110afd7e50b",
   "metadata": {},
   "outputs": [
    {
     "name": "stdout",
     "output_type": "stream",
     "text": [
      "{1, 2, 4, 5, 6}\n"
     ]
    }
   ],
   "source": [
    "set2 = set([1,2,4,4,5,6]) # set doesn't store same value or return same value in set\n",
    "print(set2)"
   ]
  },
  {
   "cell_type": "code",
   "execution_count": 27,
   "id": "2c442d00-b0ad-4f4b-8809-4c6a8809f152",
   "metadata": {},
   "outputs": [
    {
     "name": "stdout",
     "output_type": "stream",
     "text": [
      "{1, 2, 3, 4, 5, 6, 7, 8, 9, 20}\n"
     ]
    }
   ],
   "source": [
    "# set operation\n",
    "\n",
    "A = {1,2,3,4,5,6}\n",
    "B = {7,8,9,20,1,2,3}\n",
    "\n",
    "print(A.union(B))"
   ]
  },
  {
   "cell_type": "code",
   "execution_count": 28,
   "id": "ccdd77b6-0a51-4324-9878-78214cdf60e2",
   "metadata": {},
   "outputs": [
    {
     "name": "stdout",
     "output_type": "stream",
     "text": [
      "{1, 2, 3}\n"
     ]
    }
   ],
   "source": [
    "print(A.intersection(B))"
   ]
  },
  {
   "cell_type": "code",
   "execution_count": 44,
   "id": "27dc07e3-2203-4e15-b66e-bacfb223493e",
   "metadata": {},
   "outputs": [
    {
     "name": "stdout",
     "output_type": "stream",
     "text": [
      "{4, 5, 6, 7, 8, 9, 20}\n"
     ]
    }
   ],
   "source": [
    "print(A.symmetric_difference(B))\n"
   ]
  },
  {
   "cell_type": "code",
   "execution_count": 45,
   "id": "5d3d992f-510d-4fb7-b4d0-b26a1bcda212",
   "metadata": {},
   "outputs": [
    {
     "ename": "TypeError",
     "evalue": "'set' object is not callable",
     "output_type": "error",
     "traceback": [
      "\u001b[1;31m---------------------------------------------------------------------------\u001b[0m",
      "\u001b[1;31mTypeError\u001b[0m                                 Traceback (most recent call last)",
      "Cell \u001b[1;32mIn[45], line 2\u001b[0m\n\u001b[0;32m      1\u001b[0m my_list \u001b[38;5;241m=\u001b[39m [\u001b[38;5;124m'\u001b[39m\u001b[38;5;124ma\u001b[39m\u001b[38;5;124m'\u001b[39m,\u001b[38;5;124m'\u001b[39m\u001b[38;5;124mb\u001b[39m\u001b[38;5;124m'\u001b[39m,\u001b[38;5;124m'\u001b[39m\u001b[38;5;124mp\u001b[39m\u001b[38;5;124m'\u001b[39m,\u001b[38;5;124m'\u001b[39m\u001b[38;5;124mp\u001b[39m\u001b[38;5;124m'\u001b[39m,\u001b[38;5;124m'\u001b[39m\u001b[38;5;124ml\u001b[39m\u001b[38;5;124m'\u001b[39m,\u001b[38;5;124m'\u001b[39m\u001b[38;5;124me\u001b[39m\u001b[38;5;124m'\u001b[39m]\n\u001b[1;32m----> 2\u001b[0m set1 \u001b[38;5;241m=\u001b[39m \u001b[38;5;28;43mset\u001b[39;49m\u001b[43m(\u001b[49m\u001b[43mmy_list\u001b[49m\u001b[43m)\u001b[49m\n\u001b[0;32m      3\u001b[0m \u001b[38;5;28mprint\u001b[39m(set1)\n",
      "\u001b[1;31mTypeError\u001b[0m: 'set' object is not callable"
     ]
    }
   ],
   "source": [
    "my_list = ['a','b','p','p','l','e']\n",
    "set1 = set(my_list)\n",
    "print(set1)\n"
   ]
  },
  {
   "cell_type": "code",
   "execution_count": 40,
   "id": "e871d13f-bcac-45c7-bc6d-557987e92e21",
   "metadata": {},
   "outputs": [
    {
     "ename": "NameError",
     "evalue": "name 'my_l' is not defined",
     "output_type": "error",
     "traceback": [
      "\u001b[1;31m---------------------------------------------------------------------------\u001b[0m",
      "\u001b[1;31mNameError\u001b[0m                                 Traceback (most recent call last)",
      "Cell \u001b[1;32mIn[40], line 1\u001b[0m\n\u001b[1;32m----> 1\u001b[0m \u001b[38;5;28mprint\u001b[39m(\u001b[38;5;28mlen\u001b[39m(\u001b[43mmy_l\u001b[49m))\n",
      "\u001b[1;31mNameError\u001b[0m: name 'my_l' is not defined"
     ]
    }
   ],
   "source": [
    "print(len(my_l))"
   ]
  },
  {
   "cell_type": "code",
   "execution_count": 46,
   "id": "3f2db66d-565b-4d68-91b0-5b18686afcf6",
   "metadata": {},
   "outputs": [
    {
     "name": "stdout",
     "output_type": "stream",
     "text": [
      "{1, 2, 3, 4, 5, 6}\n"
     ]
    }
   ],
   "source": [
    "# Modfifying set\n",
    "\n",
    "my_set = {1,2,3,4,5}\n",
    "my_set.add(6)\n",
    "print(my_set)"
   ]
  },
  {
   "cell_type": "code",
   "execution_count": 47,
   "id": "aecad0e8-3369-4e5f-a779-b5510013a908",
   "metadata": {},
   "outputs": [
    {
     "name": "stdout",
     "output_type": "stream",
     "text": [
      "{1, 2, 4, 5, 6}\n"
     ]
    }
   ],
   "source": [
    "my_set.remove(3) # If the elements don't exist, It will raise a keyError.\n",
    "print(my_set)"
   ]
  },
  {
   "cell_type": "code",
   "execution_count": 48,
   "id": "8190479f-abd5-4d5b-bf62-e994787110d6",
   "metadata": {},
   "outputs": [
    {
     "name": "stdout",
     "output_type": "stream",
     "text": [
      "{1, 2, 4, 5, 6}\n"
     ]
    }
   ],
   "source": [
    "my_set.discard(3) # Removes the specific element and If the elements don't exist, It will not raise a keyError.\n",
    "print(my_set)"
   ]
  },
  {
   "cell_type": "code",
   "execution_count": 21,
   "id": "3df23780-8681-40f3-a437-331b86a652a4",
   "metadata": {},
   "outputs": [
    {
     "name": "stdout",
     "output_type": "stream",
     "text": [
      "0\n"
     ]
    }
   ],
   "source": []
  },
  {
   "cell_type": "code",
   "execution_count": 18,
   "id": "60b3b464-276b-47cd-881e-f75884589ef9",
   "metadata": {},
   "outputs": [
    {
     "name": "stdout",
     "output_type": "stream",
     "text": [
      "2\n"
     ]
    }
   ],
   "source": [
    "x = my_set.pop() # Remves and returns an arbitrary element from a set\n",
    "print(x) # If the set is empty, It will raise a keyError"
   ]
  },
  {
   "cell_type": "code",
   "execution_count": null,
   "id": "d00d04df-5c20-47fb-a8d2-39ac73bed931",
   "metadata": {},
   "outputs": [],
   "source": []
  }
 ],
 "metadata": {
  "kernelspec": {
   "display_name": "Python 3 (ipykernel)",
   "language": "python",
   "name": "python3"
  },
  "language_info": {
   "codemirror_mode": {
    "name": "ipython",
    "version": 3
   },
   "file_extension": ".py",
   "mimetype": "text/x-python",
   "name": "python",
   "nbconvert_exporter": "python",
   "pygments_lexer": "ipython3",
   "version": "3.12.3"
  }
 },
 "nbformat": 4,
 "nbformat_minor": 5
}
