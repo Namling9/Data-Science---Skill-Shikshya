{
 "cells": [
  {
   "cell_type": "code",
   "execution_count": 4,
   "id": "3fe08f38-4866-4932-b9db-b8a244a5959c",
   "metadata": {},
   "outputs": [
    {
     "name": "stdout",
     "output_type": "stream",
     "text": [
      "(1, 2, 3, 4)\n",
      "<class 'tuple'>\n"
     ]
    }
   ],
   "source": [
    "# Tuple\n",
    "\n",
    "my_tuple= (1,2,3,4)\n",
    "print(my_tuple)\n",
    "print(type(my_tuple))\n"
   ]
  },
  {
   "cell_type": "code",
   "execution_count": 5,
   "id": "56a18912-bd11-4157-8f7e-d64d00685c05",
   "metadata": {},
   "outputs": [
    {
     "name": "stdout",
     "output_type": "stream",
     "text": [
      "1\n"
     ]
    }
   ],
   "source": [
    "# Indexing tuple\n",
    "\n",
    "print(my_tuple[0])"
   ]
  },
  {
   "cell_type": "code",
   "execution_count": 3,
   "id": "7120e777-a098-484f-8d4b-42a35c01dc2d",
   "metadata": {},
   "outputs": [
    {
     "name": "stdout",
     "output_type": "stream",
     "text": [
      "(5, 6, 7)\n"
     ]
    }
   ],
   "source": [
    "my_tuple= (5,6,7,8,42,5)\n",
    "print(my_tuple[0:3])"
   ]
  },
  {
   "cell_type": "code",
   "execution_count": 5,
   "id": "b16725c9-41ae-43f3-bb11-a6824f4e8e3b",
   "metadata": {},
   "outputs": [
    {
     "name": "stdout",
     "output_type": "stream",
     "text": [
      "2\n",
      "0\n",
      "6\n",
      "[5, 5, 6, 7, 8, 42]\n",
      "42\n",
      "5\n"
     ]
    }
   ],
   "source": [
    "\n",
    "print(my_tuple.count(5)) # Returns the count number of same value \n",
    "print(my_tuple.index(5)) # returns index of value\n",
    "print(len(my_tuple)) # length\n",
    "print(sorted(my_tuple))\n",
    "print(max(my_tuple))\n",
    "print(min(my_tuple))\n"
   ]
  },
  {
   "cell_type": "code",
   "execution_count": null,
   "id": "42010a94-1165-470c-a0ea-d668c7c661bc",
   "metadata": {},
   "outputs": [],
   "source": []
  }
 ],
 "metadata": {
  "kernelspec": {
   "display_name": "Python 3 (ipykernel)",
   "language": "python",
   "name": "python3"
  },
  "language_info": {
   "codemirror_mode": {
    "name": "ipython",
    "version": 3
   },
   "file_extension": ".py",
   "mimetype": "text/x-python",
   "name": "python",
   "nbconvert_exporter": "python",
   "pygments_lexer": "ipython3",
   "version": "3.12.3"
  }
 },
 "nbformat": 4,
 "nbformat_minor": 5
}
