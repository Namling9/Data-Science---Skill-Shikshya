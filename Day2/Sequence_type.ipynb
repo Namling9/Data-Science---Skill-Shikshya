{
 "cells": [
  {
   "cell_type": "code",
   "execution_count": 1,
   "id": "8fe271fd-3091-456a-83c7-3ce92af964a9",
   "metadata": {},
   "outputs": [],
   "source": [
    "# List and Tuple"
   ]
  },
  {
   "cell_type": "code",
   "execution_count": 4,
   "id": "186917a6-7692-4b14-8a3b-96708d059d1a",
   "metadata": {},
   "outputs": [
    {
     "name": "stdout",
     "output_type": "stream",
     "text": [
      "x :  [1, 2, 4, 5, 3]\n",
      "y :  ['apple', 'banana', 'cat']\n",
      "z :  [1, 'apple', 2, 'banana', 3, 4, 5, 'cat']\n"
     ]
    }
   ],
   "source": [
    "#1. List \n",
    "\n",
    "''' List is a collection of an item'''\n",
    "\n",
    "# Defining list\n",
    "\n",
    "x = [1,2,4,5,3]\n",
    "y = [\"apple\", \"banana\", \"cat\"]\n",
    "z = [1,\"apple\",2,\"banana\",3,4,5,\"cat\"]\n",
    "\n",
    "print(\"x : \", x)\n",
    "print(\"y : \", y)\n",
    "print(\"z : \",z)"
   ]
  },
  {
   "cell_type": "code",
   "execution_count": 6,
   "id": "5da91694-8193-46c2-a0b0-56eefffd9b29",
   "metadata": {},
   "outputs": [
    {
     "data": {
      "text/plain": [
       "1"
      ]
     },
     "execution_count": 6,
     "metadata": {},
     "output_type": "execute_result"
    }
   ],
   "source": [
    "# List indexing\n",
    "\n",
    "x[0]"
   ]
  },
  {
   "cell_type": "code",
   "execution_count": 7,
   "id": "809eb5fb-82c5-4900-b6ac-2e93aeb7ffb7",
   "metadata": {},
   "outputs": [
    {
     "data": {
      "text/plain": [
       "[1, 2, 4]"
      ]
     },
     "execution_count": 7,
     "metadata": {},
     "output_type": "execute_result"
    }
   ],
   "source": [
    "x[0:3]"
   ]
  },
  {
   "cell_type": "code",
   "execution_count": 8,
   "id": "20969fbd-1147-4f68-8d04-f03f8806acae",
   "metadata": {},
   "outputs": [
    {
     "data": {
      "text/plain": [
       "[3, 5, 4, 2, 1]"
      ]
     },
     "execution_count": 8,
     "metadata": {},
     "output_type": "execute_result"
    }
   ],
   "source": [
    "x[::-1] # Reversing list"
   ]
  },
  {
   "cell_type": "code",
   "execution_count": 9,
   "id": "7c4e52ff-aaf3-449a-aaee-20a83d13e415",
   "metadata": {},
   "outputs": [
    {
     "data": {
      "text/plain": [
       "3"
      ]
     },
     "execution_count": 9,
     "metadata": {},
     "output_type": "execute_result"
    }
   ],
   "source": [
    "x[-1]"
   ]
  },
  {
   "cell_type": "code",
   "execution_count": 10,
   "id": "4e506429-b0e3-46b8-879a-d817e1d3e6d9",
   "metadata": {},
   "outputs": [
    {
     "data": {
      "text/plain": [
       "[2, 4, 5, 3]"
      ]
     },
     "execution_count": 10,
     "metadata": {},
     "output_type": "execute_result"
    }
   ],
   "source": [
    "x[-4:]"
   ]
  },
  {
   "cell_type": "code",
   "execution_count": 17,
   "id": "f0e0ee69-e03c-4cb1-b979-04d0eccc2ee8",
   "metadata": {},
   "outputs": [
    {
     "name": "stdout",
     "output_type": "stream",
     "text": [
      "[0, 2, 4, 6, 8, 10, 12, 14, 16, 18, 20, 22, 24, 26, 28, 30, 32, 34, 36, 38, 40, 42, 44, 46, 48]\n",
      "[49, 47, 45, 43, 41, 39, 37, 35, 33, 31, 29, 27, 25, 23, 21, 19, 17, 15, 13, 11, 9, 7, 5, 3, 1]\n"
     ]
    }
   ],
   "source": [
    "# Slicing lists\n",
    "\n",
    "x = list(range(0,50))\n",
    "print(x[::2])\n",
    "print(x[::-2])\n"
   ]
  },
  {
   "cell_type": "code",
   "execution_count": 18,
   "id": "761b629a-844c-435a-9708-f44a1ef43b71",
   "metadata": {},
   "outputs": [
    {
     "name": "stdout",
     "output_type": "stream",
     "text": [
      "[0, 1, 2, 3, 4, 5, 6, 7, 8, 9, 10, 11, 12, 13, 14, 15, 16, 17, 18, 19, 20, 21, 22, 23, 24, 25, 26, 27, 28, 29, 30, 31, 32, 33, 34, 35, 36, 37, 38, 39, 40, 41, 42, 43, 44, 45, 46, 47, 48, 49]\n"
     ]
    }
   ],
   "source": [
    "print(x)"
   ]
  },
  {
   "cell_type": "code",
   "execution_count": 19,
   "id": "e92a0dbd-0506-431b-af19-8177f41e42a6",
   "metadata": {},
   "outputs": [
    {
     "data": {
      "text/plain": [
       "30"
      ]
     },
     "execution_count": 19,
     "metadata": {},
     "output_type": "execute_result"
    }
   ],
   "source": [
    "x[30]"
   ]
  },
  {
   "cell_type": "code",
   "execution_count": 25,
   "id": "e2607ca2-f8a0-4592-b5cd-93af36e19878",
   "metadata": {},
   "outputs": [
    {
     "name": "stdout",
     "output_type": "stream",
     "text": [
      "[1, 2, 'hello this is 3', 4, 5, 6, 7]\n"
     ]
    }
   ],
   "source": [
    "# Modifying list\n",
    "y = [1,2,3,4,5]\n",
    "\n",
    "y[2] = \"hello this is 3\"\n",
    "\n",
    "#append\n",
    "# inserts the value at last/end\n",
    "y.append(6)\n",
    "y.append(7)\n",
    "print(y)"
   ]
  },
  {
   "cell_type": "code",
   "execution_count": 26,
   "id": "6c265cee-c550-4292-87fb-b1522e7917ae",
   "metadata": {},
   "outputs": [
    {
     "name": "stdout",
     "output_type": "stream",
     "text": [
      "[1, 2, 2, 'hello this is 3', 4, 5, 6, 7]\n"
     ]
    }
   ],
   "source": [
    "# insert()\n",
    "\n",
    "y.insert(2,2)\n",
    "print(y)"
   ]
  },
  {
   "cell_type": "code",
   "execution_count": 27,
   "id": "026fc9b2-1e90-4a79-9ae5-992f5e3e5c29",
   "metadata": {},
   "outputs": [
    {
     "name": "stdout",
     "output_type": "stream",
     "text": [
      "[1, 2, 2, 4, 5, 6, 7]\n"
     ]
    }
   ],
   "source": [
    "#Remove()\n",
    "\n",
    "y.remove(\"hello this is 3\") # \n",
    "print(y)"
   ]
  },
  {
   "cell_type": "code",
   "execution_count": 28,
   "id": "6aa914d7-bd65-4cf9-914b-f59439a3a979",
   "metadata": {},
   "outputs": [
    {
     "data": {
      "text/plain": [
       "2"
      ]
     },
     "execution_count": 28,
     "metadata": {},
     "output_type": "execute_result"
    }
   ],
   "source": [
    "# pop()\n",
    "y.pop(2)"
   ]
  },
  {
   "cell_type": "code",
   "execution_count": 29,
   "id": "ce7b4207-b341-46f7-af80-ead7ad6330eb",
   "metadata": {},
   "outputs": [
    {
     "name": "stdout",
     "output_type": "stream",
     "text": [
      "[1, 2, 4, 5, 6, 7]\n"
     ]
    }
   ],
   "source": [
    "print(y)"
   ]
  },
  {
   "cell_type": "code",
   "execution_count": 30,
   "id": "1ab50ce7-7684-4aa7-be94-33f15d182baa",
   "metadata": {},
   "outputs": [
    {
     "name": "stdout",
     "output_type": "stream",
     "text": [
      "[1, 2, 3, 4, 5, 6, 7]\n"
     ]
    }
   ],
   "source": [
    "y.insert(2,3)\n",
    "print(y)"
   ]
  },
  {
   "cell_type": "code",
   "execution_count": 33,
   "id": "561fc4b6-dd91-49d4-9219-d443993260a4",
   "metadata": {},
   "outputs": [
    {
     "name": "stdout",
     "output_type": "stream",
     "text": [
      "[]\n"
     ]
    }
   ],
   "source": [
    "# clear()\n",
    "\n",
    "y.clear()\n",
    "print(y)"
   ]
  },
  {
   "cell_type": "code",
   "execution_count": 35,
   "id": "773d7d3b-5732-488e-9fb5-a3ed57e64245",
   "metadata": {},
   "outputs": [
    {
     "name": "stdout",
     "output_type": "stream",
     "text": [
      "[0, 1, 2, 2, 3, 4, 4, 5, 5, 6, 6, 7, 8, 9, 9, 10, 23, 52, 62, 29583]\n"
     ]
    }
   ],
   "source": [
    "# list functions/method\n",
    "\n",
    "n = [9,6,2,1,4,2,5,62,0,5,29583,23,52,10,9,4,8,7,6,3]\n",
    "n.sort() # Sorts the list in ascending order\n",
    "print(n)\n"
   ]
  },
  {
   "cell_type": "code",
   "execution_count": 36,
   "id": "68e57702-9c51-4a84-b43e-efd3b204040b",
   "metadata": {},
   "outputs": [
    {
     "name": "stdout",
     "output_type": "stream",
     "text": [
      "[29583, 62, 52, 23, 10, 9, 9, 8, 7, 6, 6, 5, 5, 4, 4, 3, 2, 2, 1, 0]\n"
     ]
    }
   ],
   "source": [
    "n.sort(reverse = True) # Sorts the list in descending order.\n",
    "print(n)"
   ]
  },
  {
   "cell_type": "code",
   "execution_count": 37,
   "id": "1a779a74-ea8a-4dba-8251-d070a325e701",
   "metadata": {},
   "outputs": [
    {
     "name": "stdout",
     "output_type": "stream",
     "text": [
      "[0, 1, 2, 2, 3, 4, 4, 5, 5, 6, 6, 7, 8, 9, 9, 10, 23, 52, 62, 29583]\n"
     ]
    }
   ],
   "source": [
    "n.reverse()\n",
    "print(n)"
   ]
  },
  {
   "cell_type": "code",
   "execution_count": 39,
   "id": "0eac628e-cf97-4fd8-b028-b43eca412e3c",
   "metadata": {},
   "outputs": [
    {
     "name": "stdout",
     "output_type": "stream",
     "text": [
      "16\n"
     ]
    }
   ],
   "source": [
    "print(n.index(23)) # gives the index of value"
   ]
  },
  {
   "cell_type": "code",
   "execution_count": 40,
   "id": "2ea31f0c-8c34-4d68-99e4-1e8271be705c",
   "metadata": {},
   "outputs": [
    {
     "data": {
      "text/plain": [
       "2"
      ]
     },
     "execution_count": 40,
     "metadata": {},
     "output_type": "execute_result"
    }
   ],
   "source": [
    "n.count(2)"
   ]
  },
  {
   "cell_type": "code",
   "execution_count": 41,
   "id": "38367a3e-850c-4d87-82dc-991a43b5ae55",
   "metadata": {},
   "outputs": [
    {
     "data": {
      "text/plain": [
       "2"
      ]
     },
     "execution_count": 41,
     "metadata": {},
     "output_type": "execute_result"
    }
   ],
   "source": [
    "n.count(4)"
   ]
  },
  {
   "cell_type": "code",
   "execution_count": null,
   "id": "c264b786-9b3c-47ff-8e0d-a7a0db15a73d",
   "metadata": {},
   "outputs": [],
   "source": []
  }
 ],
 "metadata": {
  "kernelspec": {
   "display_name": "Python 3 (ipykernel)",
   "language": "python",
   "name": "python3"
  },
  "language_info": {
   "codemirror_mode": {
    "name": "ipython",
    "version": 3
   },
   "file_extension": ".py",
   "mimetype": "text/x-python",
   "name": "python",
   "nbconvert_exporter": "python",
   "pygments_lexer": "ipython3",
   "version": "3.12.3"
  }
 },
 "nbformat": 4,
 "nbformat_minor": 5
}
