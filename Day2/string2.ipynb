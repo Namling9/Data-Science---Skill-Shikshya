{
 "cells": [
  {
   "cell_type": "code",
   "execution_count": 1,
   "id": "80607943-f550-4f20-b9b5-38a95afa933b",
   "metadata": {},
   "outputs": [],
   "source": [
    "name = \"namling limbu\"\n"
   ]
  },
  {
   "cell_type": "code",
   "execution_count": 7,
   "id": "6083baf6-a36f-4f15-9b96-cba47fd54318",
   "metadata": {},
   "outputs": [
    {
     "name": "stdout",
     "output_type": "stream",
     "text": [
      "n : 0\n",
      "a : 1\n",
      "m : 2\n",
      "l : 3\n",
      "i : 4\n",
      "n : 5\n",
      "g : 6\n",
      "  : 7\n",
      "l : 8\n",
      "i : 9\n",
      "m : 10\n",
      "b : 11\n",
      "u : 12\n"
     ]
    }
   ],
   "source": [
    "\n",
    "for i, letter in enumerate(name) :\n",
    "    print(letter, \":\", i)\n",
    "    \n"
   ]
  },
  {
   "cell_type": "code",
   "execution_count": 9,
   "id": "fa91bc31-f1a5-4aa2-8089-e864a9ab7bbe",
   "metadata": {},
   "outputs": [
    {
     "data": {
      "text/plain": [
       "'HelloWorld!'"
      ]
     },
     "execution_count": 9,
     "metadata": {},
     "output_type": "execute_result"
    }
   ],
   "source": [
    "# String Concatenation\n",
    "\n",
    "x = \"Hello\"\n",
    "y = \"World!\"\n",
    "\n",
    "x+y"
   ]
  },
  {
   "cell_type": "code",
   "execution_count": 11,
   "id": "62ddeb9d-cb91-4a4e-8211-cea95fcec0a7",
   "metadata": {},
   "outputs": [
    {
     "data": {
      "text/plain": [
       "'Hello World!'"
      ]
     },
     "execution_count": 11,
     "metadata": {},
     "output_type": "execute_result"
    }
   ],
   "source": [
    "f\"{x} {y}\""
   ]
  },
  {
   "cell_type": "code",
   "execution_count": 14,
   "id": "3e99ba6c-a1f1-4a27-8787-02ac76cab374",
   "metadata": {},
   "outputs": [
    {
     "name": "stdout",
     "output_type": "stream",
     "text": [
      "namling Phejong Limbu\n"
     ]
    }
   ],
   "source": [
    "fname = \"namling\"\n",
    "m_name = \"Phejong\"\n",
    "l_name = \"Limbu\"\n",
    "\n",
    "full_name = f\"{fname} {m_name} {l_name}\"\n",
    "print(full_name)"
   ]
  },
  {
   "cell_type": "code",
   "execution_count": 15,
   "id": "e928cea2-c135-42a5-b64d-d61b66e264f8",
   "metadata": {},
   "outputs": [
    {
     "data": {
      "text/plain": [
       "'Namling Phejong Limbu'"
      ]
     },
     "execution_count": 15,
     "metadata": {},
     "output_type": "execute_result"
    }
   ],
   "source": [
    "full_name.title()"
   ]
  },
  {
   "cell_type": "code",
   "execution_count": null,
   "id": "b5646798-581d-4249-ae36-fcb0666cd08a",
   "metadata": {},
   "outputs": [],
   "source": []
  }
 ],
 "metadata": {
  "kernelspec": {
   "display_name": "Python 3 (ipykernel)",
   "language": "python",
   "name": "python3"
  },
  "language_info": {
   "codemirror_mode": {
    "name": "ipython",
    "version": 3
   },
   "file_extension": ".py",
   "mimetype": "text/x-python",
   "name": "python",
   "nbconvert_exporter": "python",
   "pygments_lexer": "ipython3",
   "version": "3.12.3"
  }
 },
 "nbformat": 4,
 "nbformat_minor": 5
}
