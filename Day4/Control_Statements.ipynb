{
 "cells": [
  {
   "cell_type": "code",
   "execution_count": 1,
   "id": "b08fb69f-f736-4b00-b251-4d4a22fd569f",
   "metadata": {},
   "outputs": [
    {
     "name": "stdout",
     "output_type": "stream",
     "text": [
      "Given Number is -10\n"
     ]
    }
   ],
   "source": [
    "# Conditional Statement (if,elif,else)\n",
    "\n",
    "x = -10\n",
    "\n",
    "if x > 0 : \n",
    "    print(f\"{X} is greater than 0\")\n",
    "\n",
    "print(f\"Given Number is {x}\")\n"
   ]
  },
  {
   "cell_type": "code",
   "execution_count": null,
   "id": "ac54e515-b6dc-4918-9e4f-8ff4770da895",
   "metadata": {},
   "outputs": [],
   "source": [
    "# Find if number odd or even\n",
    "\n",
    "n = int(input(\"Enter the number: \")\n",
    "\n",
    "if n % 2 ==0:\n",
    "        print(f\"{n} is even\")\n",
    "\n",
    "else : print(f\"{n} is odd\")"
   ]
  },
  {
   "cell_type": "code",
   "execution_count": 7,
   "id": "8bd727d2-2a9b-42c5-af44-0247cdda8c5d",
   "metadata": {},
   "outputs": [
    {
     "name": "stdin",
     "output_type": "stream",
     "text": [
      "Enter a marks:  30\n"
     ]
    },
    {
     "name": "stdout",
     "output_type": "stream",
     "text": [
      "Grade : 'D'\n"
     ]
    }
   ],
   "source": [
    "# Question 2: WAP to grade a number (100-80) Grade A, (80-60) Grade B , (60-40) Grade C and less than 40 Grade D.\n",
    "marks = int(input(\"Enter a marks: \"))\n",
    "\n",
    "if marks >= 80 and marks <= 100:\n",
    "            print(\"Grade : 'A'\")\n",
    "\n",
    "elif marks >= 60 and marks < 80:\n",
    "            print(\"Grade : 'B'\")\n",
    "\n",
    "elif marks >= 40 and marks < 60:\n",
    "            print(\"Grade : 'C'\")\n",
    "\n",
    "else: print(\"Grade : 'D'\")"
   ]
  },
  {
   "cell_type": "code",
   "execution_count": 12,
   "id": "4dab8c8f-e85e-4684-84ed-372fd2a88951",
   "metadata": {},
   "outputs": [
    {
     "name": "stdout",
     "output_type": "stream",
     "text": [
      "['namling']\n"
     ]
    }
   ],
   "source": [
    "lst = []\n",
    "\n",
    "if bool(lst): # if list has elements\n",
    "    print(\"list is full\")\n",
    "\n",
    "else: #(if lst is empty)\n",
    "    lst.append(\"namling\") \n",
    "    print(lst)"
   ]
  },
  {
   "cell_type": "code",
   "execution_count": 14,
   "id": "6c839c09-3701-4027-8d0a-a5ebcd3c16fb",
   "metadata": {},
   "outputs": [
    {
     "name": "stdout",
     "output_type": "stream",
     "text": [
      "['a']\n"
     ]
    }
   ],
   "source": [
    "lst1 = ['a']\n",
    "\n",
    "if lst1 == \"\":\n",
    "    print(\"lst empty\")\n",
    "\n",
    "else: print(lst1)"
   ]
  },
  {
   "cell_type": "code",
   "execution_count": null,
   "id": "3f4d294e-e314-45e4-8b8a-14c86ea4ea1f",
   "metadata": {},
   "outputs": [],
   "source": []
  }
 ],
 "metadata": {
  "kernelspec": {
   "display_name": "Python 3 (ipykernel)",
   "language": "python",
   "name": "python3"
  },
  "language_info": {
   "codemirror_mode": {
    "name": "ipython",
    "version": 3
   },
   "file_extension": ".py",
   "mimetype": "text/x-python",
   "name": "python",
   "nbconvert_exporter": "python",
   "pygments_lexer": "ipython3",
   "version": "3.12.3"
  }
 },
 "nbformat": 4,
 "nbformat_minor": 5
}
