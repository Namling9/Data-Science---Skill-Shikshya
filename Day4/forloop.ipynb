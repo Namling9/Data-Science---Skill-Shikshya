{
 "cells": [
  {
   "cell_type": "code",
   "execution_count": 3,
   "id": "31940634-938c-4c28-9504-04ab494f1069",
   "metadata": {},
   "outputs": [
    {
     "name": "stdout",
     "output_type": "stream",
     "text": [
      "apple\n"
     ]
    }
   ],
   "source": [
    "# loop\n",
    "\n",
    "# For loop\n",
    "\n",
    "fruits = [\"apple\",\"banana\",\"cherry\",\"dragonFruit\"]\n",
    "\n",
    "for fruit in fruits:\n",
    "    if fruit == \"apple\":\n",
    "        print(fruit)\n",
    "        break\n",
    "        "
   ]
  },
  {
   "cell_type": "code",
   "execution_count": 4,
   "id": "2a989115-7d29-46b5-9db1-52111b98c8fe",
   "metadata": {},
   "outputs": [
    {
     "name": "stdout",
     "output_type": "stream",
     "text": [
      "0\n",
      "1\n",
      "2\n",
      "3\n",
      "4\n"
     ]
    }
   ],
   "source": [
    "for i in range(5):\n",
    "    print(i)"
   ]
  },
  {
   "cell_type": "code",
   "execution_count": 11,
   "id": "262944cc-dd2b-44fb-b7ac-ad47fa476ab4",
   "metadata": {},
   "outputs": [
    {
     "name": "stdout",
     "output_type": "stream",
     "text": [
      "Even number: 0\n",
      "Even number: 2\n",
      "Even number: 4\n",
      "Even number: 6\n",
      "Even number: 8\n",
      "Even number: 10\n",
      "Even number: 12\n",
      "Even number: 14\n",
      "Even number: 16\n",
      "Even number: 18\n",
      "Even number: 20\n",
      "Even number: 22\n",
      "Even number: 24\n",
      "Even number: 26\n",
      "Even number: 28\n",
      "Even number: 30\n",
      "Even number: 32\n",
      "Even number: 34\n",
      "Even number: 36\n",
      "Even number: 38\n",
      "Even number: 40\n",
      "Even number: 42\n",
      "Even number: 44\n",
      "Even number: 46\n",
      "Even number: 48\n"
     ]
    }
   ],
   "source": [
    "for i in range(0,50,2):\n",
    "    print(f\"Even number: {i}\")"
   ]
  },
  {
   "cell_type": "code",
   "execution_count": 13,
   "id": "cb56166e-ce95-405d-a2c9-50c468336d2c",
   "metadata": {},
   "outputs": [
    {
     "name": "stdout",
     "output_type": "stream",
     "text": [
      "red apple\n",
      "red banana\n",
      "red cherry\n",
      "big apple\n",
      "big banana\n",
      "big cherry\n",
      "tasty apple\n",
      "tasty banana\n",
      "tasty cherry\n"
     ]
    }
   ],
   "source": [
    "adj= [\"red\",\"big\",\"tasty\"]\n",
    "fruits = ['apple','banana','cherry']\n",
    "\n",
    "for i in adj:\n",
    "    for f in fruits:\n",
    "        print(i,f)"
   ]
  },
  {
   "cell_type": "code",
   "execution_count": 24,
   "id": "befdd510-4a37-42c8-a982-a5ea55f6c051",
   "metadata": {},
   "outputs": [
    {
     "name": "stdin",
     "output_type": "stream",
     "text": [
      "Enter the number:  5\n"
     ]
    },
    {
     "name": "stdout",
     "output_type": "stream",
     "text": [
      "0\n",
      "1\n",
      "2\n",
      "3\n",
      "4\n",
      "5\n",
      "15\n"
     ]
    }
   ],
   "source": [
    "# Question 1 : Write a Program to Calculate the Sum of the First N Natural Numbers: Create a Python program \n",
    "#that asks the user to enter a positive integer, N,and then calculates and prints the sum of the first N natural numbers. Use a for loop.\n",
    "n = int(input(\"Enter the number: \"))\n",
    "sum = 0\n",
    "for i in range(n+1):\n",
    "    print(i)\n",
    "    sum+=i\n",
    "\n",
    "print(sum)\n",
    "    \n",
    "        "
   ]
  },
  {
   "cell_type": "code",
   "execution_count": 25,
   "id": "bb0f467e-af97-4f35-9d42-2f78118bf603",
   "metadata": {},
   "outputs": [
    {
     "name": "stdout",
     "output_type": "stream",
     "text": [
      "*\n",
      "**\n",
      "***\n",
      "****\n",
      "*****\n"
     ]
    }
   ],
   "source": [
    "rows = 5\n",
    "\n",
    "for i in range(1,rows+1):\n",
    "    print(\"*\"*i)"
   ]
  },
  {
   "cell_type": "code",
   "execution_count": 2,
   "id": "31f92f4e-c597-4ba9-aa4d-f45564fd082d",
   "metadata": {},
   "outputs": [
    {
     "name": "stdout",
     "output_type": "stream",
     "text": [
      "*\n",
      "**\n",
      "***\n",
      "****\n",
      "*****\n"
     ]
    }
   ],
   "source": [
    "rows = 5\n",
    "for i in range(1,rows+1):\n",
    "    print( \"*\"*i)"
   ]
  },
  {
   "cell_type": "code",
   "execution_count": 2,
   "id": "f3648690-299e-4694-ae8f-d4e54dc359c8",
   "metadata": {},
   "outputs": [
    {
     "name": "stdin",
     "output_type": "stream",
     "text": [
      "Enter the number:  5\n"
     ]
    },
    {
     "name": "stdout",
     "output_type": "stream",
     "text": [
      "5 x 1 = 5\n",
      "5 x 2 = 10\n",
      "5 x 3 = 15\n",
      "5 x 4 = 20\n",
      "5 x 5 = 25\n",
      "5 x 6 = 30\n",
      "5 x 7 = 35\n",
      "5 x 8 = 40\n",
      "5 x 9 = 45\n",
      "5 x 10 = 50\n"
     ]
    }
   ],
   "source": [
    "# WAP to take a number as an input from user and print the multiplication of that input.\n",
    "\n",
    "n = int(input(\"Enter the number: \"))\n",
    "\n",
    "for i in range(1,11):\n",
    "      print(f\"{n} x {i} = {n*i}\")\n"
   ]
  },
  {
   "cell_type": "code",
   "execution_count": 4,
   "id": "cdab57a5-8e6d-4175-ab82-a5481cb5d66f",
   "metadata": {},
   "outputs": [
    {
     "name": "stdout",
     "output_type": "stream",
     "text": [
      "1\n",
      "12\n",
      "123\n",
      "1234\n",
      "12345\n"
     ]
    }
   ],
   "source": [
    "res = \"\"\n",
    "for i in range(1,6):\n",
    "    res+=str(i)\n",
    "    print(res)\n",
    "\n",
    "    "
   ]
  },
  {
   "cell_type": "code",
   "execution_count": null,
   "id": "cd521992-360d-4513-a86c-30af04a8bbf1",
   "metadata": {},
   "outputs": [],
   "source": []
  }
 ],
 "metadata": {
  "kernelspec": {
   "display_name": "Python 3 (ipykernel)",
   "language": "python",
   "name": "python3"
  },
  "language_info": {
   "codemirror_mode": {
    "name": "ipython",
    "version": 3
   },
   "file_extension": ".py",
   "mimetype": "text/x-python",
   "name": "python",
   "nbconvert_exporter": "python",
   "pygments_lexer": "ipython3",
   "version": "3.12.3"
  }
 },
 "nbformat": 4,
 "nbformat_minor": 5
}
