{
 "cells": [
  {
   "cell_type": "markdown",
   "id": "007fac6e-9b67-4956-981f-1057108e70a9",
   "metadata": {},
   "source": [
    "## Indexing-and-slicing"
   ]
  },
  {
   "cell_type": "code",
   "execution_count": 1,
   "id": "cfd9eef5-f7fb-4fdd-8396-e923b383c429",
   "metadata": {},
   "outputs": [],
   "source": [
    "import numpy as np"
   ]
  },
  {
   "cell_type": "code",
   "execution_count": 2,
   "id": "2cefc7fe-af8e-441e-8f71-a04a06bb7b89",
   "metadata": {},
   "outputs": [
    {
     "data": {
      "text/plain": [
       "array([-3,  6, -6, -5,  7,  2,  0, -3,  0,  6])"
      ]
     },
     "execution_count": 2,
     "metadata": {},
     "output_type": "execute_result"
    }
   ],
   "source": [
    "np.random.randint(-10,10,10)"
   ]
  },
  {
   "cell_type": "code",
   "execution_count": 9,
   "id": "05bca170-7a2b-4548-8605-e028463d6f9f",
   "metadata": {},
   "outputs": [],
   "source": [
    "# 1D Array -> Similar to List/Vector\n",
    "\n",
    "array = np.array([1,5,3,7])"
   ]
  },
  {
   "cell_type": "code",
   "execution_count": 10,
   "id": "e56df59a-fe74-4330-9001-b7bd5315763e",
   "metadata": {},
   "outputs": [
    {
     "data": {
      "text/plain": [
       "np.int64(1)"
      ]
     },
     "execution_count": 10,
     "metadata": {},
     "output_type": "execute_result"
    }
   ],
   "source": [
    "array[0]"
   ]
  },
  {
   "cell_type": "code",
   "execution_count": 11,
   "id": "77d3536e-ac49-4f70-8f63-1ec28ae2935f",
   "metadata": {},
   "outputs": [
    {
     "name": "stdout",
     "output_type": "stream",
     "text": [
      "1\n"
     ]
    }
   ],
   "source": [
    "print(array[0])"
   ]
  },
  {
   "cell_type": "code",
   "execution_count": 12,
   "id": "de8bdb66-843f-43cd-884e-5c14255287e5",
   "metadata": {},
   "outputs": [
    {
     "name": "stdout",
     "output_type": "stream",
     "text": [
      "[5 7]\n"
     ]
    }
   ],
   "source": [
    "print(array[1::2])"
   ]
  },
  {
   "cell_type": "code",
   "execution_count": 31,
   "id": "eabc4274-ad3a-4588-a067-319357e05e7a",
   "metadata": {},
   "outputs": [
    {
     "data": {
      "text/plain": [
       "array([[ 2,  5,  7,  6],\n",
       "       [ 4,  9, 11, 23],\n",
       "       [ 6,  7, 34,  2],\n",
       "       [12,  5,  2,  8]])"
      ]
     },
     "execution_count": 31,
     "metadata": {},
     "output_type": "execute_result"
    }
   ],
   "source": [
    "# 2D -> Similar to matrix \n",
    "list2 = [[2,5,7,6], [4,9,11,23],[6,7,34,2],[12,5,2,8]]\n",
    "array2 = np.array(list2)\n",
    "array2"
   ]
  },
  {
   "cell_type": "code",
   "execution_count": 32,
   "id": "10b8de94-8b7b-4b0a-b552-831eaf1a9a8d",
   "metadata": {},
   "outputs": [
    {
     "data": {
      "text/plain": [
       "np.int64(7)"
      ]
     },
     "execution_count": 32,
     "metadata": {},
     "output_type": "execute_result"
    }
   ],
   "source": [
    "array2[0][2]"
   ]
  },
  {
   "cell_type": "code",
   "execution_count": 41,
   "id": "63c5c22b-2d4a-46e6-a936-21aca96f3ae9",
   "metadata": {},
   "outputs": [
    {
     "data": {
      "text/plain": [
       "array([[ 2,  5,  7],\n",
       "       [ 4,  9, 11],\n",
       "       [ 6,  7, 34]])"
      ]
     },
     "execution_count": 41,
     "metadata": {},
     "output_type": "execute_result"
    }
   ],
   "source": [
    "#array2[rows, columns]\n",
    "\n",
    "array2[0:3, 0:3]"
   ]
  },
  {
   "cell_type": "code",
   "execution_count": 42,
   "id": "18a21c6e-ba63-4dc4-aaa4-6d82938935bf",
   "metadata": {},
   "outputs": [
    {
     "data": {
      "text/plain": [
       "array([[ 2,  5,  7,  6],\n",
       "       [ 6,  7, 34,  2]])"
      ]
     },
     "execution_count": 42,
     "metadata": {},
     "output_type": "execute_result"
    }
   ],
   "source": [
    "array2[::2,]"
   ]
  },
  {
   "cell_type": "code",
   "execution_count": 43,
   "id": "50197eb7-bf81-4283-96d6-1c222a5e7892",
   "metadata": {},
   "outputs": [
    {
     "data": {
      "text/plain": [
       "2"
      ]
     },
     "execution_count": 43,
     "metadata": {},
     "output_type": "execute_result"
    }
   ],
   "source": [
    "array2.ndim"
   ]
  },
  {
   "cell_type": "code",
   "execution_count": 44,
   "id": "eb567498-90c2-4f81-82ed-6bec730885f0",
   "metadata": {},
   "outputs": [
    {
     "data": {
      "text/plain": [
       "array([[ 2,  5,  7,  6],\n",
       "       [ 4,  9, 11, 23],\n",
       "       [ 6,  7, 34,  2],\n",
       "       [12,  5,  2,  8]])"
      ]
     },
     "execution_count": 44,
     "metadata": {},
     "output_type": "execute_result"
    }
   ],
   "source": [
    "array2[::,]"
   ]
  },
  {
   "cell_type": "code",
   "execution_count": 45,
   "id": "867605ed-785b-46ee-9bf4-3bee2b9bc8ea",
   "metadata": {},
   "outputs": [
    {
     "data": {
      "text/plain": [
       "2"
      ]
     },
     "execution_count": 45,
     "metadata": {},
     "output_type": "execute_result"
    }
   ],
   "source": [
    "array2.ndim"
   ]
  },
  {
   "cell_type": "code",
   "execution_count": 46,
   "id": "1bde18aa-549b-491f-9d45-3f5c81b1f7f3",
   "metadata": {},
   "outputs": [
    {
     "data": {
      "text/plain": [
       "(4, 4)"
      ]
     },
     "execution_count": 46,
     "metadata": {},
     "output_type": "execute_result"
    }
   ],
   "source": [
    "array2.shape"
   ]
  },
  {
   "cell_type": "code",
   "execution_count": 47,
   "id": "dad6fbb3-b0d3-45c6-b9c2-b04394399298",
   "metadata": {},
   "outputs": [],
   "source": [
    "random_array = np.random.randint(10,50, size = (2,3,4))"
   ]
  },
  {
   "cell_type": "code",
   "execution_count": 48,
   "id": "0a9ff5fb-47d9-4bca-931b-5c07f8437c8c",
   "metadata": {},
   "outputs": [
    {
     "data": {
      "text/plain": [
       "array([[[40, 35, 30, 12],\n",
       "        [25, 31, 11, 35],\n",
       "        [36, 17, 34, 25]],\n",
       "\n",
       "       [[49, 30, 49, 15],\n",
       "        [38, 16, 23, 11],\n",
       "        [28, 33, 42, 11]]])"
      ]
     },
     "execution_count": 48,
     "metadata": {},
     "output_type": "execute_result"
    }
   ],
   "source": [
    "# Indexing \n",
    "random_array"
   ]
  },
  {
   "cell_type": "code",
   "execution_count": 51,
   "id": "ffb2d0ce-bec3-4d7a-a1b1-d562978e6103",
   "metadata": {},
   "outputs": [
    {
     "name": "stdout",
     "output_type": "stream",
     "text": [
      "34\n"
     ]
    }
   ],
   "source": [
    "print(random_array[0, 2, 2])"
   ]
  },
  {
   "cell_type": "code",
   "execution_count": 54,
   "id": "aa15bcdc-a1b1-4677-a195-7eb110db3f8b",
   "metadata": {},
   "outputs": [
    {
     "name": "stdout",
     "output_type": "stream",
     "text": [
      "[[40 35]\n",
      " [25 31]]\n"
     ]
    }
   ],
   "source": [
    "print(random_array[0, :2, :2])"
   ]
  },
  {
   "cell_type": "code",
   "execution_count": 55,
   "id": "d5d8363f-9719-4875-a729-e64b326477f1",
   "metadata": {},
   "outputs": [
    {
     "name": "stdout",
     "output_type": "stream",
     "text": [
      "[[[40 35 30 12]\n",
      "  [25 31 11 35]\n",
      "  [36 17 34 25]]]\n"
     ]
    }
   ],
   "source": [
    "print(random_array[::2, :3, :4])"
   ]
  },
  {
   "cell_type": "code",
   "execution_count": 56,
   "id": "40966142-3de7-4ffd-b305-00b0a8faea4c",
   "metadata": {},
   "outputs": [
    {
     "data": {
      "text/plain": [
       "array([[[40, 35, 30, 12],\n",
       "        [25, 31, 11, 35],\n",
       "        [36, 17, 34, 25]],\n",
       "\n",
       "       [[49, 30, 49, 15],\n",
       "        [38, 16, 23, 11],\n",
       "        [28, 33, 42, 11]]])"
      ]
     },
     "execution_count": 56,
     "metadata": {},
     "output_type": "execute_result"
    }
   ],
   "source": [
    "random_array"
   ]
  },
  {
   "cell_type": "code",
   "execution_count": 64,
   "id": "827c336a-0b12-4c11-8e56-57e3882e6591",
   "metadata": {},
   "outputs": [
    {
     "name": "stdout",
     "output_type": "stream",
     "text": [
      "[[49 30 49 15]]\n"
     ]
    }
   ],
   "source": [
    "print(random_array[-1, :-2, :4])"
   ]
  },
  {
   "cell_type": "code",
   "execution_count": 65,
   "id": "a7ba7432-7996-4df9-a4f6-be3561d3ff89",
   "metadata": {},
   "outputs": [],
   "source": [
    "random_array1 = np.random.randint(low = 10, high = 50, size = (10,16,8))"
   ]
  },
  {
   "cell_type": "code",
   "execution_count": 66,
   "id": "917411a8-a768-4cf1-b564-e9a7d9dcb464",
   "metadata": {},
   "outputs": [
    {
     "data": {
      "text/plain": [
       "array([[[12, 36, 23, ..., 11, 28, 41],\n",
       "        [24, 37, 16, ..., 42, 22, 20],\n",
       "        [26, 40, 11, ..., 31, 32, 19],\n",
       "        ...,\n",
       "        [17, 14, 29, ..., 30, 34, 14],\n",
       "        [29, 48, 41, ..., 17, 16, 32],\n",
       "        [49, 24, 45, ..., 41, 29, 18]],\n",
       "\n",
       "       [[44, 42, 15, ..., 46, 42, 26],\n",
       "        [43, 43, 32, ..., 26, 40, 45],\n",
       "        [39, 29, 31, ..., 49, 40, 31],\n",
       "        ...,\n",
       "        [41, 34, 21, ..., 27, 43, 26],\n",
       "        [30, 42, 12, ..., 37, 11, 35],\n",
       "        [47, 10, 17, ..., 30, 29, 13]],\n",
       "\n",
       "       [[16, 13, 39, ..., 23, 29, 37],\n",
       "        [40, 25, 41, ..., 40, 20, 13],\n",
       "        [27, 29, 45, ..., 37, 17, 12],\n",
       "        ...,\n",
       "        [32, 14, 44, ..., 20, 17, 18],\n",
       "        [27, 11, 45, ..., 48, 43, 15],\n",
       "        [11, 21, 13, ..., 34, 17, 47]],\n",
       "\n",
       "       ...,\n",
       "\n",
       "       [[17, 16, 41, ..., 29, 14, 35],\n",
       "        [26, 48, 22, ..., 43, 10, 15],\n",
       "        [41, 46, 46, ..., 26, 27, 25],\n",
       "        ...,\n",
       "        [30, 43, 43, ..., 13, 23, 35],\n",
       "        [19, 20, 30, ..., 20, 28, 34],\n",
       "        [30, 47, 16, ..., 30, 40, 28]],\n",
       "\n",
       "       [[12, 12, 10, ..., 17, 39, 45],\n",
       "        [38, 27, 35, ..., 34, 28, 42],\n",
       "        [10, 44, 19, ..., 44, 23, 29],\n",
       "        ...,\n",
       "        [25, 18, 12, ..., 30, 14, 28],\n",
       "        [15, 11, 43, ..., 42, 25, 44],\n",
       "        [37, 17, 24, ..., 11, 17, 17]],\n",
       "\n",
       "       [[10, 40, 48, ..., 42, 33, 22],\n",
       "        [28, 40, 24, ..., 13, 24, 42],\n",
       "        [28, 48, 30, ..., 41, 18, 40],\n",
       "        ...,\n",
       "        [22, 41, 46, ..., 26, 41, 33],\n",
       "        [44, 43, 40, ..., 17, 16, 20],\n",
       "        [28, 49, 43, ..., 36, 21, 37]]])"
      ]
     },
     "execution_count": 66,
     "metadata": {},
     "output_type": "execute_result"
    }
   ],
   "source": [
    "random_array1"
   ]
  },
  {
   "cell_type": "code",
   "execution_count": 67,
   "id": "ddfd2290-92d0-4fe3-a074-aba15bc797e9",
   "metadata": {},
   "outputs": [
    {
     "name": "stdout",
     "output_type": "stream",
     "text": [
      "[[30 31 20 30 37 47 37 38]\n",
      " [32 21 36 15 22 34 10 44]\n",
      " [36 12 47 20 37 39 42 33]\n",
      " [35 23 14 21 48 17 20 31]]\n"
     ]
    }
   ],
   "source": [
    "print(random_array1[4, :4, :9])"
   ]
  },
  {
   "cell_type": "code",
   "execution_count": 68,
   "id": "ac83be01-c201-45ca-8a2f-c4b3b51a2573",
   "metadata": {},
   "outputs": [
    {
     "name": "stdout",
     "output_type": "stream",
     "text": [
      "[[37 38]\n",
      " [10 44]\n",
      " [42 33]\n",
      " [20 31]]\n"
     ]
    }
   ],
   "source": [
    "print(random_array1[4, :4, -2: ])"
   ]
  },
  {
   "cell_type": "markdown",
   "id": "c0af5ad2-80f0-48bc-942a-98b4e367912d",
   "metadata": {},
   "source": [
    "## Boolean or Mask Indexing"
   ]
  },
  {
   "cell_type": "code",
   "execution_count": 71,
   "id": "c7fcab1e-a326-4913-ba07-27bdc7875772",
   "metadata": {},
   "outputs": [
    {
     "name": "stdout",
     "output_type": "stream",
     "text": [
      "[[1 2]\n",
      " [3 4]\n",
      " [5 6]]\n"
     ]
    }
   ],
   "source": [
    "a = np.array([[1,2], [3,4], [5,6]])\n",
    "print(a)"
   ]
  },
  {
   "cell_type": "code",
   "execution_count": 74,
   "id": "1173b2af-406e-40e8-afd7-0cee96e008b9",
   "metadata": {},
   "outputs": [
    {
     "data": {
      "text/plain": [
       "array([[False, False],\n",
       "       [False,  True],\n",
       "       [False, False]])"
      ]
     },
     "execution_count": 74,
     "metadata": {},
     "output_type": "execute_result"
    }
   ],
   "source": [
    "a == 4"
   ]
  },
  {
   "cell_type": "code",
   "execution_count": 77,
   "id": "41d5781b-6801-45b7-a9f6-f33236703a6f",
   "metadata": {},
   "outputs": [
    {
     "name": "stdout",
     "output_type": "stream",
     "text": [
      "[4]\n"
     ]
    }
   ],
   "source": [
    "mask = a ==4\n",
    "print(a[mask])"
   ]
  },
  {
   "cell_type": "code",
   "execution_count": 80,
   "id": "608a6021-775b-4339-a4a9-dd53824c3b12",
   "metadata": {},
   "outputs": [
    {
     "data": {
      "text/plain": [
       "array([[ True,  True],\n",
       "       [ True, False],\n",
       "       [False, False]])"
      ]
     },
     "execution_count": 80,
     "metadata": {},
     "output_type": "execute_result"
    }
   ],
   "source": [
    "mask = a < 4\n",
    "mask"
   ]
  },
  {
   "cell_type": "code",
   "execution_count": 79,
   "id": "b0aea1a8-82d7-4d03-bf54-c21fd445fcba",
   "metadata": {},
   "outputs": [
    {
     "name": "stdout",
     "output_type": "stream",
     "text": [
      "[1 2 3]\n"
     ]
    }
   ],
   "source": [
    "print(a[mask])"
   ]
  },
  {
   "cell_type": "code",
   "execution_count": 86,
   "id": "c74c5883-48f4-46e7-aaab-ce239bd769dc",
   "metadata": {},
   "outputs": [
    {
     "name": "stdout",
     "output_type": "stream",
     "text": [
      "[[1 2]\n",
      " [5 6]]\n"
     ]
    }
   ],
   "source": [
    "a = np.array([[1,2], [3,4], [5,6]])\n",
    "mask = np.array([True, False, True])\n",
    "\n",
    "print(a[mask])"
   ]
  },
  {
   "cell_type": "code",
   "execution_count": 87,
   "id": "77e669cf-1ceb-4802-b8b5-e4921f276785",
   "metadata": {},
   "outputs": [
    {
     "data": {
      "text/plain": [
       "array([ True, False,  True])"
      ]
     },
     "execution_count": 87,
     "metadata": {},
     "output_type": "execute_result"
    }
   ],
   "source": [
    "mask"
   ]
  },
  {
   "cell_type": "code",
   "execution_count": 88,
   "id": "f02112dc-a320-4ef2-b35a-9ac743b4d52e",
   "metadata": {},
   "outputs": [
    {
     "data": {
      "text/plain": [
       "array([[[49, 43, 30],\n",
       "        [38, 17, 23]],\n",
       "\n",
       "       [[14, 28, 44],\n",
       "        [29, 13, 46]],\n",
       "\n",
       "       [[42, 10, 13],\n",
       "        [38, 13, 12]],\n",
       "\n",
       "       [[21, 10, 48],\n",
       "        [43, 47, 40]],\n",
       "\n",
       "       [[33, 44, 33],\n",
       "        [49, 42, 18]]])"
      ]
     },
     "execution_count": 88,
     "metadata": {},
     "output_type": "execute_result"
    }
   ],
   "source": [
    "# Propertiese of NumPy\n",
    "\n",
    "# Shape\n",
    "\n",
    "arr = np.random.randint(low = 10, high = 50, size = (5,2,3))\n",
    "arr"
   ]
  },
  {
   "cell_type": "code",
   "execution_count": 89,
   "id": "6fac5b56-da6d-488a-b455-fdb1e0c7fae5",
   "metadata": {},
   "outputs": [
    {
     "data": {
      "text/plain": [
       "(5, 2, 3)"
      ]
     },
     "execution_count": 89,
     "metadata": {},
     "output_type": "execute_result"
    }
   ],
   "source": [
    "arr.shape"
   ]
  },
  {
   "cell_type": "code",
   "execution_count": 90,
   "id": "4354ec23-a2cd-45f7-8f17-c38d9b5b1460",
   "metadata": {},
   "outputs": [
    {
     "data": {
      "text/plain": [
       "dtype('int64')"
      ]
     },
     "execution_count": 90,
     "metadata": {},
     "output_type": "execute_result"
    }
   ],
   "source": [
    "arr.dtype"
   ]
  },
  {
   "cell_type": "code",
   "execution_count": 91,
   "id": "f1271702-7d71-4fd4-9ffc-d8e04ba5cb7c",
   "metadata": {},
   "outputs": [
    {
     "data": {
      "text/plain": [
       "3"
      ]
     },
     "execution_count": 91,
     "metadata": {},
     "output_type": "execute_result"
    }
   ],
   "source": [
    "arr.ndim # (shows the dimension)"
   ]
  },
  {
   "cell_type": "code",
   "execution_count": 92,
   "id": "157478b3-75cd-4a91-925a-9da566bb2005",
   "metadata": {},
   "outputs": [
    {
     "data": {
      "text/plain": [
       "array([[[49, 14, 42, 21, 33],\n",
       "        [38, 29, 38, 43, 49]],\n",
       "\n",
       "       [[43, 28, 10, 10, 44],\n",
       "        [17, 13, 13, 47, 42]],\n",
       "\n",
       "       [[30, 44, 13, 48, 33],\n",
       "        [23, 46, 12, 40, 18]]])"
      ]
     },
     "execution_count": 92,
     "metadata": {},
     "output_type": "execute_result"
    }
   ],
   "source": [
    "# Transpose\n",
    "\n",
    "arr.T"
   ]
  },
  {
   "cell_type": "code",
   "execution_count": 94,
   "id": "544da09a-f74c-4941-9579-09942f7ce2ac",
   "metadata": {},
   "outputs": [
    {
     "data": {
      "text/plain": [
       "(3, 2, 5)"
      ]
     },
     "execution_count": 94,
     "metadata": {},
     "output_type": "execute_result"
    }
   ],
   "source": [
    "arr.T.shape"
   ]
  },
  {
   "cell_type": "code",
   "execution_count": null,
   "id": "d1364631-06f1-4af5-bd88-233de98bbf15",
   "metadata": {},
   "outputs": [],
   "source": []
  },
  {
   "cell_type": "markdown",
   "id": "50d5f6fb-48a0-4c88-8b90-fed1aa1d35f4",
   "metadata": {},
   "source": [
    "## Method of NumPy"
   ]
  },
  {
   "cell_type": "code",
   "execution_count": 95,
   "id": "401cd12e-3023-41d9-ba69-d00590ba5c50",
   "metadata": {},
   "outputs": [
    {
     "data": {
      "text/plain": [
       "array([[[49, 43, 30],\n",
       "        [38, 17, 23]],\n",
       "\n",
       "       [[14, 28, 44],\n",
       "        [29, 13, 46]],\n",
       "\n",
       "       [[42, 10, 13],\n",
       "        [38, 13, 12]],\n",
       "\n",
       "       [[21, 10, 48],\n",
       "        [43, 47, 40]],\n",
       "\n",
       "       [[33, 44, 33],\n",
       "        [49, 42, 18]]])"
      ]
     },
     "execution_count": 95,
     "metadata": {},
     "output_type": "execute_result"
    }
   ],
   "source": [
    "# reshape\n",
    "\n",
    "arr.reshape(5,2,3)"
   ]
  },
  {
   "cell_type": "code",
   "execution_count": 104,
   "id": "a10d93c7-6422-465a-9917-7245ab923170",
   "metadata": {},
   "outputs": [
    {
     "data": {
      "text/plain": [
       "array([[[49, 43],\n",
       "        [30, 38],\n",
       "        [17, 23],\n",
       "        [14, 28],\n",
       "        [44, 29]],\n",
       "\n",
       "       [[13, 46],\n",
       "        [42, 10],\n",
       "        [13, 38],\n",
       "        [13, 12],\n",
       "        [21, 10]],\n",
       "\n",
       "       [[48, 43],\n",
       "        [47, 40],\n",
       "        [33, 44],\n",
       "        [33, 49],\n",
       "        [42, 18]]])"
      ]
     },
     "execution_count": 104,
     "metadata": {},
     "output_type": "execute_result"
    }
   ],
   "source": [
    "new_arr = arr.reshape(3,5,2)\n",
    "new_arr"
   ]
  },
  {
   "cell_type": "code",
   "execution_count": 105,
   "id": "7995a805-9f9a-452a-804a-8ac3cfefd1b0",
   "metadata": {},
   "outputs": [
    {
     "data": {
      "text/plain": [
       "(3, 5, 2)"
      ]
     },
     "execution_count": 105,
     "metadata": {},
     "output_type": "execute_result"
    }
   ],
   "source": [
    "new_arr.shape"
   ]
  },
  {
   "cell_type": "code",
   "execution_count": 111,
   "id": "4c5d17d7-97c7-48f0-996c-98561a199495",
   "metadata": {},
   "outputs": [
    {
     "data": {
      "text/plain": [
       "array([49, 43, 30, 38, 17, 23, 14, 28, 44, 29, 13, 46, 42, 10, 13, 38, 13,\n",
       "       12, 21, 10, 48, 43, 47, 40, 33, 44, 33, 49, 42, 18])"
      ]
     },
     "execution_count": 111,
     "metadata": {},
     "output_type": "execute_result"
    }
   ],
   "source": [
    "# ravel()\n",
    "new_arr.ravel() # Throws all elements of dimension in 1 dimension or one array"
   ]
  },
  {
   "cell_type": "code",
   "execution_count": 110,
   "id": "f9fbdee0-beb2-4e25-8a93-218a32520480",
   "metadata": {},
   "outputs": [
    {
     "data": {
      "text/plain": [
       "(3, 5, 2)"
      ]
     },
     "execution_count": 110,
     "metadata": {},
     "output_type": "execute_result"
    }
   ],
   "source": [
    "new_arr.shape"
   ]
  },
  {
   "cell_type": "code",
   "execution_count": 114,
   "id": "ee29fae7-3e17-48d6-b329-95afb61b28b6",
   "metadata": {},
   "outputs": [
    {
     "data": {
      "text/plain": [
       "array([49, 43, 30, 38, 17, 23, 14, 28, 44, 29, 13, 46, 42, 10, 13, 38, 13,\n",
       "       12, 21, 10, 48, 43, 47, 40, 33, 44, 33, 49, 42, 18])"
      ]
     },
     "execution_count": 114,
     "metadata": {},
     "output_type": "execute_result"
    }
   ],
   "source": [
    "# flatten()\n",
    "\n",
    "flat_arr = new_arr.flatten()\n",
    "flat_arr"
   ]
  },
  {
   "cell_type": "code",
   "execution_count": 115,
   "id": "5388c5f1-2104-4b20-a7ff-3c92acf204da",
   "metadata": {},
   "outputs": [
    {
     "data": {
      "text/plain": [
       "(30,)"
      ]
     },
     "execution_count": 115,
     "metadata": {},
     "output_type": "execute_result"
    }
   ],
   "source": [
    "flat_arr.shape"
   ]
  },
  {
   "cell_type": "code",
   "execution_count": 118,
   "id": "6754981b-8eea-4af3-bb99-cb4124711664",
   "metadata": {},
   "outputs": [
    {
     "data": {
      "text/plain": [
       "(5, 2, 3)"
      ]
     },
     "execution_count": 118,
     "metadata": {},
     "output_type": "execute_result"
    }
   ],
   "source": [
    "arr.shape"
   ]
  },
  {
   "cell_type": "code",
   "execution_count": 120,
   "id": "4ae8eb0e-b35a-49c3-a747-93bbdfd594ef",
   "metadata": {},
   "outputs": [
    {
     "data": {
      "text/plain": [
       "array([[87, 60, 53],\n",
       "       [43, 41, 90],\n",
       "       [80, 23, 25],\n",
       "       [64, 57, 88],\n",
       "       [82, 86, 51]])"
      ]
     },
     "execution_count": 120,
     "metadata": {},
     "output_type": "execute_result"
    }
   ],
   "source": [
    "# sum()\n",
    "\n",
    "arr.sum(axis = 1)  # 1 means row and 0 means column in axis"
   ]
  },
  {
   "cell_type": "code",
   "execution_count": 117,
   "id": "0535268c-2617-4f87-9af1-972d05e7c9e9",
   "metadata": {},
   "outputs": [
    {
     "data": {
      "text/plain": [
       "array([[[49, 43, 30],\n",
       "        [38, 17, 23]],\n",
       "\n",
       "       [[14, 28, 44],\n",
       "        [29, 13, 46]],\n",
       "\n",
       "       [[42, 10, 13],\n",
       "        [38, 13, 12]],\n",
       "\n",
       "       [[21, 10, 48],\n",
       "        [43, 47, 40]],\n",
       "\n",
       "       [[33, 44, 33],\n",
       "        [49, 42, 18]]])"
      ]
     },
     "execution_count": 117,
     "metadata": {},
     "output_type": "execute_result"
    }
   ],
   "source": [
    "arr"
   ]
  },
  {
   "cell_type": "code",
   "execution_count": 119,
   "id": "ee605c27-fb62-471b-80d9-77263128fd51",
   "metadata": {},
   "outputs": [
    {
     "data": {
      "text/plain": [
       "array([[159, 135, 168],\n",
       "       [197, 132, 139]])"
      ]
     },
     "execution_count": 119,
     "metadata": {},
     "output_type": "execute_result"
    }
   ],
   "source": [
    "arr.sum(axis = 0)"
   ]
  },
  {
   "cell_type": "code",
   "execution_count": 121,
   "id": "f114d003-57a9-4d90-960d-62f2a82010d5",
   "metadata": {},
   "outputs": [
    {
     "data": {
      "text/plain": [
       "array([[1862,  731,  690],\n",
       "       [ 406,  364, 2024],\n",
       "       [1596,  130,  156],\n",
       "       [ 903,  470, 1920],\n",
       "       [1617, 1848,  594]])"
      ]
     },
     "execution_count": 121,
     "metadata": {},
     "output_type": "execute_result"
    }
   ],
   "source": [
    "\n",
    "arr.prod(axis = 1)"
   ]
  },
  {
   "cell_type": "code",
   "execution_count": 122,
   "id": "00717b3e-0aae-446e-a9b8-75e184c8e404",
   "metadata": {},
   "outputs": [
    {
     "data": {
      "text/plain": [
       "np.int64(0)"
      ]
     },
     "execution_count": 122,
     "metadata": {},
     "output_type": "execute_result"
    }
   ],
   "source": [
    "arr.argmax()"
   ]
  },
  {
   "cell_type": "code",
   "execution_count": null,
   "id": "0078dad0-9b01-4ddb-aca5-594faa962af1",
   "metadata": {},
   "outputs": [],
   "source": []
  }
 ],
 "metadata": {
  "kernelspec": {
   "display_name": "Python 3 (ipykernel)",
   "language": "python",
   "name": "python3"
  },
  "language_info": {
   "codemirror_mode": {
    "name": "ipython",
    "version": 3
   },
   "file_extension": ".py",
   "mimetype": "text/x-python",
   "name": "python",
   "nbconvert_exporter": "python",
   "pygments_lexer": "ipython3",
   "version": "3.12.3"
  }
 },
 "nbformat": 4,
 "nbformat_minor": 5
}
