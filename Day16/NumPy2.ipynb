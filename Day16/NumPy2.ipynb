{
 "cells": [
  {
   "cell_type": "markdown",
   "id": "007fac6e-9b67-4956-981f-1057108e70a9",
   "metadata": {},
   "source": [
    "## Indexing-and-slicing"
   ]
  },
  {
   "cell_type": "code",
   "execution_count": 3,
   "id": "cfd9eef5-f7fb-4fdd-8396-e923b383c429",
   "metadata": {},
   "outputs": [],
   "source": [
    "import numpy as np"
   ]
  },
  {
   "cell_type": "code",
   "execution_count": 4,
   "id": "2cefc7fe-af8e-441e-8f71-a04a06bb7b89",
   "metadata": {},
   "outputs": [
    {
     "data": {
      "text/plain": [
       "array([  7, -10,  -3,   7,  -6,   2,   3,   2,   7,   2])"
      ]
     },
     "execution_count": 4,
     "metadata": {},
     "output_type": "execute_result"
    }
   ],
   "source": [
    "np.random.randint(-10,10,10)"
   ]
  },
  {
   "cell_type": "code",
   "execution_count": 5,
   "id": "05bca170-7a2b-4548-8605-e028463d6f9f",
   "metadata": {},
   "outputs": [],
   "source": [
    "# 1D Array -> Similar to List/Vector\n",
    "\n",
    "array = np.array([1,5,3,7])"
   ]
  },
  {
   "cell_type": "code",
   "execution_count": 6,
   "id": "e56df59a-fe74-4330-9001-b7bd5315763e",
   "metadata": {},
   "outputs": [
    {
     "data": {
      "text/plain": [
       "np.int64(1)"
      ]
     },
     "execution_count": 6,
     "metadata": {},
     "output_type": "execute_result"
    }
   ],
   "source": [
    "array[0]"
   ]
  },
  {
   "cell_type": "code",
   "execution_count": 7,
   "id": "77d3536e-ac49-4f70-8f63-1ec28ae2935f",
   "metadata": {},
   "outputs": [
    {
     "name": "stdout",
     "output_type": "stream",
     "text": [
      "1\n"
     ]
    }
   ],
   "source": [
    "print(array[0])"
   ]
  },
  {
   "cell_type": "code",
   "execution_count": 8,
   "id": "de8bdb66-843f-43cd-884e-5c14255287e5",
   "metadata": {},
   "outputs": [
    {
     "name": "stdout",
     "output_type": "stream",
     "text": [
      "[5 7]\n"
     ]
    }
   ],
   "source": [
    "print(array[1::2])"
   ]
  },
  {
   "cell_type": "code",
   "execution_count": 9,
   "id": "eabc4274-ad3a-4588-a067-319357e05e7a",
   "metadata": {},
   "outputs": [
    {
     "data": {
      "text/plain": [
       "array([[ 2,  5,  7,  6],\n",
       "       [ 4,  9, 11, 23],\n",
       "       [ 6,  7, 34,  2],\n",
       "       [12,  5,  2,  8]])"
      ]
     },
     "execution_count": 9,
     "metadata": {},
     "output_type": "execute_result"
    }
   ],
   "source": [
    "# 2D -> Similar to matrix \n",
    "list2 = [[2,5,7,6], [4,9,11,23],[6,7,34,2],[12,5,2,8]]\n",
    "array2 = np.array(list2)\n",
    "array2"
   ]
  },
  {
   "cell_type": "code",
   "execution_count": 10,
   "id": "10b8de94-8b7b-4b0a-b552-831eaf1a9a8d",
   "metadata": {},
   "outputs": [
    {
     "data": {
      "text/plain": [
       "np.int64(7)"
      ]
     },
     "execution_count": 10,
     "metadata": {},
     "output_type": "execute_result"
    }
   ],
   "source": [
    "array2[0][2]"
   ]
  },
  {
   "cell_type": "code",
   "execution_count": 11,
   "id": "63c5c22b-2d4a-46e6-a936-21aca96f3ae9",
   "metadata": {},
   "outputs": [
    {
     "data": {
      "text/plain": [
       "array([[ 2,  5,  7],\n",
       "       [ 4,  9, 11],\n",
       "       [ 6,  7, 34]])"
      ]
     },
     "execution_count": 11,
     "metadata": {},
     "output_type": "execute_result"
    }
   ],
   "source": [
    "#array2[rows, columns]\n",
    "\n",
    "array2[0:3, 0:3]"
   ]
  },
  {
   "cell_type": "code",
   "execution_count": 12,
   "id": "18a21c6e-ba63-4dc4-aaa4-6d82938935bf",
   "metadata": {},
   "outputs": [
    {
     "data": {
      "text/plain": [
       "array([[ 2,  5,  7,  6],\n",
       "       [ 6,  7, 34,  2]])"
      ]
     },
     "execution_count": 12,
     "metadata": {},
     "output_type": "execute_result"
    }
   ],
   "source": [
    "array2[::2,]"
   ]
  },
  {
   "cell_type": "code",
   "execution_count": 13,
   "id": "50197eb7-bf81-4283-96d6-1c222a5e7892",
   "metadata": {},
   "outputs": [
    {
     "data": {
      "text/plain": [
       "2"
      ]
     },
     "execution_count": 13,
     "metadata": {},
     "output_type": "execute_result"
    }
   ],
   "source": [
    "array2.ndim"
   ]
  },
  {
   "cell_type": "code",
   "execution_count": 14,
   "id": "eb567498-90c2-4f81-82ed-6bec730885f0",
   "metadata": {},
   "outputs": [
    {
     "data": {
      "text/plain": [
       "array([[ 2,  5,  7,  6],\n",
       "       [ 4,  9, 11, 23],\n",
       "       [ 6,  7, 34,  2],\n",
       "       [12,  5,  2,  8]])"
      ]
     },
     "execution_count": 14,
     "metadata": {},
     "output_type": "execute_result"
    }
   ],
   "source": [
    "array2[::,]"
   ]
  },
  {
   "cell_type": "code",
   "execution_count": 15,
   "id": "867605ed-785b-46ee-9bf4-3bee2b9bc8ea",
   "metadata": {},
   "outputs": [
    {
     "data": {
      "text/plain": [
       "2"
      ]
     },
     "execution_count": 15,
     "metadata": {},
     "output_type": "execute_result"
    }
   ],
   "source": [
    "array2.ndim"
   ]
  },
  {
   "cell_type": "code",
   "execution_count": 16,
   "id": "1bde18aa-549b-491f-9d45-3f5c81b1f7f3",
   "metadata": {},
   "outputs": [
    {
     "data": {
      "text/plain": [
       "(4, 4)"
      ]
     },
     "execution_count": 16,
     "metadata": {},
     "output_type": "execute_result"
    }
   ],
   "source": [
    "array2.shape"
   ]
  },
  {
   "cell_type": "code",
   "execution_count": 17,
   "id": "dad6fbb3-b0d3-45c6-b9c2-b04394399298",
   "metadata": {},
   "outputs": [],
   "source": [
    "random_array = np.random.randint(10,50, size = (2,3,4))"
   ]
  },
  {
   "cell_type": "code",
   "execution_count": 18,
   "id": "0a9ff5fb-47d9-4bca-931b-5c07f8437c8c",
   "metadata": {},
   "outputs": [
    {
     "data": {
      "text/plain": [
       "array([[[35, 44, 48, 28],\n",
       "        [40, 46, 20, 28],\n",
       "        [34, 21, 34, 37]],\n",
       "\n",
       "       [[17, 17, 24, 33],\n",
       "        [42, 17, 13, 14],\n",
       "        [33, 48, 44, 28]]])"
      ]
     },
     "execution_count": 18,
     "metadata": {},
     "output_type": "execute_result"
    }
   ],
   "source": [
    "# Indexing \n",
    "random_array"
   ]
  },
  {
   "cell_type": "code",
   "execution_count": 19,
   "id": "ffb2d0ce-bec3-4d7a-a1b1-d562978e6103",
   "metadata": {},
   "outputs": [
    {
     "name": "stdout",
     "output_type": "stream",
     "text": [
      "34\n"
     ]
    }
   ],
   "source": [
    "print(random_array[0, 2, 2])"
   ]
  },
  {
   "cell_type": "code",
   "execution_count": 20,
   "id": "aa15bcdc-a1b1-4677-a195-7eb110db3f8b",
   "metadata": {},
   "outputs": [
    {
     "name": "stdout",
     "output_type": "stream",
     "text": [
      "[[35 44]\n",
      " [40 46]]\n"
     ]
    }
   ],
   "source": [
    "print(random_array[0, :2, :2])"
   ]
  },
  {
   "cell_type": "code",
   "execution_count": 21,
   "id": "d5d8363f-9719-4875-a729-e64b326477f1",
   "metadata": {},
   "outputs": [
    {
     "name": "stdout",
     "output_type": "stream",
     "text": [
      "[[[35 44 48 28]\n",
      "  [40 46 20 28]\n",
      "  [34 21 34 37]]]\n"
     ]
    }
   ],
   "source": [
    "print(random_array[::2, :3, :4])"
   ]
  },
  {
   "cell_type": "code",
   "execution_count": 22,
   "id": "40966142-3de7-4ffd-b305-00b0a8faea4c",
   "metadata": {},
   "outputs": [
    {
     "data": {
      "text/plain": [
       "array([[[35, 44, 48, 28],\n",
       "        [40, 46, 20, 28],\n",
       "        [34, 21, 34, 37]],\n",
       "\n",
       "       [[17, 17, 24, 33],\n",
       "        [42, 17, 13, 14],\n",
       "        [33, 48, 44, 28]]])"
      ]
     },
     "execution_count": 22,
     "metadata": {},
     "output_type": "execute_result"
    }
   ],
   "source": [
    "random_array"
   ]
  },
  {
   "cell_type": "code",
   "execution_count": 23,
   "id": "827c336a-0b12-4c11-8e56-57e3882e6591",
   "metadata": {},
   "outputs": [
    {
     "name": "stdout",
     "output_type": "stream",
     "text": [
      "[[17 17 24 33]]\n"
     ]
    }
   ],
   "source": [
    "print(random_array[-1, :-2, :4])"
   ]
  },
  {
   "cell_type": "code",
   "execution_count": 24,
   "id": "a7ba7432-7996-4df9-a4f6-be3561d3ff89",
   "metadata": {},
   "outputs": [],
   "source": [
    "random_array1 = np.random.randint(low = 10, high = 50, size = (10,16,8))"
   ]
  },
  {
   "cell_type": "code",
   "execution_count": 25,
   "id": "917411a8-a768-4cf1-b564-e9a7d9dcb464",
   "metadata": {},
   "outputs": [
    {
     "data": {
      "text/plain": [
       "array([[[30, 37, 10, ..., 41, 31, 22],\n",
       "        [47, 13, 20, ..., 18, 25, 23],\n",
       "        [20, 45, 19, ..., 33, 20, 43],\n",
       "        ...,\n",
       "        [34, 44, 25, ..., 14, 44, 29],\n",
       "        [18, 39, 47, ..., 32, 12, 41],\n",
       "        [19, 33, 11, ..., 36, 21, 33]],\n",
       "\n",
       "       [[39, 10, 30, ..., 33, 16, 36],\n",
       "        [32, 10, 24, ..., 40, 30, 15],\n",
       "        [14, 36, 23, ..., 20, 14, 35],\n",
       "        ...,\n",
       "        [25, 48, 37, ..., 22, 43, 20],\n",
       "        [33, 20, 46, ..., 17, 23, 23],\n",
       "        [21, 34, 13, ..., 46, 20, 46]],\n",
       "\n",
       "       [[12, 49, 32, ..., 36, 19, 33],\n",
       "        [19, 25, 48, ..., 42, 46, 25],\n",
       "        [49, 13, 31, ..., 21, 31, 26],\n",
       "        ...,\n",
       "        [48, 20, 16, ..., 42, 44, 25],\n",
       "        [26, 13, 20, ..., 39, 34, 34],\n",
       "        [33, 16, 38, ..., 17, 48, 48]],\n",
       "\n",
       "       ...,\n",
       "\n",
       "       [[13, 43, 15, ..., 44, 36, 30],\n",
       "        [46, 29, 17, ..., 18, 10, 26],\n",
       "        [48, 23, 34, ..., 27, 42, 34],\n",
       "        ...,\n",
       "        [13, 37, 28, ..., 45, 23, 15],\n",
       "        [28, 44, 35, ..., 44, 22, 23],\n",
       "        [16, 21, 37, ..., 14, 46, 17]],\n",
       "\n",
       "       [[29, 41, 44, ..., 19, 13, 23],\n",
       "        [18, 24, 16, ..., 41, 25, 32],\n",
       "        [28, 18, 22, ..., 31, 22, 36],\n",
       "        ...,\n",
       "        [42, 19, 38, ..., 37, 49, 11],\n",
       "        [27, 39, 20, ..., 24, 36, 28],\n",
       "        [12, 13, 43, ..., 25, 11, 41]],\n",
       "\n",
       "       [[36, 14, 30, ..., 22, 16, 28],\n",
       "        [24, 35, 39, ..., 25, 44, 20],\n",
       "        [22, 11, 40, ..., 36, 34, 32],\n",
       "        ...,\n",
       "        [13, 25, 27, ..., 12, 16, 14],\n",
       "        [19, 24, 43, ..., 35, 48, 19],\n",
       "        [44, 37, 26, ..., 12, 15, 43]]])"
      ]
     },
     "execution_count": 25,
     "metadata": {},
     "output_type": "execute_result"
    }
   ],
   "source": [
    "random_array1"
   ]
  },
  {
   "cell_type": "code",
   "execution_count": 26,
   "id": "ddfd2290-92d0-4fe3-a074-aba15bc797e9",
   "metadata": {},
   "outputs": [
    {
     "name": "stdout",
     "output_type": "stream",
     "text": [
      "[[27 43 37 11 34 41 47 47]\n",
      " [18 33 19 30 11 20 44 40]\n",
      " [17 27 44 33 19 29 32 15]\n",
      " [39 10 10 10 36 32 43 47]]\n"
     ]
    }
   ],
   "source": [
    "print(random_array1[4, :4, :9])"
   ]
  },
  {
   "cell_type": "code",
   "execution_count": 27,
   "id": "ac83be01-c201-45ca-8a2f-c4b3b51a2573",
   "metadata": {},
   "outputs": [
    {
     "name": "stdout",
     "output_type": "stream",
     "text": [
      "[[47 47]\n",
      " [44 40]\n",
      " [32 15]\n",
      " [43 47]]\n"
     ]
    }
   ],
   "source": [
    "print(random_array1[4, :4, -2: ])"
   ]
  },
  {
   "cell_type": "markdown",
   "id": "c0af5ad2-80f0-48bc-942a-98b4e367912d",
   "metadata": {},
   "source": [
    "## Boolean or Mask Indexing"
   ]
  },
  {
   "cell_type": "code",
   "execution_count": 28,
   "id": "c7fcab1e-a326-4913-ba07-27bdc7875772",
   "metadata": {},
   "outputs": [
    {
     "name": "stdout",
     "output_type": "stream",
     "text": [
      "[[1 2]\n",
      " [3 4]\n",
      " [5 6]]\n"
     ]
    }
   ],
   "source": [
    "a = np.array([[1,2], [3,4], [5,6]])\n",
    "print(a)"
   ]
  },
  {
   "cell_type": "code",
   "execution_count": 29,
   "id": "1173b2af-406e-40e8-afd7-0cee96e008b9",
   "metadata": {},
   "outputs": [
    {
     "data": {
      "text/plain": [
       "array([[False, False],\n",
       "       [False,  True],\n",
       "       [False, False]])"
      ]
     },
     "execution_count": 29,
     "metadata": {},
     "output_type": "execute_result"
    }
   ],
   "source": [
    "a == 4"
   ]
  },
  {
   "cell_type": "code",
   "execution_count": 30,
   "id": "41d5781b-6801-45b7-a9f6-f33236703a6f",
   "metadata": {},
   "outputs": [
    {
     "name": "stdout",
     "output_type": "stream",
     "text": [
      "[4]\n"
     ]
    }
   ],
   "source": [
    "mask = a ==4\n",
    "print(a[mask])"
   ]
  },
  {
   "cell_type": "code",
   "execution_count": 31,
   "id": "608a6021-775b-4339-a4a9-dd53824c3b12",
   "metadata": {},
   "outputs": [
    {
     "data": {
      "text/plain": [
       "array([[ True,  True],\n",
       "       [ True, False],\n",
       "       [False, False]])"
      ]
     },
     "execution_count": 31,
     "metadata": {},
     "output_type": "execute_result"
    }
   ],
   "source": [
    "mask = a < 4\n",
    "mask"
   ]
  },
  {
   "cell_type": "code",
   "execution_count": 32,
   "id": "b0aea1a8-82d7-4d03-bf54-c21fd445fcba",
   "metadata": {},
   "outputs": [
    {
     "name": "stdout",
     "output_type": "stream",
     "text": [
      "[1 2 3]\n"
     ]
    }
   ],
   "source": [
    "print(a[mask])"
   ]
  },
  {
   "cell_type": "code",
   "execution_count": 33,
   "id": "c74c5883-48f4-46e7-aaab-ce239bd769dc",
   "metadata": {},
   "outputs": [
    {
     "name": "stdout",
     "output_type": "stream",
     "text": [
      "[[1 2]\n",
      " [5 6]]\n"
     ]
    }
   ],
   "source": [
    "a = np.array([[1,2], [3,4], [5,6]])\n",
    "mask = np.array([True, False, True])\n",
    "\n",
    "print(a[mask])"
   ]
  },
  {
   "cell_type": "code",
   "execution_count": 34,
   "id": "77e669cf-1ceb-4802-b8b5-e4921f276785",
   "metadata": {},
   "outputs": [
    {
     "data": {
      "text/plain": [
       "array([ True, False,  True])"
      ]
     },
     "execution_count": 34,
     "metadata": {},
     "output_type": "execute_result"
    }
   ],
   "source": [
    "mask"
   ]
  },
  {
   "cell_type": "code",
   "execution_count": 35,
   "id": "f02112dc-a320-4ef2-b35a-9ac743b4d52e",
   "metadata": {},
   "outputs": [
    {
     "data": {
      "text/plain": [
       "array([[[15, 30, 22],\n",
       "        [23, 45, 37]],\n",
       "\n",
       "       [[13, 12, 13],\n",
       "        [43, 33, 29]],\n",
       "\n",
       "       [[12, 35, 42],\n",
       "        [13, 16, 28]],\n",
       "\n",
       "       [[25, 10, 40],\n",
       "        [19, 36, 16]],\n",
       "\n",
       "       [[18, 21, 18],\n",
       "        [39, 49, 43]]])"
      ]
     },
     "execution_count": 35,
     "metadata": {},
     "output_type": "execute_result"
    }
   ],
   "source": [
    "# Propertiese of NumPy\n",
    "\n",
    "# Shape\n",
    "\n",
    "arr = np.random.randint(low = 10, high = 50, size = (5,2,3))\n",
    "arr"
   ]
  },
  {
   "cell_type": "code",
   "execution_count": 36,
   "id": "6fac5b56-da6d-488a-b455-fdb1e0c7fae5",
   "metadata": {},
   "outputs": [
    {
     "data": {
      "text/plain": [
       "(5, 2, 3)"
      ]
     },
     "execution_count": 36,
     "metadata": {},
     "output_type": "execute_result"
    }
   ],
   "source": [
    "arr.shape"
   ]
  },
  {
   "cell_type": "code",
   "execution_count": 37,
   "id": "4354ec23-a2cd-45f7-8f17-c38d9b5b1460",
   "metadata": {},
   "outputs": [
    {
     "data": {
      "text/plain": [
       "dtype('int64')"
      ]
     },
     "execution_count": 37,
     "metadata": {},
     "output_type": "execute_result"
    }
   ],
   "source": [
    "arr.dtype"
   ]
  },
  {
   "cell_type": "code",
   "execution_count": 38,
   "id": "f1271702-7d71-4fd4-9ffc-d8e04ba5cb7c",
   "metadata": {},
   "outputs": [
    {
     "data": {
      "text/plain": [
       "3"
      ]
     },
     "execution_count": 38,
     "metadata": {},
     "output_type": "execute_result"
    }
   ],
   "source": [
    "arr.ndim # (shows the dimension)"
   ]
  },
  {
   "cell_type": "code",
   "execution_count": 39,
   "id": "157478b3-75cd-4a91-925a-9da566bb2005",
   "metadata": {},
   "outputs": [
    {
     "data": {
      "text/plain": [
       "array([[[15, 13, 12, 25, 18],\n",
       "        [23, 43, 13, 19, 39]],\n",
       "\n",
       "       [[30, 12, 35, 10, 21],\n",
       "        [45, 33, 16, 36, 49]],\n",
       "\n",
       "       [[22, 13, 42, 40, 18],\n",
       "        [37, 29, 28, 16, 43]]])"
      ]
     },
     "execution_count": 39,
     "metadata": {},
     "output_type": "execute_result"
    }
   ],
   "source": [
    "# Transpose\n",
    "\n",
    "arr.T"
   ]
  },
  {
   "cell_type": "code",
   "execution_count": 40,
   "id": "544da09a-f74c-4941-9579-09942f7ce2ac",
   "metadata": {},
   "outputs": [
    {
     "data": {
      "text/plain": [
       "(3, 2, 5)"
      ]
     },
     "execution_count": 40,
     "metadata": {},
     "output_type": "execute_result"
    }
   ],
   "source": [
    "arr.T.shape"
   ]
  },
  {
   "cell_type": "code",
   "execution_count": null,
   "id": "d1364631-06f1-4af5-bd88-233de98bbf15",
   "metadata": {},
   "outputs": [],
   "source": []
  },
  {
   "cell_type": "markdown",
   "id": "50d5f6fb-48a0-4c88-8b90-fed1aa1d35f4",
   "metadata": {},
   "source": [
    "## Method of NumPy"
   ]
  },
  {
   "cell_type": "code",
   "execution_count": 41,
   "id": "401cd12e-3023-41d9-ba69-d00590ba5c50",
   "metadata": {},
   "outputs": [
    {
     "data": {
      "text/plain": [
       "array([[[15, 30, 22],\n",
       "        [23, 45, 37]],\n",
       "\n",
       "       [[13, 12, 13],\n",
       "        [43, 33, 29]],\n",
       "\n",
       "       [[12, 35, 42],\n",
       "        [13, 16, 28]],\n",
       "\n",
       "       [[25, 10, 40],\n",
       "        [19, 36, 16]],\n",
       "\n",
       "       [[18, 21, 18],\n",
       "        [39, 49, 43]]])"
      ]
     },
     "execution_count": 41,
     "metadata": {},
     "output_type": "execute_result"
    }
   ],
   "source": [
    "# reshape\n",
    "\n",
    "arr.reshape(5,2,3)"
   ]
  },
  {
   "cell_type": "code",
   "execution_count": 42,
   "id": "a10d93c7-6422-465a-9917-7245ab923170",
   "metadata": {},
   "outputs": [
    {
     "data": {
      "text/plain": [
       "array([[[15, 30],\n",
       "        [22, 23],\n",
       "        [45, 37],\n",
       "        [13, 12],\n",
       "        [13, 43]],\n",
       "\n",
       "       [[33, 29],\n",
       "        [12, 35],\n",
       "        [42, 13],\n",
       "        [16, 28],\n",
       "        [25, 10]],\n",
       "\n",
       "       [[40, 19],\n",
       "        [36, 16],\n",
       "        [18, 21],\n",
       "        [18, 39],\n",
       "        [49, 43]]])"
      ]
     },
     "execution_count": 42,
     "metadata": {},
     "output_type": "execute_result"
    }
   ],
   "source": [
    "new_arr = arr.reshape(3,5,2)\n",
    "new_arr"
   ]
  },
  {
   "cell_type": "code",
   "execution_count": 43,
   "id": "7995a805-9f9a-452a-804a-8ac3cfefd1b0",
   "metadata": {},
   "outputs": [
    {
     "data": {
      "text/plain": [
       "(3, 5, 2)"
      ]
     },
     "execution_count": 43,
     "metadata": {},
     "output_type": "execute_result"
    }
   ],
   "source": [
    "new_arr.shape"
   ]
  },
  {
   "cell_type": "code",
   "execution_count": 44,
   "id": "4c5d17d7-97c7-48f0-996c-98561a199495",
   "metadata": {},
   "outputs": [
    {
     "data": {
      "text/plain": [
       "array([15, 30, 22, 23, 45, 37, 13, 12, 13, 43, 33, 29, 12, 35, 42, 13, 16,\n",
       "       28, 25, 10, 40, 19, 36, 16, 18, 21, 18, 39, 49, 43])"
      ]
     },
     "execution_count": 44,
     "metadata": {},
     "output_type": "execute_result"
    }
   ],
   "source": [
    "# ravel()\n",
    "new_arr.ravel() # Throws all elements of dimension in 1 dimension or one array"
   ]
  },
  {
   "cell_type": "code",
   "execution_count": 45,
   "id": "f9fbdee0-beb2-4e25-8a93-218a32520480",
   "metadata": {},
   "outputs": [
    {
     "data": {
      "text/plain": [
       "(3, 5, 2)"
      ]
     },
     "execution_count": 45,
     "metadata": {},
     "output_type": "execute_result"
    }
   ],
   "source": [
    "new_arr.shape"
   ]
  },
  {
   "cell_type": "code",
   "execution_count": 46,
   "id": "ee29fae7-3e17-48d6-b329-95afb61b28b6",
   "metadata": {},
   "outputs": [
    {
     "data": {
      "text/plain": [
       "array([15, 30, 22, 23, 45, 37, 13, 12, 13, 43, 33, 29, 12, 35, 42, 13, 16,\n",
       "       28, 25, 10, 40, 19, 36, 16, 18, 21, 18, 39, 49, 43])"
      ]
     },
     "execution_count": 46,
     "metadata": {},
     "output_type": "execute_result"
    }
   ],
   "source": [
    "# flatten()\n",
    "\n",
    "flat_arr = new_arr.flatten()\n",
    "flat_arr"
   ]
  },
  {
   "cell_type": "code",
   "execution_count": 47,
   "id": "5388c5f1-2104-4b20-a7ff-3c92acf204da",
   "metadata": {},
   "outputs": [
    {
     "data": {
      "text/plain": [
       "(30,)"
      ]
     },
     "execution_count": 47,
     "metadata": {},
     "output_type": "execute_result"
    }
   ],
   "source": [
    "flat_arr.shape"
   ]
  },
  {
   "cell_type": "code",
   "execution_count": 48,
   "id": "6754981b-8eea-4af3-bb99-cb4124711664",
   "metadata": {},
   "outputs": [
    {
     "data": {
      "text/plain": [
       "(5, 2, 3)"
      ]
     },
     "execution_count": 48,
     "metadata": {},
     "output_type": "execute_result"
    }
   ],
   "source": [
    "arr.shape"
   ]
  },
  {
   "cell_type": "code",
   "execution_count": 49,
   "id": "4ae8eb0e-b35a-49c3-a747-93bbdfd594ef",
   "metadata": {},
   "outputs": [
    {
     "data": {
      "text/plain": [
       "array([[38, 75, 59],\n",
       "       [56, 45, 42],\n",
       "       [25, 51, 70],\n",
       "       [44, 46, 56],\n",
       "       [57, 70, 61]])"
      ]
     },
     "execution_count": 49,
     "metadata": {},
     "output_type": "execute_result"
    }
   ],
   "source": [
    "# sum()\n",
    "\n",
    "arr.sum(axis = 1)  # 1 means row and 0 means column in axis"
   ]
  },
  {
   "cell_type": "code",
   "execution_count": 50,
   "id": "0535268c-2617-4f87-9af1-972d05e7c9e9",
   "metadata": {},
   "outputs": [
    {
     "data": {
      "text/plain": [
       "array([[[15, 30, 22],\n",
       "        [23, 45, 37]],\n",
       "\n",
       "       [[13, 12, 13],\n",
       "        [43, 33, 29]],\n",
       "\n",
       "       [[12, 35, 42],\n",
       "        [13, 16, 28]],\n",
       "\n",
       "       [[25, 10, 40],\n",
       "        [19, 36, 16]],\n",
       "\n",
       "       [[18, 21, 18],\n",
       "        [39, 49, 43]]])"
      ]
     },
     "execution_count": 50,
     "metadata": {},
     "output_type": "execute_result"
    }
   ],
   "source": [
    "arr"
   ]
  },
  {
   "cell_type": "code",
   "execution_count": 51,
   "id": "ee605c27-fb62-471b-80d9-77263128fd51",
   "metadata": {},
   "outputs": [
    {
     "data": {
      "text/plain": [
       "array([[ 83, 108, 135],\n",
       "       [137, 179, 153]])"
      ]
     },
     "execution_count": 51,
     "metadata": {},
     "output_type": "execute_result"
    }
   ],
   "source": [
    "arr.sum(axis = 0)"
   ]
  },
  {
   "cell_type": "code",
   "execution_count": 52,
   "id": "f114d003-57a9-4d90-960d-62f2a82010d5",
   "metadata": {},
   "outputs": [
    {
     "data": {
      "text/plain": [
       "array([[ 345, 1350,  814],\n",
       "       [ 559,  396,  377],\n",
       "       [ 156,  560, 1176],\n",
       "       [ 475,  360,  640],\n",
       "       [ 702, 1029,  774]])"
      ]
     },
     "execution_count": 52,
     "metadata": {},
     "output_type": "execute_result"
    }
   ],
   "source": [
    "\n",
    "arr.prod(axis = 1)"
   ]
  },
  {
   "cell_type": "code",
   "execution_count": 53,
   "id": "00717b3e-0aae-446e-a9b8-75e184c8e404",
   "metadata": {},
   "outputs": [
    {
     "data": {
      "text/plain": [
       "array([[1, 1, 1],\n",
       "       [1, 1, 1],\n",
       "       [1, 0, 0],\n",
       "       [0, 1, 0],\n",
       "       [1, 1, 1]])"
      ]
     },
     "execution_count": 53,
     "metadata": {},
     "output_type": "execute_result"
    }
   ],
   "source": [
    "arr.argmax(axis = 1)"
   ]
  },
  {
   "cell_type": "code",
   "execution_count": null,
   "id": "7ad12b11-33b5-45a4-8063-d3c749cfac02",
   "metadata": {},
   "outputs": [],
   "source": []
  }
 ],
 "metadata": {
  "kernelspec": {
   "display_name": "Python 3 (ipykernel)",
   "language": "python",
   "name": "python3"
  },
  "language_info": {
   "codemirror_mode": {
    "name": "ipython",
    "version": 3
   },
   "file_extension": ".py",
   "mimetype": "text/x-python",
   "name": "python",
   "nbconvert_exporter": "python",
   "pygments_lexer": "ipython3",
   "version": "3.12.3"
  }
 },
 "nbformat": 4,
 "nbformat_minor": 5
}
