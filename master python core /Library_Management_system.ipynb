{
 "cells": [
  {
   "cell_type": "markdown",
   "id": "6cb2bec1-f2c3-4cf8-99a5-d6917ba22960",
   "metadata": {},
   "source": [
    "# Python Mastery Assignment"
   ]
  },
  {
   "cell_type": "markdown",
   "id": "7e4b38e5-44fd-42fd-81e9-34281e209f00",
   "metadata": {},
   "source": [
    "### 1. Object-Oriented Programming (OOP):\n",
    "\n",
    "#### Task: Build a library management system using OOP principles.\n",
    "\n",
    "**Classes:**\n",
    "\n",
    "- `Book`: Contains attributes like title, author, ISBN, and availability.\n",
    "- `Member`: Attributes such as name, member_id, and borrowed_books.\n",
    "- `Librarian`: Inherits from Member, with additional methods like adding and removing books.\n",
    "- `Library`: Handles inventory and membership, allowing borrowing and returning of books.\n",
    "\n",
    "**Concepts to Implement:**\n",
    "\n",
    "- `Encapsulation`: Keep book data private, but expose methods to check availability.\n",
    "- `Inheritance`: Librarian inherits from Member.\n",
    "- `Polymorphism`: Implement __str__ methods for each class to customize output.\n",
    "\n",
    "**Advanced Features:**\n",
    "\n",
    "- Implement __iter__ in Library to iterate over the collection of books.\n",
    "- Override methods for better functionality (e.g., __eq__, __lt__ for comparing books)."
   ]
  },
  {
   "cell_type": "code",
   "execution_count": 7,
   "id": "f261ff37-2d95-46e7-a230-2890fe115726",
   "metadata": {},
   "outputs": [],
   "source": [
    "class Book:\n",
    "    def __init__(self, title, author, ISBN, is_available = False):\n",
    "        self.title = title\n",
    "        self.author = author\n",
    "        self.ISBN = ISBN\n",
    "        self.is_avaiable = False\n",
    "        \n",
    "\n",
    "class Member: \n",
    "    def __init__(self,name,member_id):\n",
    "        self.name = name\n",
    "        self.__member_id = member_id\n",
    "        self._borrowed_books = []\n",
    "        self.borrow = Library()\n",
    "   \n",
    "    def member_id(self):\n",
    "        return self.__member_id\n",
    "        \n",
    "    def borrowed_book(self):\n",
    "        return self.borrowed_book\n",
    "    def __str__(self):\n",
    "        return f'''\n",
    "        Name : {self.name},\n",
    "        Member_Id: {self.member_id}\n",
    "        Borrowed_books : {self._borrowed_books}\n",
    "        '''\n",
    "        \n",
    "class Librarian(Member, Library): \n",
    "    def __init__(self,name,member_id):\n",
    "        super().__init(self,name,member_id)\n",
    "        self.position = \"Librarian\"\n",
    "        \n",
    "    def __str__(self):\n",
    "        return f'''\n",
    "        Name : {self.name},\n",
    "        Member_Id: {self.member_id}\n",
    "        Positon : {self.position}\n",
    "        '''\n",
    "        \n",
    "    def add_book(self, bookName):\n",
    "        Library.books.append(bookName)\n",
    "        print(f\"{bookName} added in Library successfully!!!\")\n",
    "        \n",
    "    def remove_book(self,bookName):\n",
    "        Library.book.remove(bookName)\n",
    "        print(f\"{bookName} added in Library successfully!!!\")\n",
    "        \n",
    "# Library: Handles inventory and membership, allowing borrowing and returning of books.\n",
    "\n",
    "class Library:\n",
    "    def __init__(self):\n",
    "        self.__books = []\n",
    "    \n",
    "    def borrow_books(self, bookName):\n",
    "        \n",
    "        if bookName in books:\n",
    "            self.borrowed_books.append(bookName)\n",
    "            self.__books.remove(bookName)\n",
    "            print(f\"{bookName} book is borrowed by {self.name}\")\n",
    "            \n",
    "    def return_book(self,bookName):\n",
    "        if bookName in self.borrowed_books:\n",
    "            self.borrowed_books.remove(bookName)\n",
    "            Library.__books.append(bookName)\n",
    "            print(f\"{bookName} book is returned by {self.name}\")\n",
    "    \n",
    "    def __iter__(self):\n",
    "        return Library.books\n",
    "        \n",
    "    def __next__(self):\n",
    "        while True:\n",
    "            try :\n",
    "                return Library.books\n",
    "            \n",
    "            except StopIteration as e :\n",
    "                break\n",
    "    "
   ]
  },
  {
   "cell_type": "markdown",
   "id": "3c514771-82fe-4ac0-a61c-8309e1637609",
   "metadata": {},
   "source": [
    "### 2. Generators:\n",
    "\n",
    "#### Task: Implement a generator function that simulates a book borrowing queue in the library system.\n",
    "\n",
    "- Create a borrow_queue generator that yields the next member in the queue when a book becomes available.\n",
    "- Use it in the Library class to manage borrow requests dynamically.\n"
   ]
  },
  {
   "cell_type": "code",
   "execution_count": null,
   "id": "0f099423-fdca-4bd3-ba20-88550b9c8185",
   "metadata": {},
   "outputs": [],
   "source": []
  },
  {
   "cell_type": "markdown",
   "id": "6b6fa21c-bcda-45e6-9acd-e10b02b9fb77",
   "metadata": {},
   "source": [
    "### 3. Decorators:\n",
    "#### Task: Write a logging system using decorators to track member activity.\n",
    "\n",
    "- Implement a decorator @log_activity to log every time a member borrows or returns a book.\n",
    "- The log should record the member's name, book title, and timestamp.\n"
   ]
  },
  {
   "cell_type": "code",
   "execution_count": null,
   "id": "dacdb4a9-74a3-4715-be93-52ee2309a926",
   "metadata": {},
   "outputs": [],
   "source": [
    "def log_activity(func):\n",
    "    def wrapper(self,bookName):\n",
    "        if "
   ]
  },
  {
   "cell_type": "markdown",
   "id": "08fff1a1-fbd8-4cfb-a3ab-a11d160a3afc",
   "metadata": {},
   "source": [
    "### 4. Metaclasses:\n",
    "#### Task: Create a metaclass that automatically registers each subclass of Member in a global registry, so you can track all member types (Member, Librarian, etc.).\n",
    "\n",
    "Implement a MetaMember metaclass that registers each class and allows easy lookup."
   ]
  },
  {
   "cell_type": "code",
   "execution_count": null,
   "id": "817ce6e2-9c07-4563-8908-d4bee7efd87e",
   "metadata": {},
   "outputs": [],
   "source": []
  },
  {
   "cell_type": "markdown",
   "id": "6ee0c8f7-d180-42ee-9c88-b6a8aa243991",
   "metadata": {},
   "source": [
    "### 5. Context Managers:\n",
    "#### Task: Implement a context manager that handles the opening and closing of a file where book inventory is saved.\n",
    "\n",
    "- Use with statements to automatically write changes to the file when adding or removing books.\n",
    "- Make sure to include exception handling to ensure file integrity.\n"
   ]
  },
  {
   "cell_type": "code",
   "execution_count": null,
   "id": "732c7ee2-7cff-41e5-9dcf-3cf67d5bc48e",
   "metadata": {},
   "outputs": [],
   "source": []
  },
  {
   "cell_type": "markdown",
   "id": "2a233df3-bfc0-4446-ac04-37b3a3009b29",
   "metadata": {},
   "source": [
    "### 6. Concurrency (Asyncio or Threading):\n",
    "#### Task: Simulate multiple members borrowing and returning books simultaneously.\n",
    "\n",
    "- Use asyncio to handle multiple members accessing the library system at the same time without blocking the main thread.\n",
    "- Ensure that no two members can borrow the same book at the same time.\n"
   ]
  },
  {
   "cell_type": "code",
   "execution_count": null,
   "id": "b68e5c25-33c4-456c-97e8-701775ae8776",
   "metadata": {},
   "outputs": [],
   "source": []
  },
  {
   "cell_type": "markdown",
   "id": "1d342923-5173-44f4-ba10-8ad155328f71",
   "metadata": {},
   "source": [
    "### 7. Unit Testing:\n",
    "#### Task: Write unit tests for each major functionality.\n",
    "\n",
    "- Test book borrowing, returning, member registration, and queue management.\n",
    "- Use Python’s unittest or pytest framework to write these tests.\n"
   ]
  },
  {
   "cell_type": "code",
   "execution_count": null,
   "id": "eac55260-cb5d-48a1-b9bc-2f5a746da965",
   "metadata": {},
   "outputs": [],
   "source": []
  }
 ],
 "metadata": {
  "kernelspec": {
   "display_name": "Python 3 (ipykernel)",
   "language": "python",
   "name": "python3"
  },
  "language_info": {
   "codemirror_mode": {
    "name": "ipython",
    "version": 3
   },
   "file_extension": ".py",
   "mimetype": "text/x-python",
   "name": "python",
   "nbconvert_exporter": "python",
   "pygments_lexer": "ipython3",
   "version": "3.12.3"
  }
 },
 "nbformat": 4,
 "nbformat_minor": 5
}
