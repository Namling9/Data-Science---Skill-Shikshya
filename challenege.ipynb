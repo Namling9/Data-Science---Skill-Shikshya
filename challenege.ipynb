{
 "cells": [
  {
   "cell_type": "code",
   "execution_count": 1,
   "id": "9517618b-5604-4d2a-bedd-8434ffb28cdd",
   "metadata": {},
   "outputs": [
    {
     "name": "stdin",
     "output_type": "stream",
     "text": [
      "Enter the number:  5\n"
     ]
    },
    {
     "name": "stdout",
     "output_type": "stream",
     "text": [
      "Odd: 5\n"
     ]
    }
   ],
   "source": [
    "ans = int(input(\"Enter the number: \"))\n",
    "\n",
    "if ans%2 == 0:\n",
    "    print(f\"Even: {ans}\")\n",
    "else:\n",
    "    print(f\"Odd: {ans}\")"
   ]
  },
  {
   "cell_type": "code",
   "execution_count": 7,
   "id": "9e5f5d30-998c-4e78-affd-f7d02ec39748",
   "metadata": {},
   "outputs": [
    {
     "name": "stdout",
     "output_type": "stream",
     "text": [
      "Highest: 9, Lowest: 0\n"
     ]
    }
   ],
   "source": [
    "i = \"0124392566\"\n",
    "\n",
    "print(f\"Highest: {max(i)}, Lowest: {min(i)}\")"
   ]
  },
  {
   "cell_type": "code",
   "execution_count": 15,
   "id": "746cee4a-ab58-4b1d-9039-c93a14e03126",
   "metadata": {},
   "outputs": [
    {
     "name": "stdout",
     "output_type": "stream",
     "text": [
      "Number of words: 3\n"
     ]
    }
   ],
   "source": [
    "sentence = \"Python is fun\"\n",
    "n = len(sentence.split())\n",
    "print(f\"Number of words: {n}\")"
   ]
  },
  {
   "cell_type": "code",
   "execution_count": 16,
   "id": "a0a5f107-dedd-462b-a5e4-55411759c796",
   "metadata": {},
   "outputs": [
    {
     "name": "stdin",
     "output_type": "stream",
     "text": [
      "Enter the posivite number:  12345\n"
     ]
    }
   ],
   "source": [
    "i = int(input(\"Enter the posivite number: \"))\n",
    "j = str(i)\n",
    "total = 0\n",
    "if i < 0:\n",
    "    for i in j:\n",
    "        total += int(i)"
   ]
  },
  {
   "cell_type": "code",
   "execution_count": 24,
   "id": "cf30a6c5-9c50-4347-8995-cc546dd5210a",
   "metadata": {},
   "outputs": [
    {
     "name": "stdin",
     "output_type": "stream",
     "text": [
      "Enter the year:  2024\n"
     ]
    },
    {
     "name": "stdout",
     "output_type": "stream",
     "text": [
      "2024 is a leap year \n"
     ]
    }
   ],
   "source": [
    "\n",
    "year = int(input(\"Enter the year: \"))\n",
    "\n",
    "if year % 400 == 0 or year % 4== 0 and year%100 != 0:\n",
    "    print(f\"{year} is a leap year \")\n",
    "else:\n",
    "    print(\"Not a leap year\")"
   ]
  },
  {
   "cell_type": "code",
   "execution_count": 27,
   "id": "1dcf8f3e-cbe8-458e-9c09-2ae7bfafd3fe",
   "metadata": {},
   "outputs": [
    {
     "name": "stdout",
     "output_type": "stream",
     "text": [
      "madam is a palindrome\n"
     ]
    }
   ],
   "source": [
    "\n",
    "inp = \"madam\"\n",
    "re_inp = inp[::-1]\n",
    "\n",
    "if inp == re_inp:\n",
    "    print(f\"{inp} is a palindrome\")\n",
    "else:\n",
    "    print(f\"{inp} is not a palindrome\")"
   ]
  },
  {
   "cell_type": "code",
   "execution_count": 30,
   "id": "b395b800-0843-4053-af26-1833af2fce04",
   "metadata": {},
   "outputs": [
    {
     "name": "stdout",
     "output_type": "stream",
     "text": [
      "120\n"
     ]
    }
   ],
   "source": [
    "import math\n",
    "n = 5 \n",
    "\n",
    "print(math.factorial(n))"
   ]
  },
  {
   "cell_type": "code",
   "execution_count": 3,
   "id": "21745473-96f3-4ce1-989e-bce5149045b3",
   "metadata": {},
   "outputs": [
    {
     "name": "stdin",
     "output_type": "stream",
     "text": [
      "Enter the number: 5\n"
     ]
    },
    {
     "name": "stdout",
     "output_type": "stream",
     "text": [
      "1^2: 1\n",
      "2^2: 4\n",
      "3^2: 9\n",
      "4^2: 16\n",
      "5^2: 25\n"
     ]
    },
    {
     "data": {
      "text/plain": [
       "[('1^2:', 1), ('2^2:', 4), ('3^2:', 9), ('4^2:', 16), ('5^2:', 25)]"
      ]
     },
     "execution_count": 3,
     "metadata": {},
     "output_type": "execute_result"
    }
   ],
   "source": [
    "n = int(input(\"Enter the number:\"))\n",
    "\n",
    "for i in range(1,n+1):\n",
    "    print(f\"{i}^2: {i**2}\")\n",
    "\n",
    "lst = [(f\"{i}^2:\",i**2) for i in range(1,n+1)]\n",
    "lst"
   ]
  },
  {
   "cell_type": "code",
   "execution_count": 8,
   "id": "a6c9cf38-34ab-47cb-a970-b1cff93f3feb",
   "metadata": {},
   "outputs": [
    {
     "name": "stdout",
     "output_type": "stream",
     "text": [
      "Total vowels found in sentence is: 5\n"
     ]
    }
   ],
   "source": [
    "vowel = \"aeiouAEIOU\"\n",
    "inp = \"Hello world from python\"\n",
    "\n",
    "count = sum(1 for char in inp if char in vowel)\n",
    "print(f\"Total vowels found in sentence is: {count}\")"
   ]
  },
  {
   "cell_type": "code",
   "execution_count": 49,
   "id": "f1875a3c-cb23-4712-ab14-26ed09ee5850",
   "metadata": {},
   "outputs": [
    {
     "name": "stdin",
     "output_type": "stream",
     "text": [
      "Enter the number:  15\n"
     ]
    },
    {
     "name": "stdout",
     "output_type": "stream",
     "text": [
      "Fizz\n",
      "Buzz\n"
     ]
    }
   ],
   "source": [
    "inp = int(input(\"Enter the number: \"))\n",
    "\n",
    "for i in range(1,n+1):\n",
    "    if i%3 == 0:\n",
    "        print(\"Fizz\")\n",
    "    elif i%5 == 0:\n",
    "        print(\"Buzz\")\n",
    "    elif i%3== 0 and i%5==0:\n",
    "        print(\"FizzBuzz\")\n"
   ]
  },
  {
   "cell_type": "code",
   "execution_count": 56,
   "id": "2e7ce8e4-f033-4a8f-88fe-0acdeb953a6d",
   "metadata": {},
   "outputs": [
    {
     "name": "stdout",
     "output_type": "stream",
     "text": [
      "1\n",
      "12\n",
      "123\n",
      "1234\n",
      "12345\n"
     ]
    }
   ],
   "source": [
    "n = 5\n",
    "\n",
    "for i in range(1,n+1):\n",
    "    for j in range(1,i+1):\n",
    "        print(j, end = \"\")\n",
    "    print()"
   ]
  },
  {
   "cell_type": "code",
   "execution_count": 60,
   "id": "884571ef-521f-442e-9656-d258b5474cee",
   "metadata": {},
   "outputs": [
    {
     "name": "stdout",
     "output_type": "stream",
     "text": [
      "[{'Hello': 5}, {'world': 5}, {'from': 4}, {'python': 6}]\n"
     ]
    }
   ],
   "source": [
    "def dict_function(sentence):\n",
    "    words = sentence.split()\n",
    "    dicct = [{word:len(word)} for word in words]\n",
    "    return dicct\n",
    "\n",
    "sentence = \"Hello world from python\"\n",
    "print(dict_function(sentence))"
   ]
  },
  {
   "cell_type": "code",
   "execution_count": 63,
   "id": "a0a8274c-1fc7-4d91-8283-dfe0244874b3",
   "metadata": {},
   "outputs": [
    {
     "name": "stdout",
     "output_type": "stream",
     "text": [
      "[{'Alice': 85}, {'Bob': 92}, {'Charlie': 78}]\n"
     ]
    }
   ],
   "source": [
    "students = ['Alice', 'Bob', 'Charlie']\n",
    "marks = [85,92,78]\n",
    "dic = [{i:j} for i,j in zip(students,marks)]\n",
    "print(dic)"
   ]
  },
  {
   "cell_type": "code",
   "execution_count": null,
   "id": "d8eb2d87-53f8-47a7-b491-aebdb326ba8a",
   "metadata": {},
   "outputs": [],
   "source": []
  }
 ],
 "metadata": {
  "kernelspec": {
   "display_name": "Python 3 (ipykernel)",
   "language": "python",
   "name": "python3"
  },
  "language_info": {
   "codemirror_mode": {
    "name": "ipython",
    "version": 3
   },
   "file_extension": ".py",
   "mimetype": "text/x-python",
   "name": "python",
   "nbconvert_exporter": "python",
   "pygments_lexer": "ipython3",
   "version": "3.12.3"
  }
 },
 "nbformat": 4,
 "nbformat_minor": 5
}
