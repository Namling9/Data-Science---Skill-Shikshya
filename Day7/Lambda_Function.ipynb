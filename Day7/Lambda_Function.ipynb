{
 "cells": [
  {
   "cell_type": "code",
   "execution_count": 2,
   "id": "a68be3d5-60ff-470a-bc36-f9159b620b0d",
   "metadata": {},
   "outputs": [
    {
     "name": "stdout",
     "output_type": "stream",
     "text": [
      "8\n"
     ]
    }
   ],
   "source": [
    "# syntax\n",
    "#lambda arguments : expression\n",
    "\n",
    "# example\n",
    "\n",
    "sum1 = lambda a,b: a+b\n",
    "result = sum1(3,5)\n",
    "print(result)\n"
   ]
  },
  {
   "cell_type": "code",
   "execution_count": 3,
   "id": "3b3b5bc9-b1cd-4485-b16e-a05d7edc8b26",
   "metadata": {},
   "outputs": [
    {
     "name": "stdout",
     "output_type": "stream",
     "text": [
      "154\n"
     ]
    }
   ],
   "source": [
    "def area(length,breadth,height):\n",
    "    result = 2 * height * (length + breadth)\n",
    "    return result\n",
    "\n",
    "print(area(5,6,7)) #154"
   ]
  },
  {
   "cell_type": "code",
   "execution_count": 4,
   "id": "14c3e39c-a341-4c2d-855c-5b8c808c056c",
   "metadata": {},
   "outputs": [
    {
     "data": {
      "text/plain": [
       "154"
      ]
     },
     "execution_count": 4,
     "metadata": {},
     "output_type": "execute_result"
    }
   ],
   "source": [
    "area = lambda length,breadth,height: 2*height*(length+breadth)\n",
    "area(5,6,7)"
   ]
  },
  {
   "cell_type": "code",
   "execution_count": 7,
   "id": "f20f1eb7-998d-46f7-b971-5069c8658c01",
   "metadata": {},
   "outputs": [
    {
     "name": "stdout",
     "output_type": "stream",
     "text": [
      "[1, 4, 9, 16, 25]\n"
     ]
    }
   ],
   "source": [
    "# Map\n",
    "\n",
    "my_list = [1,2,3,4,5]\n",
    "square = list(map(lambda x: x**2, my_list))\n",
    "print(square)"
   ]
  },
  {
   "cell_type": "code",
   "execution_count": 9,
   "id": "70bbca6e-e806-4844-af6b-88d7dc9e2a8f",
   "metadata": {},
   "outputs": [
    {
     "name": "stdout",
     "output_type": "stream",
     "text": [
      "[1, 2, 3, 4, 5]\n"
     ]
    },
    {
     "data": {
      "text/plain": [
       "list"
      ]
     },
     "execution_count": 9,
     "metadata": {},
     "output_type": "execute_result"
    }
   ],
   "source": [
    "# Map\n",
    "\n",
    "string_list = ['1','2','3','4','5']\n",
    "int_list = list(map(int,string_list))\n",
    "print(int_list)\n",
    "type(int_list)"
   ]
  },
  {
   "cell_type": "code",
   "execution_count": 11,
   "id": "b48fdfb3-8762-4193-aa01-a51d44297e9e",
   "metadata": {},
   "outputs": [
    {
     "name": "stdout",
     "output_type": "stream",
     "text": [
      "120\n"
     ]
    }
   ],
   "source": [
    "from functools import reduce\n",
    "\n",
    "my_list = [1,2,3,4,5]\n",
    "facto = reduce(lambda x,y: x*y, my_list)\n",
    "print(facto)"
   ]
  },
  {
   "cell_type": "code",
   "execution_count": 12,
   "id": "afc31bb0-61b5-4198-b11e-879fb41c3bb7",
   "metadata": {},
   "outputs": [
    {
     "data": {
      "text/plain": [
       "False"
      ]
     },
     "execution_count": 12,
     "metadata": {},
     "output_type": "execute_result"
    }
   ],
   "source": [
    "# filter()\n",
    "\n",
    "func = lambda x : x % 2 ==0\n",
    "func(5)\n"
   ]
  },
  {
   "cell_type": "code",
   "execution_count": 15,
   "id": "ec665e67-d063-40bb-a68a-a6608bcb3072",
   "metadata": {},
   "outputs": [
    {
     "name": "stdout",
     "output_type": "stream",
     "text": [
      "['egg', 'meat', 'milk']\n"
     ]
    }
   ],
   "source": [
    "# filter()\n",
    "\n",
    "my_list = ['egg','meat','milk']\n",
    "filter_list = list(filter(lambda x: x != '', my_list))\n",
    "print(filter_list)"
   ]
  },
  {
   "cell_type": "code",
   "execution_count": null,
   "id": "0b4004a0-95f2-4978-b175-6ae1ad534c79",
   "metadata": {},
   "outputs": [],
   "source": []
  }
 ],
 "metadata": {
  "kernelspec": {
   "display_name": "Python 3 (ipykernel)",
   "language": "python",
   "name": "python3"
  },
  "language_info": {
   "codemirror_mode": {
    "name": "ipython",
    "version": 3
   },
   "file_extension": ".py",
   "mimetype": "text/x-python",
   "name": "python",
   "nbconvert_exporter": "python",
   "pygments_lexer": "ipython3",
   "version": "3.12.3"
  }
 },
 "nbformat": 4,
 "nbformat_minor": 5
}
