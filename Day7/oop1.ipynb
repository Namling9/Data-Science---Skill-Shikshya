{
 "cells": [
  {
   "cell_type": "code",
   "execution_count": 2,
   "id": "7a094516-b6d4-4734-b874-4236ba7c3486",
   "metadata": {},
   "outputs": [
    {
     "data": {
      "text/plain": [
       "10"
      ]
     },
     "execution_count": 2,
     "metadata": {},
     "output_type": "execute_result"
    }
   ],
   "source": [
    "# Class and object\n",
    "\n",
    "class Calculator:\n",
    "\n",
    "    def __init__(self,num1,num2):\n",
    "\n",
    "        self.num1 = num1\n",
    "        self.num2 = num2\n",
    "\n",
    "    def sum(self):\n",
    "        return self.num1+self.num2\n",
    "\n",
    "sum1 = Calculator(5,5)\n",
    "sum1.sum()\n",
    "        "
   ]
  },
  {
   "cell_type": "code",
   "execution_count": 3,
   "id": "d68a4f15-2a0c-412e-97f1-6adcf1ee548e",
   "metadata": {},
   "outputs": [
    {
     "name": "stdout",
     "output_type": "stream",
     "text": [
      "0\n"
     ]
    }
   ],
   "source": [
    "class Person : \n",
    "    count = 0\n",
    "\n",
    "    def __init__(self,name,age):\n",
    "        self.name = name\n",
    "        self.age = age\n",
    "        Person.count +=1\n",
    "\n",
    "    @classmethod\n",
    "    def GetCount(cls):\n",
    "        return clas.count\n",
    "\n",
    "    @staticmethod\n",
    "    def GetFullName(FirstName,LastName):\n",
    "        return FirstName+LastName\n",
    "\n",
    "\n",
    "print(Person.count)"
   ]
  },
  {
   "cell_type": "code",
   "execution_count": null,
   "id": "4824b2b3-5e31-4cff-a187-b21ec3c603a8",
   "metadata": {},
   "outputs": [],
   "source": [
    "person1 = Person(\"Namling\",21)\n",
    "Person.GetCount()"
   ]
  }
 ],
 "metadata": {
  "kernelspec": {
   "display_name": "Python 3 (ipykernel)",
   "language": "python",
   "name": "python3"
  },
  "language_info": {
   "codemirror_mode": {
    "name": "ipython",
    "version": 3
   },
   "file_extension": ".py",
   "mimetype": "text/x-python",
   "name": "python",
   "nbconvert_exporter": "python",
   "pygments_lexer": "ipython3",
   "version": "3.12.3"
  }
 },
 "nbformat": 4,
 "nbformat_minor": 5
}
